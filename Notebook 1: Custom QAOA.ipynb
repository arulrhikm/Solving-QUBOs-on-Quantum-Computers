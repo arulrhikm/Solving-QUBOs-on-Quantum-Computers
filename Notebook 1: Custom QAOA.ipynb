{
  "cells": [
    {
      "cell_type": "markdown",
      "metadata": {
        "id": "1HlN7rrXTByz"
      },
      "source": [
        "#Solving QUBOs with Qiskit [Custom-built Circuit] QAOA\n",
        "\n",
        "Date: December 4th, 2023\n",
        "\n",
        "The notebook contains materials supporting the tutorial paper:\n",
        "*Five Starter Problems: Solving QUBOs on Quantum Computers* by Arul Rhik Mazumder (arulm@andrew.cmu.edu) and Sridhar Tayur (stayur@cmu.edu).\n",
        "It depends on various packages shown below."
      ]
    },
    {
      "cell_type": "markdown",
      "metadata": {
        "id": "ljLcbU9NTUR1"
      },
      "source": [
        "### **Introduction**\n",
        "\n",
        "Qiskit is an open-source quantum computing software development framework that allows researchers, developers, and enthusiasts to work with quantum computers and quantum algorithms. It is developed by IBM and provides tools and libraries for programming and running quantum circuits on real quantum hardware and simulators.\n",
        "\n",
        "Qiskit is one of the best Quantum Circuit creation tools available online, but has a slight learning curve. It requires users to understand some the mathematics behind quantum computing which requires both linear algebra and probability theory.\n",
        "\n",
        "Although this code is technically the hardest to set up and least refined, it provides the highest customizability to solving QUBOs to QAOA. Unlike Qiskit and OpenQAOA SDKs which require the user to choose from a list of cost Hamiltonians, mixer Hamiltonians, optimizers, etc., this vanilla implementation allows the user to custom-define all these aspects. While this implementation uses Qiskit features for the basic circuit creation process, it does not utilize any of the built-in circuits that Qiskit Optimization provides. Thus this implementation is best when trying to modify mixer Hamiltonians or experiment with optimizers like Ant Colony Swarm Optimization.\n",
        "\n",
        "Further information can be found at the Qiskit Textbook:\n",
        "https://qiskit.org/learn"
      ]
    },
    {
      "cell_type": "code",
      "execution_count": 1,
      "metadata": {},
      "outputs": [],
      "source": [
        "# pip install pylatexenc"
      ]
    },
    {
      "cell_type": "code",
      "execution_count": 1,
      "metadata": {
        "colab": {
          "base_uri": "https://localhost:8080/"
        },
        "id": "aysJxZydxAXe",
        "outputId": "906bcc5a-f9d8-4266-ce5c-f28ee7193014"
      },
      "outputs": [],
      "source": [
        "try:\n",
        "  import google.colab\n",
        "  IN_COLAB = True\n",
        "except:\n",
        "  IN_COLAB = False\n",
        "if IN_COLAB:\n",
        "  !pip install -q qiskit==0.39.2\n",
        "  !pip install -q qiskit-optimization==0.5.0\n",
        "  !pip install -q qiskit[visualization]==0.39.2\n",
        "  print(\"All Packages Installed!\")"
      ]
    },
    {
      "cell_type": "code",
      "execution_count": 2,
      "metadata": {
        "id": "uqd4hjpEJJu4"
      },
      "outputs": [],
      "source": [
        "# Misc. Imports\n",
        "import math\n",
        "import time\n",
        "from numpy import pi\n",
        "import networkx as nx\n",
        "import numpy as np\n",
        "import matplotlib.pyplot as plt\n",
        "from docplex.mp.model import Model\n",
        "from scipy.optimize import minimize\n",
        "from collections import defaultdict, Counter\n",
        "\n",
        "# Qiskit Imports\n",
        "from qiskit import QuantumCircuit, QuantumRegister, ClassicalRegister, transpile\n",
        "from qiskit_aer import Aer\n",
        "from qiskit_optimization.converters import QuadraticProgramToQubo\n",
        "from qiskit_optimization import QuadraticProgram\n",
        "from qiskit.visualization import plot_histogram, circuit_drawer\n",
        "from qiskit_optimization.translators import from_docplex_mp"
      ]
    },
    {
      "cell_type": "markdown",
      "metadata": {
        "id": "uevWKzYXTGw7"
      },
      "source": [
        "### **Introduction - Custom Circuit Construction**\n",
        " Regardless of the problem addressed, the vanilla QAOA implementation requires a Cost Hamiltonian, Mixer Hamiltonian, and QAOA Circuit. Thus will implement this once below to reuse across many problems."
      ]
    },
    {
      "cell_type": "markdown",
      "metadata": {
        "id": "SKOMjxMpWAdj"
      },
      "source": [
        " The cost Hamiltonian encodes the objective function of the optimization problem you want to solve. It's typically a sum of terms, each associated with a specific constraint or cost in your optimization problem. The terms in H_C are represented as a weighted sum of Pauli-Z operators acting on one or more qubits. The weights represent the cost or penalty associated with violating the corresponding constraints."
      ]
    },
    {
      "cell_type": "code",
      "execution_count": 3,
      "metadata": {
        "id": "sik_m0pzJjpT"
      },
      "outputs": [],
      "source": [
        "def cost_H(gamma, quadratics, linears):\n",
        "  qc = QuantumCircuit(num_qubits, num_qubits)\n",
        "  for i in range(len(linears)):\n",
        "    qc.rz(1/2*(linears[(0, i)]+sum(quadratics[(i, j)] for j in range(num_qubits)))*gamma, i)\n",
        "\n",
        "  for (i, j) in quadratics.keys():\n",
        "    if i!=j:\n",
        "      qc.rzz((1/4)*quadratics[(i, j)]*gamma, i, j)\n",
        "\n",
        "  qc.barrier()\n",
        "  return qc"
      ]
    },
    {
      "cell_type": "markdown",
      "metadata": {
        "id": "G8lIQrqzWCkk"
      },
      "source": [
        "This Hamiltonian is chosen to be a simple operator that can prepare superposition states. It usually takes the form of a sum of single-qubit X operators or other Pauli-X operators acting on individual qubits. Its purpose is to create superposition in the quantum state."
      ]
    },
    {
      "cell_type": "code",
      "execution_count": 4,
      "metadata": {
        "id": "i8kouYV-JxXJ"
      },
      "outputs": [],
      "source": [
        "def mixer_H(beta):\n",
        "  qc = QuantumCircuit(num_qubits, num_qubits)\n",
        "  for i in range(num_qubits):\n",
        "    qc.rx(2*beta, i)\n",
        "  qc.barrier()\n",
        "  return qc"
      ]
    },
    {
      "cell_type": "markdown",
      "metadata": {
        "id": "LfQItHGnWbQG"
      },
      "source": [
        "The Quantum Approximate Optimization Algorithm (QAOA) circuit is a parameterized quantum circuit used to find approximate solutions to combinatorial optimization problems. It comprises an initial superposition state, alternating sequences of mixer operators (e.g., Pauli-X gates) and cost Hamiltonian operators (encoding the problem's objective function), parameterized angles for these operators, and repeated steps to control circuit depth. By adjusting the parameters and measuring the quantum state at the end, QAOA aims to find optimal angles that minimize the expected value of the cost function, providing approximate solutions to a wide range of optimization problems."
      ]
    },
    {
      "cell_type": "code",
      "execution_count": 5,
      "metadata": {
        "id": "6l9TEh6eJ0Jg"
      },
      "outputs": [],
      "source": [
        "def circuit(gammas, betas, quadratics, linears):\n",
        "  circuit = QuantumCircuit(num_qubits, num_qubits)\n",
        "  assert(len(betas) == len(gammas))\n",
        "  p = len(betas)\n",
        "\n",
        "  for i in range(num_qubits):\n",
        "    circuit.h(i)\n",
        "  circuit.barrier()\n",
        "\n",
        "  for i in range(p):\n",
        "    circuit &= cost_H(gammas[i], quadratics, linears)\n",
        "    circuit &= mixer_H(betas[i])\n",
        "\n",
        "  circuit.measure(range(num_qubits), range(num_qubits))\n",
        "\n",
        "  return circuit"
      ]
    },
    {
      "cell_type": "code",
      "execution_count": 6,
      "metadata": {
        "id": "QuvzX2WuRSAo"
      },
      "outputs": [],
      "source": [
        "def find_most_common_solutions(input_dict, n):\n",
        "    sorted_keys = sorted(input_dict, key=input_dict.get, reverse=True)\n",
        "    return sorted_keys[:n]"
      ]
    },
    {
      "cell_type": "markdown",
      "metadata": {
        "id": "eyck6suSIcPc"
      },
      "source": [
        "### **Example 1 - Number Partitioning Problem**"
      ]
    },
    {
      "cell_type": "markdown",
      "metadata": {
        "id": "OtxYibopA5Ti"
      },
      "source": [
        "Initializing an instance of the number partitioning problem\n"
      ]
    },
    {
      "cell_type": "code",
      "execution_count": 7,
      "metadata": {
        "id": "GlPCGptMbeYe"
      },
      "outputs": [],
      "source": [
        "test = [1, 5, 11, 5]\n",
        "arr = test\n",
        "n = len(arr)\n",
        "c = sum(arr)"
      ]
    },
    {
      "cell_type": "markdown",
      "metadata": {
        "id": "9loQWc-hA2Zz"
      },
      "source": [
        "**Number Partitioning Models**\n",
        "\n",
        "Given an array of $n$ integers $[a_{1}, a_{2}, a_{3} ... a_{n}]$, the corresponding Ising Hamiltonian is:\n",
        "\n",
        "$$H=(\\sum_{i=1}^{n}a_{i}s_{i})^2$$\n",
        "\n",
        "Where $s_{i} \\in \\{-1,1\\}$ is the Ising spin variable.\n",
        "\n",
        "Similarly the corresponding QUBO Model is:\n",
        "\n",
        "$$Q=(\\sum_{i=1}^{n}a_{i}-2\\sum_{i=1}^{n}a_{i}x_{i})^{2}$$\n",
        "or\n",
        "$$Q=(c-2\\sum_{i=1}^{n}a_{i}x_{i})^{2}$$\n",
        "\n",
        "Where $c=\\sum_{i=1}^{n}a_{i}$ and $x_{i} \\in \\{0, 1\\}$ is a binary quadratic variable."
      ]
    },
    {
      "cell_type": "code",
      "execution_count": 8,
      "metadata": {
        "id": "MSyBFtkWJPRl"
      },
      "outputs": [],
      "source": [
        "model = Model()\n",
        "x = model.binary_var_list(n)\n",
        "H = (c - 2*sum(arr[i]*x[i] for i in range(n)))**2\n",
        "model.minimize(H)\n",
        "problem = from_docplex_mp(model)"
      ]
    },
    {
      "cell_type": "code",
      "execution_count": 9,
      "metadata": {
        "id": "h8xdLRT_JYWL"
      },
      "outputs": [],
      "source": [
        "converter = QuadraticProgramToQubo()\n",
        "qubo = converter.convert(problem)\n",
        "\n",
        "quadratics = qubo.objective.quadratic.coefficients\n",
        "linears = qubo.objective.linear.coefficients\n",
        "constant = qubo.objective.constant\n",
        "\n",
        "num_qubits = qubo.get_num_vars()"
      ]
    },
    {
      "cell_type": "markdown",
      "metadata": {
        "id": "eKipAuvvBHpo"
      },
      "source": [
        "Defining the NPP Expectation Value to be minimized during the circuit optimization."
      ]
    },
    {
      "cell_type": "code",
      "execution_count": 10,
      "metadata": {
        "id": "fp9-hfsYKCyo"
      },
      "outputs": [],
      "source": [
        "def npp_expectation(theta):\n",
        "    backend = Aer.get_backend('qasm_simulator')\n",
        "    middle = int(len(theta)/2)\n",
        "    gammas = theta[:middle]\n",
        "    betas = theta[middle:]\n",
        "    pqc = circuit(gammas, betas, quadratics, linears)\n",
        "    # counts = execute(pqc, backend, shots=1000).result().get_counts() #excute no longer used in qiskit update\n",
        "    # best_sol = max(counts, key=counts.get)\n",
        "    # return npp_obj(best_sol)\n",
        "\n",
        "    transpiled_circuit = transpile(pqc, backend)\n",
        "    #convert results to a standard python dict\n",
        "    counts = backend.run(transpiled_circuit, shots=1000).result().get_counts()\n",
        "    avg = 0\n",
        "    sum_count = 0\n",
        "    for bit_string, count in counts.items():\n",
        "        obj = npp_obj(bit_string)\n",
        "        avg += obj * count\n",
        "        sum_count += count\n",
        "        \n",
        "    return avg/sum_count"
      ]
    },
    {
      "cell_type": "markdown",
      "metadata": {
        "id": "_jVvj9rMBRo8"
      },
      "source": [
        "Define the NPP Objective function to calculate the expected value of a QAOA Circuit"
      ]
    },
    {
      "cell_type": "code",
      "execution_count": 11,
      "metadata": {
        "id": "ssZe4MmdJ9iH"
      },
      "outputs": [],
      "source": [
        "def npp_obj(str):\n",
        "  sum_0 = 0\n",
        "  sum_1 = 0\n",
        "  for i in range(len(str)):\n",
        "    if str[i] == '0':\n",
        "      sum_0 += arr[i]\n",
        "    else:\n",
        "      sum_1 += arr[i]\n",
        "  return abs(sum_0-sum_1)"
      ]
    },
    {
      "cell_type": "markdown",
      "metadata": {
        "id": "brtkCcmVBgGt"
      },
      "source": [
        "Defining the Classical Optimizer for the QAOA circuit. In this case, it is Powell."
      ]
    },
    {
      "cell_type": "code",
      "execution_count": 12,
      "metadata": {
        "id": "LxDeyRyyRJOU"
      },
      "outputs": [],
      "source": [
        "# Initial guess\n",
        "initial_guess = [0.5, 0.5, 0.5, 0.5]\n",
        "start_time = time.time()\n",
        "res = minimize(lambda x: npp_expectation(x), initial_guess, method='Cobyla')\n",
        "end_time = time.time()\n",
        "elapsed_time = end_time - start_time"
      ]
    },
    {
      "cell_type": "markdown",
      "metadata": {
        "id": "MTO4qtj_GCT9"
      },
      "source": [
        "Setting up the Qiskit Backend and executing the circuit."
      ]
    },
    {
      "cell_type": "code",
      "execution_count": 14,
      "metadata": {
        "id": "9D7i0Mf5RLOF"
      },
      "outputs": [],
      "source": [
        "simulator = Aer.get_backend('qasm_simulator')\n",
        "middle = int(len(res.x)/2)\n",
        "prime_gammas = res.x[:middle]\n",
        "prime_betas = res.x[middle:]\n",
        "NPPCircuit = circuit(prime_gammas, prime_betas, quadratics, linears)"
      ]
    },
    {
      "cell_type": "code",
      "execution_count": 15,
      "metadata": {
        "colab": {
          "base_uri": "https://localhost:8080/",
          "height": 751
        },
        "id": "F_GeNhINd6CL",
        "outputId": "aad30641-2e72-4c3f-cba9-366a778e1b72"
      },
      "outputs": [
        {
          "data": {
            "image/png": "[encoded data removed]",
            "text/plain": [
              "<Figure size 2210.55x953.167 with 1 Axes>"
            ]
          },
          "execution_count": 15,
          "metadata": {},
          "output_type": "execute_result"
        }
      ],
      "source": [
        "NPPCircuit.draw('mpl')"
      ]
    },
    {
      "cell_type": "code",
      "execution_count": 16,
      "metadata": {
        "colab": {
          "base_uri": "https://localhost:8080/",
          "height": 507
        },
        "id": "1k0kKHhXRPU-",
        "outputId": "8a55a5c9-4a46-41d5-8d18-92be3bee7a56"
      },
      "outputs": [
        {
          "data": {
            "image/png": "[encoded data removed]",
            "text/plain": [
              "<Figure size 640x480 with 1 Axes>"
            ]
          },
          "execution_count": 16,
          "metadata": {},
          "output_type": "execute_result"
        }
      ],
      "source": [
        "job = simulator.run(NPPCircuit, shots=1000)\n",
        "result = job.result()\n",
        "counts = result.get_counts()\n",
        "most_common_results = dict(Counter(counts).most_common(40))\n",
        "plot_histogram(most_common_results, title='Number Partitioning Bitstrings')"
      ]
    },
    {
      "cell_type": "code",
      "execution_count": 17,
      "metadata": {
        "id": "5SyaAUdlCZ6K"
      },
      "outputs": [],
      "source": [
        "def NPP_Sets(solution, print=None):\n",
        "  P1 = []\n",
        "  P2 = []\n",
        "  for i in range(len(solution)):\n",
        "      if solution[i] == '0':\n",
        "          P1.append(arr[i])\n",
        "      else:\n",
        "          P2.append(arr[i])\n",
        "  sum1 = sum(P1[i] for i in range(len(P1)))\n",
        "  sum2 = sum(P2[i] for i in range(len(P2)))\n",
        "  if print is not None:\n",
        "    print(P1)\n",
        "    print('Sum: ' + str(sum1))\n",
        "    print(P2)\n",
        "    print('Sum: ' + str(sum2))\n",
        "  return abs(sum1 - sum2)"
      ]
    },
    {
      "cell_type": "code",
      "execution_count": 18,
      "metadata": {
        "colab": {
          "base_uri": "https://localhost:8080/"
        },
        "id": "43d0yEanRV_z",
        "outputId": "1042553c-f8ea-43d8-9d91-caba1383307a"
      },
      "outputs": [
        {
          "name": "stdout",
          "output_type": "stream",
          "text": [
            "Solutions: ['0101']\n"
          ]
        }
      ],
      "source": [
        "k = math.floor(math.log10(2**(len(arr))))\n",
        "solutions = find_most_common_solutions(counts, k)\n",
        "print(\"Solutions: \" + str(solutions))\n",
        "sorted_solutions = sorted(solutions, key=npp_obj)"
      ]
    },
    {
      "cell_type": "code",
      "execution_count": 19,
      "metadata": {
        "colab": {
          "base_uri": "https://localhost:8080/"
        },
        "id": "EOVtINvQRXrc",
        "outputId": "5f77b45e-03c2-4820-9066-93e29bfff61b"
      },
      "outputs": [
        {
          "name": "stdout",
          "output_type": "stream",
          "text": [
            "Number of Sampled Solutions: 1\n",
            "Optimization Time: 58.230233907699585\n",
            "[1, 11]\n",
            "Sum: 12\n",
            "[5, 5]\n",
            "Sum: 10\n"
          ]
        },
        {
          "data": {
            "text/plain": [
              "2"
            ]
          },
          "execution_count": 19,
          "metadata": {},
          "output_type": "execute_result"
        }
      ],
      "source": [
        "print(\"Number of Sampled Solutions: \" + str(k))\n",
        "print(\"Optimization Time: \" + str(elapsed_time))\n",
        "NPP_Sets(sorted_solutions[0], print)"
      ]
    },
    {
      "cell_type": "markdown",
      "metadata": {
        "id": "w_dRv6v9IlTe"
      },
      "source": [
        "### **Example 2 - Max-Cut Problem**"
      ]
    },
    {
      "cell_type": "code",
      "execution_count": 20,
      "metadata": {
        "id": "y17sdAm3UlWN"
      },
      "outputs": [],
      "source": [
        "def draw_graph(G, colors, pos):\n",
        "    default_axes = plt.axes()\n",
        "    nx.draw_networkx(G, node_color=colors, node_size=600, alpha=0.8, ax=default_axes, pos=pos)\n",
        "    edge_labels = nx.get_edge_attributes(G, \"weight\")"
      ]
    },
    {
      "cell_type": "markdown",
      "metadata": {
        "id": "GGb7rZVIGLTJ"
      },
      "source": [
        "Initializing a Max-Cut Instance."
      ]
    },
    {
      "cell_type": "code",
      "execution_count": 21,
      "metadata": {
        "colab": {
          "base_uri": "https://localhost:8080/",
          "height": 406
        },
        "id": "dYSNc2UnVpq5",
        "outputId": "04e79f9a-5c27-48ec-cf4a-5749fd3d6c26"
      },
      "outputs": [
        {
          "data": {
            "image/png": "[encoded data removed]",
            "text/plain": [
              "<Figure size 640x480 with 1 Axes>"
            ]
          },
          "metadata": {},
          "output_type": "display_data"
        }
      ],
      "source": [
        "# Generating a graph of 4 nodes\n",
        "\n",
        "n = 5  # Number of nodes in graph\n",
        "G = nx.Graph()\n",
        "G.add_nodes_from(np.arange(0, n, 1))\n",
        "edges = [(0, 1, 1.0), (0, 3, 1.0), (1, 2, 1.0), (2, 3, 1.0), (2, 4, 1.0), (3, 4, 1.0)]\n",
        "G.add_weighted_edges_from(edges)\n",
        "\n",
        "colors = [\"r\" for node in G.nodes()]\n",
        "pos = nx.spring_layout(G)\n",
        "\n",
        "draw_graph(G, colors, pos)"
      ]
    },
    {
      "cell_type": "markdown",
      "metadata": {
        "id": "RgLxr7vgGU01"
      },
      "source": [
        "**Max-Cut Models**\n",
        "\n",
        "Given an undirected unweighted Graph $G$ with vertex set $V$ and edge set $E$ with edges $(i, j)$ the corresponding Ising Hamiltonian is:\n",
        "\n",
        "$$H=\\sum_{(i, j) \\in E}\\frac{1-s_{i}s_{j}}{2}$$\n",
        "\n",
        "Where $s_{i} \\in \\{-1,1\\}$ is the Ising spin variable.\n",
        "\n",
        "The corresponding QUBO Model is:\n",
        "\n",
        "$$Q=\\sum_{(i, j)\\in E}(x_{i}+x_{j}-2x_{i}x_{j})$$\n",
        "\n",
        "Where $x_{i} \\in \\{0, 1\\}$ is a binary quadratic variable."
      ]
    },
    {
      "cell_type": "code",
      "execution_count": 22,
      "metadata": {
        "id": "A6a1DdkdVvL9"
      },
      "outputs": [],
      "source": [
        "model = Model()\n",
        "x = model.binary_var_list(n)\n",
        "H = sum(2*x[e[0]]*x[e[1]] - x[e[0]] - x[e[1]] for e in edges)\n",
        "model.minimize(H)\n",
        "problem = from_docplex_mp(model)"
      ]
    },
    {
      "cell_type": "code",
      "execution_count": 23,
      "metadata": {
        "colab": {
          "base_uri": "https://localhost:8080/"
        },
        "id": "KW8-_g1pWtor",
        "outputId": "563d0ee3-cec1-4888-ee83-ad4a8d4e52b7"
      },
      "outputs": [
        {
          "name": "stdout",
          "output_type": "stream",
          "text": [
            "minimize 2*x0*x1 + 2*x0*x3 + 2*x1*x2 + 2*x2*x3 + 2*x2*x4 + 2*x3*x4 - 2*x0 - 2*x1 - 3*x2 - 3*x3 - 2*x4 (5 variables, 0 constraints, 'docplex_model2')\n"
          ]
        }
      ],
      "source": [
        "converter = QuadraticProgramToQubo()\n",
        "qubo = converter.convert(problem)\n",
        "print(qubo)"
      ]
    },
    {
      "cell_type": "code",
      "execution_count": 24,
      "metadata": {
        "id": "saHVjB9QW3Op"
      },
      "outputs": [],
      "source": [
        "quadratics = qubo.objective.quadratic.coefficients\n",
        "linears = qubo.objective.linear.coefficients\n",
        "constant = qubo.objective.constant\n",
        "num_qubits = qubo.get_num_vars()"
      ]
    },
    {
      "cell_type": "markdown",
      "metadata": {
        "id": "pcEuyBRmGcIg"
      },
      "source": [
        "Defining the Max-Cut objective function that will be using the calculate the expected value of each bitstring."
      ]
    },
    {
      "cell_type": "code",
      "execution_count": 25,
      "metadata": {
        "id": "BOAwUjiQW6i6"
      },
      "outputs": [],
      "source": [
        "def maxcut_obj(str):\n",
        "  cut_size = 0\n",
        "  for u, v in G.edges():\n",
        "      if str[u] != str[v]:\n",
        "          cut_size -= 1\n",
        "  return cut_size"
      ]
    },
    {
      "cell_type": "markdown",
      "metadata": {
        "id": "8FHHLVnMGm39"
      },
      "source": [
        "Calculating the expected value of a Max Cut QAOA Circuit."
      ]
    },
    {
      "cell_type": "code",
      "execution_count": 26,
      "metadata": {
        "id": "b-qb68jhXDov"
      },
      "outputs": [],
      "source": [
        "def maxcut_expectation(theta):\n",
        "    backend = Aer.get_backend('qasm_simulator')\n",
        "    middle = int(len(theta)/2)\n",
        "    gammas = theta[:middle]\n",
        "    betas = theta[middle:]\n",
        "    pqc = circuit(gammas, betas, quadratics, linears)\n",
        "    counts = execute(pqc, backend, shots=1000).result().get_counts()\n",
        "    best_sol = max(counts, key=counts.get)\n",
        "\n",
        "    return maxcut_obj(best_sol)"
      ]
    },
    {
      "cell_type": "markdown",
      "metadata": {
        "id": "XFbfsGl1G5vv"
      },
      "source": [
        "Defining the classical optimizer for the QAOA circuit. In this case it is Nelder-Mead."
      ]
    },
    {
      "cell_type": "code",
      "execution_count": 27,
      "metadata": {
        "id": "-2-XiRTpozd-"
      },
      "outputs": [
        {
          "ename": "NameError",
          "evalue": "name 'execute' is not defined",
          "output_type": "error",
          "traceback": [
            "\u001b[0;31m---------------------------------------------------------------------------\u001b[0m",
            "\u001b[0;31mNameError\u001b[0m                                 Traceback (most recent call last)",
            "Cell \u001b[0;32mIn[27], line 4\u001b[0m\n\u001b[1;32m      2\u001b[0m initial_guess \u001b[38;5;241m=\u001b[39m [\u001b[38;5;241m1\u001b[39m, \u001b[38;5;241m1\u001b[39m, \u001b[38;5;241m1\u001b[39m, \u001b[38;5;241m1\u001b[39m]\n\u001b[1;32m      3\u001b[0m start_time \u001b[38;5;241m=\u001b[39m time\u001b[38;5;241m.\u001b[39mtime()\n\u001b[0;32m----> 4\u001b[0m res \u001b[38;5;241m=\u001b[39m \u001b[43mminimize\u001b[49m\u001b[43m(\u001b[49m\u001b[38;5;28;43;01mlambda\u001b[39;49;00m\u001b[43m \u001b[49m\u001b[43mx\u001b[49m\u001b[43m:\u001b[49m\u001b[43m \u001b[49m\u001b[43mmaxcut_expectation\u001b[49m\u001b[43m(\u001b[49m\u001b[43mx\u001b[49m\u001b[43m)\u001b[49m\u001b[43m,\u001b[49m\u001b[43m \u001b[49m\u001b[43minitial_guess\u001b[49m\u001b[43m,\u001b[49m\u001b[43m \u001b[49m\u001b[43mmethod\u001b[49m\u001b[38;5;241;43m=\u001b[39;49m\u001b[38;5;124;43m'\u001b[39;49m\u001b[38;5;124;43mNelder-Mead\u001b[39;49m\u001b[38;5;124;43m'\u001b[39;49m\u001b[43m)\u001b[49m\n\u001b[1;32m      5\u001b[0m end_time \u001b[38;5;241m=\u001b[39m time\u001b[38;5;241m.\u001b[39mtime()\n\u001b[1;32m      6\u001b[0m elapsed_time \u001b[38;5;241m=\u001b[39m end_time \u001b[38;5;241m-\u001b[39m start_time\n",
            "File \u001b[0;32m~/Library/Python/3.9/lib/python/site-packages/scipy/optimize/_minimize.py:701\u001b[0m, in \u001b[0;36mminimize\u001b[0;34m(fun, x0, args, method, jac, hess, hessp, bounds, constraints, tol, callback, options)\u001b[0m\n\u001b[1;32m    698\u001b[0m callback \u001b[38;5;241m=\u001b[39m _wrap_callback(callback, meth)\n\u001b[1;32m    700\u001b[0m \u001b[38;5;28;01mif\u001b[39;00m meth \u001b[38;5;241m==\u001b[39m \u001b[38;5;124m'\u001b[39m\u001b[38;5;124mnelder-mead\u001b[39m\u001b[38;5;124m'\u001b[39m:\n\u001b[0;32m--> 701\u001b[0m     res \u001b[38;5;241m=\u001b[39m \u001b[43m_minimize_neldermead\u001b[49m\u001b[43m(\u001b[49m\u001b[43mfun\u001b[49m\u001b[43m,\u001b[49m\u001b[43m \u001b[49m\u001b[43mx0\u001b[49m\u001b[43m,\u001b[49m\u001b[43m \u001b[49m\u001b[43margs\u001b[49m\u001b[43m,\u001b[49m\u001b[43m \u001b[49m\u001b[43mcallback\u001b[49m\u001b[43m,\u001b[49m\u001b[43m \u001b[49m\u001b[43mbounds\u001b[49m\u001b[38;5;241;43m=\u001b[39;49m\u001b[43mbounds\u001b[49m\u001b[43m,\u001b[49m\n\u001b[1;32m    702\u001b[0m \u001b[43m                               \u001b[49m\u001b[38;5;241;43m*\u001b[39;49m\u001b[38;5;241;43m*\u001b[39;49m\u001b[43moptions\u001b[49m\u001b[43m)\u001b[49m\n\u001b[1;32m    703\u001b[0m \u001b[38;5;28;01melif\u001b[39;00m meth \u001b[38;5;241m==\u001b[39m \u001b[38;5;124m'\u001b[39m\u001b[38;5;124mpowell\u001b[39m\u001b[38;5;124m'\u001b[39m:\n\u001b[1;32m    704\u001b[0m     res \u001b[38;5;241m=\u001b[39m _minimize_powell(fun, x0, args, callback, bounds, \u001b[38;5;241m*\u001b[39m\u001b[38;5;241m*\u001b[39moptions)\n",
            "File \u001b[0;32m~/Library/Python/3.9/lib/python/site-packages/scipy/optimize/_optimize.py:818\u001b[0m, in \u001b[0;36m_minimize_neldermead\u001b[0;34m(func, x0, args, callback, maxiter, maxfev, disp, return_all, initial_simplex, xatol, fatol, adaptive, bounds, **unknown_options)\u001b[0m\n\u001b[1;32m    816\u001b[0m \u001b[38;5;28;01mtry\u001b[39;00m:\n\u001b[1;32m    817\u001b[0m     \u001b[38;5;28;01mfor\u001b[39;00m k \u001b[38;5;129;01min\u001b[39;00m \u001b[38;5;28mrange\u001b[39m(N \u001b[38;5;241m+\u001b[39m \u001b[38;5;241m1\u001b[39m):\n\u001b[0;32m--> 818\u001b[0m         fsim[k] \u001b[38;5;241m=\u001b[39m \u001b[43mfunc\u001b[49m\u001b[43m(\u001b[49m\u001b[43msim\u001b[49m\u001b[43m[\u001b[49m\u001b[43mk\u001b[49m\u001b[43m]\u001b[49m\u001b[43m)\u001b[49m\n\u001b[1;32m    819\u001b[0m \u001b[38;5;28;01mexcept\u001b[39;00m _MaxFuncCallError:\n\u001b[1;32m    820\u001b[0m     \u001b[38;5;28;01mpass\u001b[39;00m\n",
            "File \u001b[0;32m~/Library/Python/3.9/lib/python/site-packages/scipy/optimize/_optimize.py:526\u001b[0m, in \u001b[0;36m_wrap_scalar_function_maxfun_validation.<locals>.function_wrapper\u001b[0;34m(x, *wrapper_args)\u001b[0m\n\u001b[1;32m    524\u001b[0m ncalls[\u001b[38;5;241m0\u001b[39m] \u001b[38;5;241m+\u001b[39m\u001b[38;5;241m=\u001b[39m \u001b[38;5;241m1\u001b[39m\n\u001b[1;32m    525\u001b[0m \u001b[38;5;66;03m# A copy of x is sent to the user function (gh13740)\u001b[39;00m\n\u001b[0;32m--> 526\u001b[0m fx \u001b[38;5;241m=\u001b[39m \u001b[43mfunction\u001b[49m\u001b[43m(\u001b[49m\u001b[43mnp\u001b[49m\u001b[38;5;241;43m.\u001b[39;49m\u001b[43mcopy\u001b[49m\u001b[43m(\u001b[49m\u001b[43mx\u001b[49m\u001b[43m)\u001b[49m\u001b[43m,\u001b[49m\u001b[43m \u001b[49m\u001b[38;5;241;43m*\u001b[39;49m\u001b[43m(\u001b[49m\u001b[43mwrapper_args\u001b[49m\u001b[43m \u001b[49m\u001b[38;5;241;43m+\u001b[39;49m\u001b[43m \u001b[49m\u001b[43margs\u001b[49m\u001b[43m)\u001b[49m\u001b[43m)\u001b[49m\n\u001b[1;32m    527\u001b[0m \u001b[38;5;66;03m# Ideally, we'd like to a have a true scalar returned from f(x). For\u001b[39;00m\n\u001b[1;32m    528\u001b[0m \u001b[38;5;66;03m# backwards-compatibility, also allow np.array([1.3]),\u001b[39;00m\n\u001b[1;32m    529\u001b[0m \u001b[38;5;66;03m# np.array([[1.3]]) etc.\u001b[39;00m\n\u001b[1;32m    530\u001b[0m \u001b[38;5;28;01mif\u001b[39;00m \u001b[38;5;129;01mnot\u001b[39;00m np\u001b[38;5;241m.\u001b[39misscalar(fx):\n",
            "Cell \u001b[0;32mIn[27], line 4\u001b[0m, in \u001b[0;36m<lambda>\u001b[0;34m(x)\u001b[0m\n\u001b[1;32m      2\u001b[0m initial_guess \u001b[38;5;241m=\u001b[39m [\u001b[38;5;241m1\u001b[39m, \u001b[38;5;241m1\u001b[39m, \u001b[38;5;241m1\u001b[39m, \u001b[38;5;241m1\u001b[39m]\n\u001b[1;32m      3\u001b[0m start_time \u001b[38;5;241m=\u001b[39m time\u001b[38;5;241m.\u001b[39mtime()\n\u001b[0;32m----> 4\u001b[0m res \u001b[38;5;241m=\u001b[39m minimize(\u001b[38;5;28;01mlambda\u001b[39;00m x: \u001b[43mmaxcut_expectation\u001b[49m\u001b[43m(\u001b[49m\u001b[43mx\u001b[49m\u001b[43m)\u001b[49m, initial_guess, method\u001b[38;5;241m=\u001b[39m\u001b[38;5;124m'\u001b[39m\u001b[38;5;124mNelder-Mead\u001b[39m\u001b[38;5;124m'\u001b[39m)\n\u001b[1;32m      5\u001b[0m end_time \u001b[38;5;241m=\u001b[39m time\u001b[38;5;241m.\u001b[39mtime()\n\u001b[1;32m      6\u001b[0m elapsed_time \u001b[38;5;241m=\u001b[39m end_time \u001b[38;5;241m-\u001b[39m start_time\n",
            "Cell \u001b[0;32mIn[26], line 7\u001b[0m, in \u001b[0;36mmaxcut_expectation\u001b[0;34m(theta)\u001b[0m\n\u001b[1;32m      5\u001b[0m betas \u001b[38;5;241m=\u001b[39m theta[middle:]\n\u001b[1;32m      6\u001b[0m pqc \u001b[38;5;241m=\u001b[39m circuit(gammas, betas, quadratics, linears)\n\u001b[0;32m----> 7\u001b[0m counts \u001b[38;5;241m=\u001b[39m \u001b[43mexecute\u001b[49m(pqc, backend, shots\u001b[38;5;241m=\u001b[39m\u001b[38;5;241m1000\u001b[39m)\u001b[38;5;241m.\u001b[39mresult()\u001b[38;5;241m.\u001b[39mget_counts()\n\u001b[1;32m      8\u001b[0m best_sol \u001b[38;5;241m=\u001b[39m \u001b[38;5;28mmax\u001b[39m(counts, key\u001b[38;5;241m=\u001b[39mcounts\u001b[38;5;241m.\u001b[39mget)\n\u001b[1;32m     10\u001b[0m \u001b[38;5;28;01mreturn\u001b[39;00m maxcut_obj(best_sol)\n",
            "\u001b[0;31mNameError\u001b[0m: name 'execute' is not defined"
          ]
        }
      ],
      "source": [
        "# Initial guess\n",
        "initial_guess = [1, 1, 1, 1]\n",
        "start_time = time.time()\n",
        "res = minimize(lambda x: maxcut_expectation(x), initial_guess, method='Nelder-Mead')\n",
        "end_time = time.time()\n",
        "elapsed_time = end_time - start_time"
      ]
    },
    {
      "cell_type": "markdown",
      "metadata": {
        "id": "O8a7jC8xHIzK"
      },
      "source": [
        "Setting up the Qiskit Backend and executing the circuit."
      ]
    },
    {
      "cell_type": "code",
      "execution_count": null,
      "metadata": {
        "id": "kqFDceBjaD5V"
      },
      "outputs": [],
      "source": [
        "simulator = Aer.get_backend('qasm_simulator')\n",
        "middle = int(len(res.x)/2)\n",
        "prime_gammas = res.x[:middle]\n",
        "prime_betas = res.x[middle:]\n",
        "MAXCUTCircuit = circuit(prime_gammas, prime_betas, quadratics, linears)"
      ]
    },
    {
      "cell_type": "code",
      "execution_count": null,
      "metadata": {
        "colab": {
          "base_uri": "https://localhost:8080/",
          "height": 876
        },
        "id": "uJ7Mjbbopcdk",
        "outputId": "dde891f6-dd91-464f-e57e-65706ffd5848"
      },
      "outputs": [],
      "source": [
        "MAXCUTCircuit.draw('mpl')"
      ]
    },
    {
      "cell_type": "code",
      "execution_count": null,
      "metadata": {
        "colab": {
          "base_uri": "https://localhost:8080/",
          "height": 518
        },
        "id": "wQLmqdqRaL3b",
        "outputId": "3dd81832-ac7e-4258-ef83-50e19ac98822"
      },
      "outputs": [],
      "source": [
        "job = execute(MAXCUTCircuit, simulator, shots=1000)\n",
        "result = job.result()\n",
        "counts = result.get_counts()\n",
        "most_common_results = dict(Counter(counts).most_common(40))\n",
        "plot_histogram(most_common_results, title='Max-Cut Bitstrings')"
      ]
    },
    {
      "cell_type": "code",
      "execution_count": null,
      "metadata": {
        "colab": {
          "base_uri": "https://localhost:8080/"
        },
        "id": "vBKYERKdCog2",
        "outputId": "dbf15e1e-7c62-4b56-e7dd-78ae3488ee2a"
      },
      "outputs": [],
      "source": [
        "k = math.floor(math.log10(2**(n)))\n",
        "solutions = find_most_common_solutions(counts, k)\n",
        "print(\"Solutions: \" + str(solutions))\n",
        "sorted_solutions = sorted(solutions, key=maxcut_obj)"
      ]
    },
    {
      "cell_type": "code",
      "execution_count": null,
      "metadata": {
        "colab": {
          "base_uri": "https://localhost:8080/"
        },
        "id": "EOArRJ0IawjT",
        "outputId": "f04ae53e-af98-4426-cce4-53c49e999c38"
      },
      "outputs": [],
      "source": [
        "maxcut_solution = sorted_solutions[0]\n",
        "print(maxcut_solution)"
      ]
    },
    {
      "cell_type": "code",
      "execution_count": null,
      "metadata": {
        "colab": {
          "base_uri": "https://localhost:8080/",
          "height": 423
        },
        "id": "RdjXPQOEakzT",
        "outputId": "a39de444-7506-4f69-c074-53d92c3bec53"
      },
      "outputs": [],
      "source": [
        "colors = [\"c\" if maxcut_solution[i] == \"0\" else \"r\" for i in range(len(maxcut_solution))]\n",
        "print(\"Optimization Time: \" + str(elapsed_time))\n",
        "draw_graph(G, colors, pos)"
      ]
    },
    {
      "cell_type": "markdown",
      "metadata": {
        "id": "vYkQOarT7grw"
      },
      "source": [
        "### **Example 3 - Minimum Vertex Cover**"
      ]
    },
    {
      "cell_type": "markdown",
      "metadata": {
        "id": "ussMe1FGHNAr"
      },
      "source": [
        "Initializing a minimum vertex cover instance."
      ]
    },
    {
      "cell_type": "code",
      "execution_count": null,
      "metadata": {
        "colab": {
          "base_uri": "https://localhost:8080/",
          "height": 406
        },
        "id": "-6v0D8lR7ry4",
        "outputId": "b711eba0-c0f1-491a-b31e-8210ca0cd0dc"
      },
      "outputs": [],
      "source": [
        "# Generating a graph of 4 nodes\n",
        "\n",
        "n = 6  # Number of nodes in graph\n",
        "G = nx.Graph()\n",
        "G.add_nodes_from(np.arange(0, n, 1))\n",
        "edges = [(0, 1, 1.0), (0, 2, 1.0), (1, 2, 1.0), (1, 3, 1.0), (1, 4, 1.0), (1, 5, 1.0)]\n",
        "G.add_weighted_edges_from(edges)\n",
        "\n",
        "colors = [\"r\" for node in G.nodes()]\n",
        "pos = nx.spring_layout(G)\n",
        "\n",
        "draw_graph(G, colors, pos)"
      ]
    },
    {
      "cell_type": "markdown",
      "metadata": {
        "id": "uNbSdX5hHbj1"
      },
      "source": [
        "**Minimum Vertex Cover Models**\n",
        "\n",
        "Given an undirected unweighted Graph $G$ with vertex set $V$ with vertices $i$ and edge set $E$ with edges $(i, j)$ the corresponding Ising Hamiltonian is:\n",
        "\n",
        "$$H=P\\sum_{(i, j) \\in E}(1-s_{i})(1-s_{j}) + \\sum_{i \\in V}s_{i}$$\n",
        "\n",
        "Where $s_{i} \\in \\{-1,1\\}$ is the Ising spin variable and $P$ is the penalty coefficient.\n",
        "\n",
        "The corresponding QUBO Model is:\n",
        "\n",
        "$$Q=\\sum_{i \\in V}x_{i} + P(\\sum_{(i, j) \\in E}(1-x_{i}-x_{j}+x_{i}x_{j}))$$\n",
        "\n",
        "Where $x_{i} \\in \\{0, 1\\}$ is a binary quadratic variable.\n",
        "\n",
        "Note in the example $P$ was chosen through trial-and-error although there exists rigorous mathematical processes"
      ]
    },
    {
      "cell_type": "code",
      "execution_count": null,
      "metadata": {
        "id": "_hy2URVE-DoF"
      },
      "outputs": [],
      "source": [
        "model = Model()\n",
        "x = model.binary_var_list(n)\n",
        "P = 0.5\n",
        "H = sum(x[i] for i in range(n)) + P*sum(1 - x[e[0]] - x[e[1]] + x[e[0]]*x[e[1]] for e in edges)\n",
        "model.minimize(H)\n",
        "problem = from_docplex_mp(model)"
      ]
    },
    {
      "cell_type": "code",
      "execution_count": null,
      "metadata": {
        "colab": {
          "base_uri": "https://localhost:8080/"
        },
        "id": "9p3EeOGW_AEk",
        "outputId": "ecb748b2-1e38-4869-dfe3-11452efbca5c"
      },
      "outputs": [],
      "source": [
        "converter = QuadraticProgramToQubo()\n",
        "qubo = converter.convert(problem)\n",
        "print(qubo)"
      ]
    },
    {
      "cell_type": "code",
      "execution_count": null,
      "metadata": {
        "id": "kwEkaGtX_DEa"
      },
      "outputs": [],
      "source": [
        "quadratics = qubo.objective.quadratic.coefficients\n",
        "linears = qubo.objective.linear.coefficients\n",
        "constant = qubo.objective.constant\n",
        "num_qubits = qubo.get_num_vars()"
      ]
    },
    {
      "cell_type": "markdown",
      "metadata": {
        "id": "wRmu52boHemJ"
      },
      "source": [
        "Defining the Minimum Vertex Cover Objective Function to calculate the expected value of a bitstring."
      ]
    },
    {
      "cell_type": "code",
      "execution_count": null,
      "metadata": {
        "id": "S0WrhO1P_Sdz"
      },
      "outputs": [],
      "source": [
        "def mvc_obj(str, P):\n",
        "    marked_edges = 0\n",
        "    for u, v in G.edges():\n",
        "      if str[u] == \"1\" or str[v] == \"1\":\n",
        "        marked_edges -= 1\n",
        "    num_marked = 0\n",
        "    for i in range(len(str)):\n",
        "      if str[i] == \"1\":\n",
        "        num_marked += 1\n",
        "    return P*marked_edges+num_marked"
      ]
    },
    {
      "cell_type": "markdown",
      "metadata": {
        "id": "X-AN_MkkHonE"
      },
      "source": [
        "Calculating the expected value of a Minimum Vertex Cover QAOA Circuit."
      ]
    },
    {
      "cell_type": "code",
      "execution_count": null,
      "metadata": {
        "id": "vrQ4wlVi_Ve3"
      },
      "outputs": [],
      "source": [
        "def mvc_expectation(theta, P):\n",
        "    backend = Aer.get_backend('qasm_simulator')\n",
        "    middle = int(len(theta)/2)\n",
        "    gammas = theta[:middle]\n",
        "    betas = theta[middle:]\n",
        "    pqc = circuit(gammas, betas, quadratics, linears)\n",
        "    counts = execute(pqc, backend, shots=1000).result().get_counts()\n",
        "    best_sol = max(counts, key=counts.get)\n",
        "\n",
        "    return mvc_obj(best_sol, P)"
      ]
    },
    {
      "cell_type": "markdown",
      "metadata": {
        "id": "S31MgxEnH4DY"
      },
      "source": [
        "Defining the classical optimizer for the QAOA circuit. In this case it is BFGS."
      ]
    },
    {
      "cell_type": "code",
      "execution_count": null,
      "metadata": {
        "id": "wX6mw4iX_YkI"
      },
      "outputs": [],
      "source": [
        "# Initial guess\n",
        "initial_guess = [0.5, 0.5, 0.5, 0.5] # [np.pi/6, np.pi/6, np.pi/6, np.pi/6]\n",
        "start_time = time.time()\n",
        "res = minimize(lambda x: mvc_expectation(x, P), initial_guess, method='BFGS')\n",
        "end_time = time.time()\n",
        "elapsed_time = end_time - start_time"
      ]
    },
    {
      "cell_type": "markdown",
      "metadata": {
        "id": "2Qw9hQgYH_lo"
      },
      "source": [
        "Setting up the Qiskit Backend and executing the circuit."
      ]
    },
    {
      "cell_type": "code",
      "execution_count": null,
      "metadata": {
        "id": "jc7_3Vvt_arn"
      },
      "outputs": [],
      "source": [
        "simulator = Aer.get_backend('qasm_simulator')\n",
        "middle = int(len(res.x)/2)\n",
        "prime_gammas = res.x[:middle]\n",
        "prime_betas = res.x[middle:]\n",
        "MVCCircuit = circuit(prime_gammas, prime_betas, quadratics, linears)"
      ]
    },
    {
      "cell_type": "code",
      "execution_count": null,
      "metadata": {
        "colab": {
          "base_uri": "https://localhost:8080/",
          "height": 1000
        },
        "id": "Kb4Z3upgq8D_",
        "outputId": "c836d143-81d3-479e-d3ac-1b77316be439"
      },
      "outputs": [],
      "source": [
        "MVCCircuit.draw('mpl')"
      ]
    },
    {
      "cell_type": "code",
      "execution_count": null,
      "metadata": {
        "colab": {
          "base_uri": "https://localhost:8080/",
          "height": 530
        },
        "id": "tK4lmtX-AMQc",
        "outputId": "323258ec-6112-429a-b4a5-e746deda25bd"
      },
      "outputs": [],
      "source": [
        "job = execute(MVCCircuit, simulator, shots=1000)\n",
        "result = job.result()\n",
        "counts = result.get_counts()\n",
        "most_common_results = dict(Counter(counts).most_common(40))\n",
        "plot_histogram(most_common_results, title='Minimum Vertex Cover Bitstrings')"
      ]
    },
    {
      "cell_type": "code",
      "execution_count": null,
      "metadata": {
        "colab": {
          "base_uri": "https://localhost:8080/"
        },
        "id": "CE70w_YlCtxv",
        "outputId": "1d916a96-0314-407f-a475-2068b93b38f1"
      },
      "outputs": [],
      "source": [
        "k = 3 #math.floor(math.log10(2**(n)))\n",
        "solutions = find_most_common_solutions(counts, k)\n",
        "print(\"Solutions: \" + str(solutions))\n",
        "sorted_solutions = sorted(solutions, key=lambda solution: mvc_obj(solution, P))"
      ]
    },
    {
      "cell_type": "code",
      "execution_count": null,
      "metadata": {
        "colab": {
          "base_uri": "https://localhost:8080/"
        },
        "id": "JoavB6R_APOc",
        "outputId": "1c3994af-09a0-4e83-f632-c0f1f480b17f"
      },
      "outputs": [],
      "source": [
        "mvc_solution = sorted_solutions[0]\n",
        "print(mvc_solution)"
      ]
    },
    {
      "cell_type": "code",
      "execution_count": null,
      "metadata": {
        "colab": {
          "base_uri": "https://localhost:8080/",
          "height": 423
        },
        "id": "uvYmlfO1ARzI",
        "outputId": "af19dd85-0d1a-43b2-8b60-97e5c50eb618"
      },
      "outputs": [],
      "source": [
        "colors = [\"r\" if mvc_solution[i] == \"0\" else \"c\" for i in range(len(mvc_solution))]\n",
        "print(\"Optimization Time: \" + str(elapsed_time))\n",
        "draw_graph(G, colors, pos)"
      ]
    }
  ],
  "metadata": {
    "colab": {
      "provenance": []
    },
    "kernelspec": {
      "display_name": "Python 3",
      "name": "python3"
    },
    "language_info": {
      "codemirror_mode": {
        "name": "ipython",
        "version": 3
      },
      "file_extension": ".py",
      "mimetype": "text/x-python",
      "name": "python",
      "nbconvert_exporter": "python",
      "pygments_lexer": "ipython3",
      "version": "3.9.6"
    }
  },
  "nbformat": 4,
  "nbformat_minor": 0
}
