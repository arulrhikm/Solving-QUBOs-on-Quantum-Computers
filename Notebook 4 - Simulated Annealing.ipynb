{
  "nbformat": 4,
  "nbformat_minor": 0,
  "metadata": {
    "colab": {
      "provenance": []
    },
    "kernelspec": {
      "name": "python3",
      "display_name": "Python 3"
    },
    "language_info": {
      "name": "python"
    }
  },
  "cells": [
    {
      "cell_type": "markdown",
      "source": [
        "#Solving QUBOs with DWAVE Simulated Annealing\n",
        "\n",
        "Date: December 4th, 2023\n",
        "\n",
        "The notebook contains materials supporting the tutorial paper:\n",
        "*Five Starter Problems: Solving QUBOs on Quantum Computers* by Arul Rhik Mazumder (arulm@andrew.cmu.edu) and Sridhar Tayur (stayur@cmu.edu).\n",
        "It depends on various packages shown below."
      ],
      "metadata": {
        "id": "sUAuepO2Qxmq"
      }
    },
    {
      "cell_type": "markdown",
      "source": [
        "### **Introduction**\n",
        "\n",
        "\n",
        "Simulated Annealing is a widely used probabilistic optimization algorithm that is used to find the global minimum or maximum of a complex, multivariate objective function. It is often employed in optimization problems where an exhaustive search of the entire solution space is not feasible due to its size or computational cost.\n",
        "\n",
        "The algorithm is inspired by the annealing process in metallurgy, where a material is heated and then gradually cooled to remove defects and optimize its structure. In a similar fashion, simulated annealing iteratively explores the solution space in search of the optimal solution, while allowing for occasional uphill moves (accepting worse solutions) to escape local minima or maxima. Over time, the likelihood of accepting worse solutions decreases, simulating the annealing process.\n",
        "\n",
        "DWAVE Ocean offers a Simulated Annealing Sampler that can be used to solve approprate QUBOs using Simulated Annealing. Further details about this utility can be found below:\n",
        "\n",
        "https://docs.ocean.dwavesys.com/projects/neal/en/latest/reference/sampler.html"
      ],
      "metadata": {
        "id": "fhDHTdDaRfPK"
      }
    },
    {
      "cell_type": "code",
      "execution_count": null,
      "metadata": {
        "id": "ztSc7n8Sy92S",
        "colab": {
          "base_uri": "https://localhost:8080/"
        },
        "outputId": "7bb055c2-96a8-4904-b977-2817254cfd0a"
      },
      "outputs": [
        {
          "output_type": "stream",
          "name": "stdout",
          "text": [
            "All Packages Installed!\n"
          ]
        }
      ],
      "source": [
        "try:\n",
        "  import google.colab\n",
        "  IN_COLAB = True\n",
        "except:\n",
        "  IN_COLAB = False\n",
        "if IN_COLAB:\n",
        "  !pip install dwave-ocean-sdk==6.10.0\n",
        "  !pip install bravado==11.0.3\n",
        "  !pip install dwave-ocean-sdk==1.4.0\n",
        "  print(\"All Packages Installed!\")"
      ]
    },
    {
      "cell_type": "code",
      "source": [
        "# imports necessary packages to run on a DWAVE Machine\n",
        "from pyqubo import Spin, Array, Placeholder, Constraint\n",
        "import matplotlib.pyplot as plt\n",
        "import networkx as nx\n",
        "import dimod\n",
        "import neal\n",
        "\n",
        "# Misc. imports\n",
        "import numpy as np\n",
        "import random\n",
        "import time\n",
        "import os\n",
        "\n",
        "# Connecting to DWAVE Account\n",
        "os.environ['DWAVE_API_TOKEN'] = ###################################"
      ],
      "metadata": {
        "id": "88YBiUUa-2F6"
      },
      "execution_count": null,
      "outputs": []
    },
    {
      "cell_type": "markdown",
      "source": [
        "### **Example 1 - Number Partitioning Problem**"
      ],
      "metadata": {
        "id": "-iaU5xKTGE3t"
      }
    },
    {
      "cell_type": "markdown",
      "source": [
        "Initializing an arbitrary number partitioning instance."
      ],
      "metadata": {
        "id": "a6972PlFSYgz"
      }
    },
    {
      "cell_type": "code",
      "source": [
        "test_1 = [1, 5, 11, 5]\n",
        "test_2 = [25, 7, 13, 31, 42, 17, 21, 10]\n",
        "arr = test_2\n",
        "print(arr)\n",
        "n = len(arr)\n",
        "c = sum(arr)"
      ],
      "metadata": {
        "colab": {
          "base_uri": "https://localhost:8080/"
        },
        "id": "AjgQzMxNGFmq",
        "outputId": "c36919ec-9cb7-48a9-b417-fd37b7b48710"
      },
      "execution_count": null,
      "outputs": [
        {
          "output_type": "stream",
          "name": "stdout",
          "text": [
            "[25, 7, 13, 31, 42, 17, 21, 10]\n"
          ]
        }
      ]
    },
    {
      "cell_type": "markdown",
      "source": [
        "**Number Partitioning Models**\n",
        "\n",
        "Given an array of $n$ integers $[a_{1}, a_{2}, a_{3} ... a_{n}]$, the corresponding Ising Hamiltonian is:\n",
        "\n",
        "$$H=(\\sum_{i=1}^{n}a_{i}s_{i})^2$$\n",
        "\n",
        "Where $s_{i} \\in \\{-1,1\\}$ is the Ising spin variable.\n",
        "\n",
        "Similarly the corresponding QUBO Model is:\n",
        "\n",
        "$$Q=(\\sum_{i=1}^{n}a_{i}-2\\sum_{i=1}^{n}a_{i}x_{i})^{2}$$\n",
        "or\n",
        "$$Q=(c-2\\sum_{i=1}^{n}a_{i}x_{i})^{2}$$\n",
        "\n",
        "Where $c=\\sum_{i=1}^{n}a_{i}$ and $x_{i} \\in \\{0, 1\\}$ is a binary quadratic variable."
      ],
      "metadata": {
        "id": "uEYkYJnJSdsq"
      }
    },
    {
      "cell_type": "code",
      "source": [
        "x = Array.create('x', n, 'BINARY')\n",
        "H = (c - 2*sum(arr[i]*x[i] for i in range(n)))**2\n",
        "model = H.compile()\n",
        "bqm = model.to_bqm()"
      ],
      "metadata": {
        "id": "yYgzw_mAGHIV"
      },
      "execution_count": null,
      "outputs": []
    },
    {
      "cell_type": "markdown",
      "source": [
        "Running the problem on the the DWAVE Simulated Annealing Sampler"
      ],
      "metadata": {
        "id": "IIyifgx7Sja6"
      }
    },
    {
      "cell_type": "code",
      "source": [
        "sa = neal.SimulatedAnnealingSampler()\n",
        "start_time = time.time()\n",
        "sampleset = sa.sample(bqm, num_reads=1000)\n",
        "end_time = time.time()\n",
        "elapsed_time = end_time - start_time\n",
        "decoded_samples = model.decode_sampleset(sampleset)\n",
        "sample = min(decoded_samples, key=lambda x: x.energy)"
      ],
      "metadata": {
        "id": "-Yjy2nwyGJI5"
      },
      "execution_count": null,
      "outputs": []
    },
    {
      "cell_type": "code",
      "source": [
        "# Converting the output binary variables to produce a valid output\n",
        "def NPP_measure(sortedSample):\n",
        "  P1 = []\n",
        "  P2 = []\n",
        "  for i in sortedSample.keys():\n",
        "    if sortedSample[i] == 0:\n",
        "        P1.append(arr[int(i[2:len(i)-1])])\n",
        "    else:\n",
        "        P2.append(arr[int(i[2:len(i)-1])])\n",
        "  sum1 = sum(P1[i] for i in range(len(P1)))\n",
        "  sum2 = sum(P2[i] for i in range(len(P2)))\n",
        "  print(P1)\n",
        "  print('Sum: ' + str(sum1))\n",
        "  print(P2)\n",
        "  print('Sum: ' + str(sum2))\n",
        "  return abs(sum2-sum1)"
      ],
      "metadata": {
        "id": "7t136eq29ddk"
      },
      "execution_count": null,
      "outputs": []
    },
    {
      "cell_type": "code",
      "source": [
        "#Sorts samples by numbers to see which quadratic variables are 0 and 1\n",
        "sampleKeys = list(sample.sample.keys())\n",
        "def sortbynumber(str):\n",
        "    return int(str[2:len(str)-1])\n",
        "sampleKeys.sort(key = sortbynumber)\n",
        "sortedSample = {i: sample.sample[i] for i in sampleKeys}\n",
        "print(\"Execution Time: \" + str(elapsed_time))\n",
        "NPP_measure(sortedSample)"
      ],
      "metadata": {
        "colab": {
          "base_uri": "https://localhost:8080/"
        },
        "id": "_dynMrFU9L9D",
        "outputId": "28daa222-950f-4d8a-c46e-5a6bb26ce81e"
      },
      "execution_count": null,
      "outputs": [
        {
          "output_type": "stream",
          "name": "stdout",
          "text": [
            "Execution Time: 0.21992731094360352\n",
            "[25, 7, 13, 17, 21]\n",
            "Sum: 83\n",
            "[31, 42, 10]\n",
            "Sum: 83\n"
          ]
        },
        {
          "output_type": "execute_result",
          "data": {
            "text/plain": [
              "0"
            ]
          },
          "metadata": {},
          "execution_count": 45
        }
      ]
    },
    {
      "cell_type": "markdown",
      "source": [
        "### **Example 2 - Max-Cut**"
      ],
      "metadata": {
        "id": "NdNKPYac9tYT"
      }
    },
    {
      "cell_type": "markdown",
      "source": [
        "Initializing an arbitrary Max-Cut instance."
      ],
      "metadata": {
        "id": "wKNA1m62TADo"
      }
    },
    {
      "cell_type": "code",
      "source": [
        "def draw_graph(G, colors, pos):\n",
        "    default_axes = plt.axes()\n",
        "    nx.draw_networkx(G, node_color=colors, node_size=600, alpha=0.8, ax=default_axes, pos=pos)\n",
        "    edge_labels = nx.get_edge_attributes(G, \"weight\")"
      ],
      "metadata": {
        "id": "hoyUMWye9Rpn"
      },
      "execution_count": null,
      "outputs": []
    },
    {
      "cell_type": "code",
      "source": [
        "# Generating a graph of 4 nodes\n",
        "\n",
        "n = 5 # Number of nodes in graph\n",
        "G = nx.Graph()\n",
        "G.add_nodes_from(np.arange(0, n, 1))\n",
        "edges = [(0, 1, 1.0), (0, 3, 1.0), (1, 2, 1.0), (2, 3, 1.0), (2, 4, 1.0), (3, 4, 1.0)]\n",
        "G.add_weighted_edges_from(edges)\n",
        "\n",
        "colors = [\"r\" for node in G.nodes()]\n",
        "pos = nx.spring_layout(G)\n",
        "\n",
        "draw_graph(G, colors, pos)"
      ],
      "metadata": {
        "colab": {
          "base_uri": "https://localhost:8080/",
          "height": 406
        },
        "id": "3tuliFcI-Kcm",
        "outputId": "57df78fb-fd12-4e71-f919-b3cd9f901d0f"
      },
      "execution_count": null,
      "outputs": [
        {
          "output_type": "display_data",
          "data": {
            "text/plain": [
              "<Figure size 640x480 with 1 Axes>"
            ],
            "image/png": "[encoded data removed]"
          },
          "metadata": {}
        }
      ]
    },
    {
      "cell_type": "markdown",
      "source": [
        "**Max-Cut Models**\n",
        "\n",
        "Given an undirected unweighted Graph $G$ with vertex set $V$ and edge set $E$ with edges $(i, j)$ the corresponding Ising Hamiltonian is:\n",
        "\n",
        "$$H=\\sum_{(i, j) \\in E}\\frac{1-s_{i}s_{j}}{2}$$\n",
        "\n",
        "Where $s_{i} \\in \\{-1,1\\}$ is the Ising spin variable.\n",
        "\n",
        "The corresponding QUBO Model is:\n",
        "\n",
        "$$Q=\\sum_{(i, j)\\in E}(x_{i}+x_{j}-2x_{i}x_{j})$$\n",
        "\n",
        "Where $x_{i} \\in \\{0, 1\\}$ is a binary quadratic variable."
      ],
      "metadata": {
        "id": "LGIWjaYXTXOk"
      }
    },
    {
      "cell_type": "code",
      "source": [
        "x = Array.create('x', n, 'BINARY')\n",
        "H = sum(2*x[e[0]]*x[e[1]] - x[e[0]] - x[e[1]] for e in edges)\n",
        "model = H.compile()\n",
        "bqm = model.to_bqm()"
      ],
      "metadata": {
        "id": "2Z9T5lyY-eEw"
      },
      "execution_count": null,
      "outputs": []
    },
    {
      "cell_type": "markdown",
      "source": [
        "Running the problem on the the DWAVE Simulated Annealing Sampler"
      ],
      "metadata": {
        "id": "_UfsGuTRTctF"
      }
    },
    {
      "cell_type": "code",
      "source": [
        "sa = neal.SimulatedAnnealingSampler()\n",
        "start_time = time.time()\n",
        "sampleset = sa.sample(bqm, num_reads=1000)\n",
        "end_time = time.time()\n",
        "elapsed_time = end_time - start_time\n",
        "decoded_samples = model.decode_sampleset(sampleset)\n",
        "sample = min(decoded_samples, key=lambda x: x.energy)"
      ],
      "metadata": {
        "id": "8SKktNvy-hJf"
      },
      "execution_count": null,
      "outputs": []
    },
    {
      "cell_type": "code",
      "source": [
        "#Sorts samples by numbers to see which quadratic variables are 0 and 1\n",
        "sampleKeys = list(sample.sample.keys())\n",
        "def sortbynumber(str):\n",
        "    return int(str[2:len(str)-1])\n",
        "sampleKeys.sort(key = sortbynumber)\n",
        "sortedSample = {i: sample.sample[i] for i in sampleKeys}\n",
        "print(sortedSample)"
      ],
      "metadata": {
        "colab": {
          "base_uri": "https://localhost:8080/"
        },
        "id": "MyrrCYlP-kQ_",
        "outputId": "d08a36eb-479f-4c02-8fbb-724c78642c55"
      },
      "execution_count": null,
      "outputs": [
        {
          "output_type": "stream",
          "name": "stdout",
          "text": [
            "{'x[0]': 0, 'x[1]': 1, 'x[2]': 0, 'x[3]': 1, 'x[4]': 0}\n"
          ]
        }
      ]
    },
    {
      "cell_type": "code",
      "source": [
        "# Converting the output binary variables to produce a valid output\n",
        "def MaxCut(sortedSample):\n",
        "  maxcut_sol = []\n",
        "  for i in sortedSample.keys():\n",
        "    if sortedSample[i] == 0:\n",
        "        maxcut_sol.append(0)\n",
        "    else:\n",
        "        maxcut_sol.append(1)\n",
        "  colors = [\"r\" if maxcut_sol[i] == 0 else \"c\" for i in range(len(maxcut_sol))]\n",
        "  draw_graph(G, colors, pos)\n",
        "  cutsize = 0\n",
        "  for u, v in G.edges():\n",
        "    if maxcut_sol[u] != maxcut_sol[v]:\n",
        "      cutsize += 1\n",
        "  return cutsize"
      ],
      "metadata": {
        "id": "qfFNsLOy-nuK"
      },
      "execution_count": null,
      "outputs": []
    },
    {
      "cell_type": "code",
      "source": [
        "print(\"Execution Time: \" + str(elapsed_time))\n",
        "print(MaxCut(sortedSample))"
      ],
      "metadata": {
        "colab": {
          "base_uri": "https://localhost:8080/",
          "height": 441
        },
        "id": "7b77UkRY-pFs",
        "outputId": "940b5a8e-bd09-4cd7-ac17-fb4f5561e6b0"
      },
      "execution_count": null,
      "outputs": [
        {
          "output_type": "stream",
          "name": "stdout",
          "text": [
            "Execution Time: 0.13405537605285645\n",
            "5\n"
          ]
        },
        {
          "output_type": "display_data",
          "data": {
            "text/plain": [
              "<Figure size 640x480 with 1 Axes>"
            ],
            "image/png": "[encoded data removed]"
          },
          "metadata": {}
        }
      ]
    },
    {
      "cell_type": "markdown",
      "source": [
        "### **Example 3 - Minimum Vertex Cover**"
      ],
      "metadata": {
        "id": "X69KLEdE-uPt"
      }
    },
    {
      "cell_type": "markdown",
      "source": [
        "Initializing an arbitrary Minimum Vertex Cover instance."
      ],
      "metadata": {
        "id": "fXKJ1YJgTqdh"
      }
    },
    {
      "cell_type": "code",
      "source": [
        "# Generating a graph of 4 nodes\n",
        "\n",
        "n = 6  # Number of nodes in graph\n",
        "G = nx.Graph()\n",
        "G.add_nodes_from(np.arange(0, n, 1))\n",
        "edges = [(0, 1, 1.0), (0, 2, 1.0), (1, 2, 1.0), (1, 3, 1.0), (1, 4, 1.0), (1, 5, 1.0)]\n",
        "G.add_weighted_edges_from(edges)\n",
        "\n",
        "colors = [\"r\" for node in G.nodes()]\n",
        "pos = nx.spring_layout(G)\n",
        "\n",
        "draw_graph(G, colors, pos)"
      ],
      "metadata": {
        "colab": {
          "base_uri": "https://localhost:8080/",
          "height": 406
        },
        "id": "jXIzud1A_UEL",
        "outputId": "61ba0dea-df89-427f-ef85-947f9d7970d9"
      },
      "execution_count": null,
      "outputs": [
        {
          "output_type": "display_data",
          "data": {
            "text/plain": [
              "<Figure size 640x480 with 1 Axes>"
            ],
            "image/png": "[encoded data removed]"
          },
          "metadata": {}
        }
      ]
    },
    {
      "cell_type": "markdown",
      "source": [
        "**Minimum Vertex Cover Models**\n",
        "\n",
        "Given an undirected unweighted Graph $G$ with vertex set $V$ with vertices $i$ and edge set $E$ with edges $(i, j)$ the corresponding Ising Hamiltonian is:\n",
        "\n",
        "$$H=P\\sum_{(i, j) \\in E}(1-s_{i})(1-s_{j}) + \\sum_{i \\in V}s_{i}$$\n",
        "\n",
        "Where $s_{i} \\in \\{-1,1\\}$ is the Ising spin variable and $P$ is the penalty coefficient.\n",
        "\n",
        "The corresponding QUBO Model is:\n",
        "\n",
        "$$Q=\\sum_{i \\in V}x_{i} + P(\\sum_{(i, j) \\in E}(1-x_{i}-x_{j}+x_{i}x_{j}))$$\n",
        "\n",
        "Where $x_{i} \\in \\{0, 1\\}$ is a binary quadratic variable.\n",
        "\n",
        "Note in the example $P$ was chosen through trial-and-error although there exists rigorous mathematical processes"
      ],
      "metadata": {
        "id": "Led3XkN-T48h"
      }
    },
    {
      "cell_type": "code",
      "source": [
        "x = Array.create('x', n, 'BINARY')\n",
        "P = 0.5\n",
        "H = sum(x[i] for i in range(n)) + P*sum(1 - x[e[0]] - x[e[1]] + x[e[0]]*x[e[1]] for e in edges)\n",
        "model = H.compile()\n",
        "bqm = model.to_bqm()"
      ],
      "metadata": {
        "id": "mTn9Aunf_W4U"
      },
      "execution_count": null,
      "outputs": []
    },
    {
      "cell_type": "markdown",
      "source": [
        "Running the problem on a DWAVE Simulated Annealing Sampler."
      ],
      "metadata": {
        "id": "GRO67QV6UBTD"
      }
    },
    {
      "cell_type": "code",
      "source": [
        "sa = neal.SimulatedAnnealingSampler()\n",
        "start_time = time.time()\n",
        "sampleset = sa.sample(bqm, num_reads=1000)\n",
        "end_time = time.time()\n",
        "elapsed_time = end_time - start_time\n",
        "decoded_samples = model.decode_sampleset(sampleset)\n",
        "sample = min(decoded_samples, key=lambda x: x.energy)"
      ],
      "metadata": {
        "id": "9bK7GWDN_bd4"
      },
      "execution_count": null,
      "outputs": []
    },
    {
      "cell_type": "code",
      "source": [
        "#Sorts samples by numbers to see which quadratic variables are 0 and 1\n",
        "sampleKeys = list(sample.sample.keys())\n",
        "def sortbynumber(str):\n",
        "    return int(str[2:len(str)-1])\n",
        "sampleKeys.sort(key = sortbynumber)\n",
        "sortedSample = {i: sample.sample[i] for i in sampleKeys}\n",
        "print(sortedSample)"
      ],
      "metadata": {
        "colab": {
          "base_uri": "https://localhost:8080/"
        },
        "id": "OfVC4kBw_mnx",
        "outputId": "65021ac8-5e2f-4b90-dc81-cb9ceaae3ff4"
      },
      "execution_count": null,
      "outputs": [
        {
          "output_type": "stream",
          "name": "stdout",
          "text": [
            "{'x[0]': 0, 'x[1]': 1, 'x[2]': 0, 'x[3]': 0, 'x[4]': 0, 'x[5]': 0}\n"
          ]
        }
      ]
    },
    {
      "cell_type": "code",
      "source": [
        "# Converting the output binary variables to produce a valid output\n",
        "def MVC(sortedSample):\n",
        "  mvc_sol = []\n",
        "  for i in sortedSample.keys():\n",
        "    if sortedSample[i] == 0:\n",
        "        mvc_sol.append(0)\n",
        "    else:\n",
        "        mvc_sol.append(1)\n",
        "  colors = [\"r\" if mvc_sol[i] == 0 else \"c\" for i in range(len(mvc_sol))]\n",
        "  draw_graph(G, colors, pos)\n",
        "  covered = 0\n",
        "  for u, v in G.edges():\n",
        "    if mvc_sol[u] == 1 or mvc_sol[v] == 1:\n",
        "      covered += 1\n",
        "  return covered"
      ],
      "metadata": {
        "id": "HEEvZW02_eSQ"
      },
      "execution_count": null,
      "outputs": []
    },
    {
      "cell_type": "code",
      "source": [
        "print(\"Execution Time: \" + str(elapsed_time))\n",
        "print(MVC(sortedSample))"
      ],
      "metadata": {
        "colab": {
          "base_uri": "https://localhost:8080/",
          "height": 441
        },
        "id": "nmWuTA-m_nsa",
        "outputId": "caf6bfd7-d367-4362-f3a7-1aee94979455"
      },
      "execution_count": null,
      "outputs": [
        {
          "output_type": "stream",
          "name": "stdout",
          "text": [
            "Execution Time: 0.13935399055480957\n",
            "5\n"
          ]
        },
        {
          "output_type": "display_data",
          "data": {
            "text/plain": [
              "<Figure size 640x480 with 1 Axes>"
            ],
            "image/png": "[encoded data removed]"
          },
          "metadata": {}
        }
      ]
    },
    {
      "cell_type": "markdown",
      "source": [
        "### **Example 4 - Cancer Genomics**\n",
        "\n"
      ],
      "metadata": {
        "id": "vsaoPOzMHWcZ"
      }
    },
    {
      "cell_type": "markdown",
      "source": [
        "Identifying Cancer Gene Pathways from the TCGA-AML Data. The techniques used were taken from: https://www.biorxiv.org/content/10.1101/845719v1"
      ],
      "metadata": {
        "id": "LBb-nCz9tXGi"
      }
    },
    {
      "cell_type": "code",
      "source": [
        "# import necessary package for data imports\n",
        "from bravado.client import SwaggerClient"
      ],
      "metadata": {
        "id": "CsBLJFabh5f-"
      },
      "execution_count": null,
      "outputs": []
    },
    {
      "cell_type": "markdown",
      "source": [
        "Accessing AML study data from the cbioportal."
      ],
      "metadata": {
        "id": "dBWwg2n5tdb-"
      }
    },
    {
      "cell_type": "code",
      "source": [
        "# connects to cbioportal to access data\n",
        "#info here https://github.com/mskcc/cbsp-hackathon/blob/master/0-introduction/cbsp_hackathon.ipynb\n",
        "cbioportal = SwaggerClient.from_url('https://www.cbioportal.org/api/v2/api-docs',\n",
        "                                config={\"validate_requests\":False,\"validate_responses\":False,\"validate_swagger_spec\":False})"
      ],
      "metadata": {
        "id": "H-ltglMdiS7U"
      },
      "execution_count": null,
      "outputs": []
    },
    {
      "cell_type": "code",
      "source": [
        "# connects to cbioportal to access data\n",
        "#info here https://github.com/mskcc/cbsp-hackathon/blob/master/0-introduction/cbsp_hackathon.ipynb\n",
        "cbioportal = SwaggerClient.from_url('https://www.cbioportal.org/api/v2/api-docs',\n",
        "                                config={\"validate_requests\":False,\"validate_responses\":False,\"validate_swagger_spec\":False})\n",
        "\n",
        "# access the patient data of AML study\n",
        "patients = cbioportal.Patients.getAllPatientsInStudyUsingGET(studyId='laml_tcga').result()\n",
        "\n",
        "# for each mutation, creates a list of properties associated with the mutation include geneID, patientID, and more\n",
        "InitialMutations = cbioportal.Mutations.getMutationsInMolecularProfileBySampleListIdUsingGET(\n",
        "    molecularProfileId='laml_tcga_mutations',\n",
        "    sampleListId='laml_tcga_all',\n",
        "    projection='DETAILED'\n",
        ").result()"
      ],
      "metadata": {
        "id": "_BVHo8rrizxz"
      },
      "execution_count": null,
      "outputs": []
    },
    {
      "cell_type": "markdown",
      "source": [
        "Identifying the 33 most common genes from the study.\n",
        "\n",
        "Then preprocessing the data to create a Patient-Gene Dictionary to construct the matrices from."
      ],
      "metadata": {
        "id": "3LiOF3IJtkDp"
      }
    },
    {
      "cell_type": "code",
      "source": [
        "# tests if data is correct\n",
        "# Compares the frequency of the 33 most common genes and compares them with the information listed on\n",
        "# https://www.cbioportal.org/study/summary?id=laml_tcga\n",
        "from collections import Counter\n",
        "mutation_counts = Counter([m.gene.hugoGeneSymbol for m in InitialMutations])\n",
        "MostImportantMutationsCounts = mutation_counts.most_common(33)\n",
        "MostImportantMutations = []\n",
        "for i in range(len(MostImportantMutationsCounts)):\n",
        "    MostImportantMutations.append(MostImportantMutationsCounts[i][0])"
      ],
      "metadata": {
        "id": "OAzdERtli_M8"
      },
      "execution_count": null,
      "outputs": []
    },
    {
      "cell_type": "code",
      "source": [
        "# Adds mutations including 33 most frequent genes to a mutations list\n",
        "mutations = []\n",
        "for m in InitialMutations:\n",
        "    if m.gene.hugoGeneSymbol in MostImportantMutations:\n",
        "        mutations.append(m)"
      ],
      "metadata": {
        "id": "M2yjQ1vBjEhK"
      },
      "execution_count": null,
      "outputs": []
    },
    {
      "cell_type": "code",
      "source": [
        "# Creates a gene set also for later use (can also be utilized to count the number of genes)\n",
        "geneset = set()\n",
        "for m in mutations:\n",
        "    geneset.add(m.gene.hugoGeneSymbol)"
      ],
      "metadata": {
        "id": "ua9XoJv4jJ59"
      },
      "execution_count": null,
      "outputs": []
    },
    {
      "cell_type": "code",
      "source": [
        "# creates a patient-(gene-list) dictionary\n",
        "PatientGeneDict = {}\n",
        "# first sort the patients by index\n",
        "def sortPatients(m):\n",
        "    return m.patientId\n",
        "mutations.sort(key = sortPatients)\n",
        "#print(mutations)\n",
        "# iterates through the mutation list\n",
        "for m in mutations:\n",
        "    if m.patientId in PatientGeneDict.keys(): # if the patient is already in dictionary add the gene to their previous gene list\n",
        "        PatientGeneDict[m.patientId].append(m.gene.hugoGeneSymbol)\n",
        "    else:\n",
        "        PatientGeneDict[m.patientId] = [m.gene.hugoGeneSymbol] # else add the patient their associated gene"
      ],
      "metadata": {
        "id": "mum8ggVUjPbq"
      },
      "execution_count": null,
      "outputs": []
    },
    {
      "cell_type": "code",
      "source": [
        "# create independent patient and gene lists\n",
        "patientset = set()\n",
        "for m in mutations:\n",
        "    patientset.add(m.patientId)\n",
        "patientList = [] # patient list\n",
        "for m in patientset:\n",
        "    patientList.append(m)\n",
        "geneList = [] # gene list\n",
        "for gene in geneset:\n",
        "    geneList.append(gene)\n",
        "geneList.sort()"
      ],
      "metadata": {
        "id": "4KKNXfAqjTuC"
      },
      "execution_count": null,
      "outputs": []
    },
    {
      "cell_type": "markdown",
      "source": [
        "Patient-Gene Dictionary that displays each patient and their corresponding gene-list."
      ],
      "metadata": {
        "id": "4FS0DNqFtxKJ"
      }
    },
    {
      "cell_type": "code",
      "source": [
        "# Organized way to visualize the patient-(gene-list) dictionary\n",
        "print(\"Patient-Gene Dictionary:\")\n",
        "for k in PatientGeneDict.keys():\n",
        "    print(k)\n",
        "    print(PatientGeneDict[k])"
      ],
      "metadata": {
        "colab": {
          "base_uri": "https://localhost:8080/"
        },
        "id": "5O_ZATDtjL4F",
        "outputId": "e4473210-9954-400e-c36f-1a6e5ea8cffb"
      },
      "execution_count": null,
      "outputs": [
        {
          "output_type": "stream",
          "name": "stdout",
          "text": [
            "Patient-Gene Dictionary:\n",
            "TCGA-AB-2802\n",
            "['DNMT3A', 'IDH1', 'MT-ND5', 'NPM1', 'NPM1', 'PTPN11']\n",
            "TCGA-AB-2804\n",
            "['PHF6']\n",
            "TCGA-AB-2805\n",
            "['RUNX1', 'RUNX1', 'IDH2']\n",
            "TCGA-AB-2806\n",
            "['PLCE1']\n",
            "TCGA-AB-2807\n",
            "['RUNX1', 'IDH2', 'ASXL1']\n",
            "TCGA-AB-2808\n",
            "['CEBPA', 'NRAS']\n",
            "TCGA-AB-2809\n",
            "['DNMT3A', 'NPM1']\n",
            "TCGA-AB-2810\n",
            "['IDH2', 'NPM1']\n",
            "TCGA-AB-2811\n",
            "['DNMT3A', 'FLT3', 'NPM1', 'SMC1A']\n",
            "TCGA-AB-2812\n",
            "['FLT3', 'NPM1']\n",
            "TCGA-AB-2813\n",
            "['CACNA1B', 'TP53']\n",
            "TCGA-AB-2814\n",
            "['CACNA1B', 'FLT3', 'MT-CO2']\n",
            "TCGA-AB-2816\n",
            "['DNMT3A', 'FLT3', 'NPM1', 'NRAS']\n",
            "TCGA-AB-2817\n",
            "['EZH2', 'EZH2', 'MT-ND5', 'BRINP3']\n",
            "TCGA-AB-2818\n",
            "['DNMT3A', 'FLT3', 'NPM1', 'RAD21']\n",
            "TCGA-AB-2819\n",
            "['KIT']\n",
            "TCGA-AB-2820\n",
            "['MT-CO2', 'TP53']\n",
            "TCGA-AB-2821\n",
            "['RUNX1', 'IDH1', 'IDH2', 'U2AF1', 'ASXL1']\n",
            "TCGA-AB-2822\n",
            "['DNMT3A', 'IDH1', 'SMC1A', 'TET2']\n",
            "TCGA-AB-2824\n",
            "['DNMT3A', 'NPM1', 'SMC1A']\n",
            "TCGA-AB-2825\n",
            "['DNMT3A', 'FLT3', 'NPM1']\n",
            "TCGA-AB-2826\n",
            "['IDH2', 'KRAS', 'NPM1']\n",
            "TCGA-AB-2829\n",
            "['TP53', 'TP53']\n",
            "TCGA-AB-2830\n",
            "['DNMT3A', 'FLT3', 'TET2', 'TET2']\n",
            "TCGA-AB-2831\n",
            "['DNMT3A']\n",
            "TCGA-AB-2833\n",
            "['DNMT3A']\n",
            "TCGA-AB-2834\n",
            "['FLT3']\n",
            "TCGA-AB-2835\n",
            "['NPM1']\n",
            "TCGA-AB-2836\n",
            "['FLT3', 'NPM1']\n",
            "TCGA-AB-2837\n",
            "['NPM1']\n",
            "TCGA-AB-2838\n",
            "['NRAS', 'TP53', 'BRINP3', 'BRINP3']\n",
            "TCGA-AB-2839\n",
            "['CEBPA', 'DNMT3A', 'NPM1', 'NRAS', 'PTPN11', 'WT1', 'SMC3']\n",
            "TCGA-AB-2840\n",
            "['FLT3']\n",
            "TCGA-AB-2843\n",
            "['KIT', 'KIT', 'U2AF1', 'PLCE1']\n",
            "TCGA-AB-2844\n",
            "['FLT3', 'WT1', 'SMC1A']\n",
            "TCGA-AB-2845\n",
            "['CEBPA', 'CEBPA', 'CEBPA', 'TET2']\n",
            "TCGA-AB-2846\n",
            "['KIT', 'KIT', 'WT1']\n",
            "TCGA-AB-2847\n",
            "['U2AF1']\n",
            "TCGA-AB-2848\n",
            "['NPM1']\n",
            "TCGA-AB-2850\n",
            "['RUNX1', 'IDH2', 'STAG2']\n",
            "TCGA-AB-2851\n",
            "['DNMT3A', 'FLT3', 'SMC3']\n",
            "TCGA-AB-2853\n",
            "['DNMT3A', 'FLT3', 'NPM1', 'SMC3']\n",
            "TCGA-AB-2855\n",
            "['PTPN11', 'PHF6']\n",
            "TCGA-AB-2857\n",
            "['TP53']\n",
            "TCGA-AB-2858\n",
            "['SMC1A']\n",
            "TCGA-AB-2859\n",
            "['DNMT3A', 'HNRNPK', 'NPM1']\n",
            "TCGA-AB-2860\n",
            "['TP53']\n",
            "TCGA-AB-2861\n",
            "['DNMT3A', 'KRAS', 'NPM1', 'U2AF1']\n",
            "TCGA-AB-2863\n",
            "['CEBPA', 'DNMT3A', 'IDH1']\n",
            "TCGA-AB-2864\n",
            "['DNMT3A', 'IDH2', 'KRAS', 'ASXL1']\n",
            "TCGA-AB-2865\n",
            "['RUNX1', 'RUNX1', 'EZH2', 'KRAS', 'TET2', 'TET2', 'TET2']\n",
            "TCGA-AB-2866\n",
            "['IDH2']\n",
            "TCGA-AB-2867\n",
            "['DNMT3A', 'DNMT3A', 'IDH1']\n",
            "TCGA-AB-2868\n",
            "['TP53']\n",
            "TCGA-AB-2869\n",
            "['DNMT3A', 'FLT3', 'NPM1']\n",
            "TCGA-AB-2870\n",
            "['COL12A1', 'FLT3', 'NRAS']\n",
            "TCGA-AB-2871\n",
            "['COL12A1', 'FLT3', 'NPM1', 'PTPN11', 'STAG2']\n",
            "TCGA-AB-2872\n",
            "['TTN']\n",
            "TCGA-AB-2873\n",
            "['DNMT3A', 'TET2']\n",
            "TCGA-AB-2874\n",
            "['CEBPA', 'IDH2', 'WT1']\n",
            "TCGA-AB-2875\n",
            "['FLT3']\n",
            "TCGA-AB-2876\n",
            "['TET2', 'TET2']\n",
            "TCGA-AB-2877\n",
            "['FLT3', 'IDH2', 'NPM1']\n",
            "TCGA-AB-2878\n",
            "['CACNA1E', 'TP53', 'TP53']\n",
            "TCGA-AB-2879\n",
            "['FLT3', 'NPM1', 'TET2', 'TET2']\n",
            "TCGA-AB-2880\n",
            "['CEBPA', 'FLT3']\n",
            "TCGA-AB-2881\n",
            "['KIT']\n",
            "TCGA-AB-2882\n",
            "['U2AF1']\n",
            "TCGA-AB-2884\n",
            "['DNMT3A', 'IDH1', 'NPM1', 'PTPN11']\n",
            "TCGA-AB-2885\n",
            "['MT-CO2', 'PTPN11', 'TP53']\n",
            "TCGA-AB-2886\n",
            "['RAD21']\n",
            "TCGA-AB-2887\n",
            "['DNMT3A', 'EZH2', 'IDH1', 'NRAS']\n",
            "TCGA-AB-2888\n",
            "['KIT']\n",
            "TCGA-AB-2890\n",
            "['RUNX1']\n",
            "TCGA-AB-2891\n",
            "['DNMT3A', 'DNMT3A', 'IDH2']\n",
            "TCGA-AB-2892\n",
            "['NRAS']\n",
            "TCGA-AB-2895\n",
            "['DNMT3A', 'FLT3', 'NPM1']\n",
            "TCGA-AB-2896\n",
            "['DNMT3A', 'NPM1']\n",
            "TCGA-AB-2898\n",
            "['DNMT3A', 'DNMT3A', 'IDH2']\n",
            "TCGA-AB-2899\n",
            "['RUNX1']\n",
            "TCGA-AB-2900\n",
            "['CEBPA', 'FLT3', 'MT-CYB', 'NPM1', 'SMC1A']\n",
            "TCGA-AB-2901\n",
            "['IDH1']\n",
            "TCGA-AB-2903\n",
            "['MT-CO2', 'NPM1']\n",
            "TCGA-AB-2904\n",
            "['MT-CYB', 'TP53']\n",
            "TCGA-AB-2905\n",
            "['WT1']\n",
            "TCGA-AB-2906\n",
            "['FLT3']\n",
            "TCGA-AB-2907\n",
            "['RUNX1', 'IDH2', 'TTN', 'ASXL1']\n",
            "TCGA-AB-2908\n",
            "['DNMT3A', 'TP53', 'TP53', 'SMC3', 'TET2']\n",
            "TCGA-AB-2909\n",
            "['FLT3']\n",
            "TCGA-AB-2910\n",
            "['FLT3']\n",
            "TCGA-AB-2912\n",
            "['RUNX1', 'DNMT3A', 'U2AF1', 'SMC3', 'PHF6']\n",
            "TCGA-AB-2913\n",
            "['FLT3', 'NPM1', 'WT1', 'STAG2']\n",
            "TCGA-AB-2914\n",
            "['PTPN11']\n",
            "TCGA-AB-2915\n",
            "['FLT3', 'NPM1']\n",
            "TCGA-AB-2916\n",
            "['DNMT3A']\n",
            "TCGA-AB-2917\n",
            "['COL12A1', 'KRAS']\n",
            "TCGA-AB-2918\n",
            "['FLT3']\n",
            "TCGA-AB-2919\n",
            "['DNMT3A', 'IDH1', 'NPM1', 'WT1']\n",
            "TCGA-AB-2921\n",
            "['FLT3']\n",
            "TCGA-AB-2922\n",
            "['FLT3']\n",
            "TCGA-AB-2923\n",
            "['NRAS', 'TET2', 'TET2']\n",
            "TCGA-AB-2924\n",
            "['FLT3', 'NPM1']\n",
            "TCGA-AB-2925\n",
            "['CACNA1B', 'DNMT3A', 'FLT3', 'NPM1', 'TTN']\n",
            "TCGA-AB-2926\n",
            "['FLT3', 'IDH1']\n",
            "TCGA-AB-2927\n",
            "['RUNX1', 'RUNX1', 'MT-ND5', 'MT-ND5', 'TTN', 'ASXL1']\n",
            "TCGA-AB-2928\n",
            "['DNMT3A', 'DNMT3A', 'FLT3', 'IDH1', 'TET2', 'TET2']\n",
            "TCGA-AB-2929\n",
            "['KRAS']\n",
            "TCGA-AB-2930\n",
            "['FLT3', 'WT1', 'WT1']\n",
            "TCGA-AB-2931\n",
            "['DNMT3A', 'FLT3', 'NPM1']\n",
            "TCGA-AB-2932\n",
            "['NPM1', 'NRAS']\n",
            "TCGA-AB-2933\n",
            "['RUNX1']\n",
            "TCGA-AB-2934\n",
            "['DNMT3A', 'DNMT3A', 'FLT3', 'IDH2', 'MT-CYB']\n",
            "TCGA-AB-2935\n",
            "['TP53']\n",
            "TCGA-AB-2936\n",
            "['RUNX1', 'IDH2']\n",
            "TCGA-AB-2937\n",
            "['DNAH9', 'HNRNPK', 'HNRNPK', 'KIT', 'TET2']\n",
            "TCGA-AB-2938\n",
            "['DNMT3A', 'TP53', 'TP53']\n",
            "TCGA-AB-2939\n",
            "['KIT']\n",
            "TCGA-AB-2940\n",
            "['CEBPA', 'CEBPA']\n",
            "TCGA-AB-2941\n",
            "['MT-ND5', 'TP53']\n",
            "TCGA-AB-2942\n",
            "['FLT3']\n",
            "TCGA-AB-2943\n",
            "['TP53']\n",
            "TCGA-AB-2945\n",
            "['DNMT3A', 'FLT3', 'IDH1', 'KIT', 'NPM1']\n",
            "TCGA-AB-2947\n",
            "['DNMT3A', 'FLT3', 'NPM1']\n",
            "TCGA-AB-2948\n",
            "['IDH2']\n",
            "TCGA-AB-2949\n",
            "['RUNX1', 'DNMT3A', 'IDH1']\n",
            "TCGA-AB-2950\n",
            "['SMC3']\n",
            "TCGA-AB-2952\n",
            "['CEBPA', 'NRAS', 'TP53']\n",
            "TCGA-AB-2955\n",
            "['CEBPA', 'CEBPA', 'DNMT3A', 'MT-CO2']\n",
            "TCGA-AB-2957\n",
            "['FLT3']\n",
            "TCGA-AB-2959\n",
            "['RUNX1', 'IDH2', 'PLCE1', 'PHF6']\n",
            "TCGA-AB-2963\n",
            "['FLT3', 'NPM1', 'PTPN11', 'SMC1A']\n",
            "TCGA-AB-2964\n",
            "['CACNA1E', 'STAG2', 'TET2', 'TET2']\n",
            "TCGA-AB-2965\n",
            "['DNMT3A', 'FLT3', 'NPM1', 'TET2', 'BRINP3']\n",
            "TCGA-AB-2966\n",
            "['DNMT3A', 'IDH2', 'KRAS', 'PLCE1']\n",
            "TCGA-AB-2967\n",
            "['DNMT3A', 'NPM1', 'NRAS', 'RAD21']\n",
            "TCGA-AB-2968\n",
            "['DNMT3A', 'DNMT3A', 'NRAS', 'U2AF1']\n",
            "TCGA-AB-2969\n",
            "['DNMT3A', 'FLT3', 'IDH1', 'NPM1']\n",
            "TCGA-AB-2970\n",
            "['RUNX1', 'FLT3', 'WT1']\n",
            "TCGA-AB-2971\n",
            "['TET2', 'TET2']\n",
            "TCGA-AB-2972\n",
            "['NPM1', 'PTPN11', 'STAG2']\n",
            "TCGA-AB-2973\n",
            "['IDH2', 'NPM1']\n",
            "TCGA-AB-2974\n",
            "['DNMT3A', 'FLT3', 'NPM1']\n",
            "TCGA-AB-2975\n",
            "['DNMT3A', 'RAD21']\n",
            "TCGA-AB-2976\n",
            "['FLT3', 'NPM1', 'WT1', 'PHF6', 'BRINP3']\n",
            "TCGA-AB-2977\n",
            "['IDH1']\n",
            "TCGA-AB-2978\n",
            "['RUNX1', 'DNAH9', 'NRAS', 'STAG2', 'TET2', 'TET2']\n",
            "TCGA-AB-2979\n",
            "['CEBPA', 'CEBPA']\n",
            "TCGA-AB-2980\n",
            "['FLT3']\n",
            "TCGA-AB-2981\n",
            "['DNMT3A', 'FLT3', 'NPM1']\n",
            "TCGA-AB-2983\n",
            "['RUNX1']\n",
            "TCGA-AB-2984\n",
            "['IDH1', 'NPM1', 'NRAS']\n",
            "TCGA-AB-2985\n",
            "['NRAS']\n",
            "TCGA-AB-2986\n",
            "['FLT3', 'NPM1', 'RAD21']\n",
            "TCGA-AB-2987\n",
            "['DNMT3A', 'KRAS', 'NPM1']\n",
            "TCGA-AB-2988\n",
            "['DNMT3A', 'FLT3', 'NPM1']\n",
            "TCGA-AB-2989\n",
            "['NPM1', 'WT1']\n",
            "TCGA-AB-2990\n",
            "['IDH1', 'NPM1']\n",
            "TCGA-AB-2992\n",
            "['IDH1', 'NPM1']\n",
            "TCGA-AB-2993\n",
            "['DNMT3A', 'FLT3', 'NPM1', 'TTN', 'SMC3']\n",
            "TCGA-AB-2994\n",
            "['FLT3']\n",
            "TCGA-AB-2996\n",
            "['U2AF1', 'TET2', 'TET2']\n",
            "TCGA-AB-2997\n",
            "['DNAH9']\n",
            "TCGA-AB-2998\n",
            "['FLT3', 'BRINP3']\n",
            "TCGA-AB-3000\n",
            "['CEBPA', 'CEBPA']\n",
            "TCGA-AB-3001\n",
            "['CACNA1E']\n",
            "TCGA-AB-3002\n",
            "['IDH2']\n",
            "TCGA-AB-3006\n",
            "['FLT3', 'TET2']\n",
            "TCGA-AB-3007\n",
            "['FLT3']\n",
            "TCGA-AB-3008\n",
            "['CEBPA']\n",
            "TCGA-AB-3009\n",
            "['RUNX1', 'TTN', 'WT1', 'PHF6']\n",
            "TCGA-AB-3011\n",
            "['IDH1', 'NPM1']\n"
          ]
        }
      ]
    },
    {
      "cell_type": "markdown",
      "source": [
        "Create the diagonal $D$ matrix to represent gene-coverage."
      ],
      "metadata": {
        "id": "UhHKrGz-t2Fg"
      }
    },
    {
      "cell_type": "code",
      "source": [
        "import numpy as np\n",
        "D = np.zeros((n, n))\n",
        "for i in range(n):\n",
        "    count = 0\n",
        "    for k in PatientGeneDict.keys():\n",
        "        if geneList[i] in PatientGeneDict[k]:\n",
        "            count += 1\n",
        "        D[i][i] = count"
      ],
      "metadata": {
        "id": "4rhZwaSaj0ot"
      },
      "execution_count": null,
      "outputs": []
    },
    {
      "cell_type": "markdown",
      "source": [
        "Generate gene pairs to create the $A_w$ exclusivity matrix"
      ],
      "metadata": {
        "id": "LPepQk79t5mQ"
      }
    },
    {
      "cell_type": "code",
      "source": [
        "from itertools import combinations\n",
        "\n",
        "def generate_power_sets(lst):\n",
        "    power_sets = set()\n",
        "    for subset in combinations(lst, 2):\n",
        "        power_sets.add(tuple(sorted(subset)))\n",
        "    return power_sets"
      ],
      "metadata": {
        "id": "6OCRl7i6j5GR"
      },
      "execution_count": null,
      "outputs": []
    },
    {
      "cell_type": "markdown",
      "source": [
        "Using the patient-gene dictionary, we identify all gene-pairs for each patient. This used to create the $A_w$ matrix."
      ],
      "metadata": {
        "id": "hWm_gmy4t8NX"
      }
    },
    {
      "cell_type": "code",
      "source": [
        "for key in PatientGeneDict:\n",
        "    PatientGeneDict[key] = list(set(PatientGeneDict[key]))\n",
        "# creates a patient-(gene-list-pair) dictionary\n",
        "PatientGeneDictPairs = {}\n",
        "for m in mutations:\n",
        "        PatientGeneDictPairs[m.patientId] = generate_power_sets(PatientGeneDict[m.patientId])"
      ],
      "metadata": {
        "id": "wHoV7f5Yj-vV"
      },
      "execution_count": null,
      "outputs": []
    },
    {
      "cell_type": "markdown",
      "source": [
        "With all the preprocessing done, the $A_w$ matrix is completed."
      ],
      "metadata": {
        "id": "7Q21y6OSuEl3"
      }
    },
    {
      "cell_type": "code",
      "source": [
        "# creates the A_w exclusivity matrix\n",
        "A = np.zeros((n, n))\n",
        "    for j in range(n):\n",
        "        if i != j:\n",
        "            count = 0\n",
        "            for k in PatientGeneDict.keys():\n",
        "                if (geneList[i], geneList[j]) in PatientGeneDictPairs[k]:\n",
        "                    count += 1\n",
        "            A[i][j] = count\n",
        "            A[j][i] = count"
      ],
      "metadata": {
        "id": "rZ2Wm4JTkEab"
      },
      "execution_count": null,
      "outputs": []
    },
    {
      "cell_type": "markdown",
      "source": [
        "Identify properties from the gene pathway:"
      ],
      "metadata": {
        "id": "YSa7cQ87uJ2T"
      }
    },
    {
      "cell_type": "code",
      "source": [
        "# returns the coverage of a gene\n",
        "def gene_coverage(gene):\n",
        "    return D[geneList.index(gene)][geneList.index(gene)]"
      ],
      "metadata": {
        "id": "4wLrkE_4kH_e"
      },
      "execution_count": null,
      "outputs": []
    },
    {
      "cell_type": "code",
      "source": [
        "# returns the coverage of a pathway\n",
        "def coverage(pathway):\n",
        "    coverage_val = 0\n",
        "    for i in pathway:\n",
        "        coverage_val += gene_coverage(i)\n",
        "    return coverage_val"
      ],
      "metadata": {
        "id": "nRRR-o1zkJ37"
      },
      "execution_count": null,
      "outputs": []
    },
    {
      "cell_type": "code",
      "source": [
        "# returns the indepence(exclusivity) of a pathway\n",
        "def indep(pathway):\n",
        "    num_overlap = 0\n",
        "    for i in pathway:\n",
        "        for j in pathway:\n",
        "            if i == j:\n",
        "                pass\n",
        "            else:\n",
        "                num_overlap += A_w[geneList.index(i)][geneList.index(j)]\n",
        "    return num_overlap"
      ],
      "metadata": {
        "id": "JtaVuA1QkQnM"
      },
      "execution_count": null,
      "outputs": []
    },
    {
      "cell_type": "markdown",
      "source": [
        "Using the $A_w$ and $D$ matrices, we create the QUBO to identify the Cancer Genes. As stated in \"Quantum and Quantum-inspired Methods for de novo\n",
        "Discovery of Altered Cancer Pathways\", the QUBO formulation to identify the cancer gene set while balancing Indepence and Coverage is:\n",
        "\n",
        "$$Q=\\mathbf{x}^{T}(A_{w}-\\alpha D)\\mathbf{x}$$\n",
        "\n",
        "Where $D$ and $A_w$ are the previously found matrices and $\\mathbf{x}$ is the vector of binary variables $x_{i}$"
      ],
      "metadata": {
        "id": "Au5EqErhuOec"
      }
    },
    {
      "cell_type": "code",
      "source": [
        "# initializes an array of QUBO variables\n",
        "x = Array.create('x', n, 'BINARY')\n",
        "H1 = sum(sum(A_w[i][j]*x[i]*x[j] for j in range(n)) for i in range(n))\n",
        "H2 = sum(D[i][i]*x[i] for i in range(n))\n",
        "a = Placeholder(\"alpha\")\n",
        "H = H1 - a*H2"
      ],
      "metadata": {
        "id": "Y_0w7KIGkT7I"
      },
      "execution_count": null,
      "outputs": []
    },
    {
      "cell_type": "markdown",
      "source": [
        "Embedding and solving the problem on a DWAVE Simulated Annealer Sampler."
      ],
      "metadata": {
        "id": "LxFE0W2CuYkx"
      }
    },
    {
      "cell_type": "code",
      "source": [
        "# Generate QUBO\n",
        "model = H.compile()\n",
        "feed_dict = {'alpha': 0.45}\n",
        "bqm = model.to_bqm(feed_dict=feed_dict)"
      ],
      "metadata": {
        "id": "FtRKAucCkhjk"
      },
      "execution_count": null,
      "outputs": []
    },
    {
      "cell_type": "markdown",
      "source": [
        "Get sampler solving details."
      ],
      "metadata": {
        "id": "GUnVhA1wufWs"
      }
    },
    {
      "cell_type": "code",
      "source": [
        "# Getting Results from Sampler\n",
        "start_time = time.time()\n",
        "sa = neal.SimulatedAnnealingSampler()\n",
        "sampleset = sa.sample(bqm, num_reads=10)\n",
        "decoded_samples = model.decode_sampleset(sampleset, feed_dict=feed_dict)\n",
        "sample = min(decoded_samples, key=lambda x: x.energy)\n",
        "end_time = time.time()\n",
        "total_time = end_time-start_time"
      ],
      "metadata": {
        "id": "wN6R9TsukqEt"
      },
      "execution_count": null,
      "outputs": []
    },
    {
      "cell_type": "code",
      "source": [
        "#Sorts samples by numbers to see which quadratic variables are 0 and 1\n",
        "sampleKeys = list(sample.sample.keys())\n",
        "def sortbynumber(str):\n",
        "    return int(str[2:len(str)-1])\n",
        "sampleKeys.sort(key = sortbynumber)\n",
        "sortedSample = {i: sample.sample[i] for i in sampleKeys}"
      ],
      "metadata": {
        "id": "m4l0ehbhkvzR"
      },
      "execution_count": null,
      "outputs": []
    },
    {
      "cell_type": "markdown",
      "source": [
        "Print the identified pathway."
      ],
      "metadata": {
        "id": "FCVfRfZtulf1"
      }
    },
    {
      "cell_type": "code",
      "source": [
        "# converts quadratic variables back to genes and computes coverage, coverage/gene, independence, and measure as mentioned in CMU paper\n",
        "pathway = []\n",
        "for i in sampleKeys:\n",
        "    if sortedSample[i] == 1:\n",
        "        pathway.append(geneList[int(i[2:len(i)-1])])\n",
        "        #coverage += D[geneList.index(geneList[int(i[2:len(i)-1])])][geneList.index(geneList[int(i[2:len(i)-1])])]\n",
        "print(pathway)\n",
        "print(\"coverage: \" + str(coverage(pathway)))\n",
        "print(\"coverage/gene: \" + str(round(coverage(pathway)/len(pathway), 2)))\n",
        "print(\"indep: \" + str(indep(pathway)))\n",
        "print(\"measure: \" + str(round(coverage(pathway)/len(pathway)/indep(pathway), 2)))\n",
        "print(total_time)"
      ],
      "metadata": {
        "colab": {
          "base_uri": "https://localhost:8080/"
        },
        "id": "t7Jr9ndVkymr",
        "outputId": "5b3ede40-cdad-4a69-a7e4-ebe027ef2cd2"
      },
      "execution_count": null,
      "outputs": [
        {
          "output_type": "stream",
          "name": "stdout",
          "text": [
            "['ASXL1', 'BRINP3', 'CACNA1B', 'CACNA1E', 'CEBPA', 'COL12A1']\n",
            "coverage: 32.0\n",
            "coverage/gene: 5.33\n",
            "indep: 0.0\n",
            "measure: inf\n",
            "0.03549480438232422\n"
          ]
        },
        {
          "output_type": "stream",
          "name": "stderr",
          "text": [
            "<ipython-input-107-f510e5eab2bb>:11: RuntimeWarning: divide by zero encountered in double_scalars\n",
            "  print(\"measure: \" + str(round(coverage(pathway)/len(pathway)/indep(pathway), 2)))\n"
          ]
        }
      ]
    },
    {
      "cell_type": "markdown",
      "source": [
        "### **Example 5 - Hedge Fund Applications**"
      ],
      "metadata": {
        "id": "DP5IrvtZHfHB"
      }
    },
    {
      "cell_type": "markdown",
      "source": [
        "As derived in the main paper, the Order Partitioning QUBO is of the form:\n",
        "\n",
        "$$Q=a(T-2\\sum_{j=1}^{n}q_{j}x_{j})^2 + b\\sum_{i=1}^{m}(\\sum_{j=1}^{n}p_{ij}(2x_{j}-1))^2$$\n",
        "\n",
        "Where $T$ is the sum of the stock values, $q_{j}$ are the stocks and $p_{ij}$ are the risk factor matrix entries"
      ],
      "metadata": {
        "id": "gTz4Teezvopb"
      }
    },
    {
      "cell_type": "markdown",
      "source": [
        "Creating parameters for the Order Partitioning Problem."
      ],
      "metadata": {
        "id": "sYoyxRM2vfPa"
      }
    },
    {
      "cell_type": "code",
      "source": [
        "Stocks = ['A', 'B', 'C', 'D', 'E', 'F']\n",
        "stock_vals = [300, 100, 100, 200, 200, 100]\n",
        "risk_factor_matrix = [[0.3, 0.1, 0.1, 0.2, 0.2, 0.1],\n",
        "                      [0.4, 0.05, 0.05, 0.12, 0.08, 0.3],\n",
        "                      [0.1, 0.2, 0.2, 0.3, 0.05, 0.05]]\n",
        "T = sum(stock_vals)\n",
        "n = 6 # number of stocks\n",
        "m = 3 # number of risk factors"
      ],
      "metadata": {
        "id": "c9MVhHAKPhJM"
      },
      "execution_count": null,
      "outputs": []
    },
    {
      "cell_type": "markdown",
      "source": [
        "We create the Order Partitioning QUBO."
      ],
      "metadata": {
        "id": "hyTuYTxJwlhp"
      }
    },
    {
      "cell_type": "code",
      "source": [
        "x = Array.create('x', n, 'BINARY')\n",
        "H1 = (T - 2*sum(stock_vals[j]*x[j] for j in range(n)))**2\n",
        "H2 = sum(sum(risk_factor_matrix[i][j]*(2*x[j]-1)**2 for j in range(n)) for i in range(m))"
      ],
      "metadata": {
        "id": "8sudHxYxQDjm"
      },
      "execution_count": null,
      "outputs": []
    },
    {
      "cell_type": "code",
      "source": [
        "# Construct hamiltonian\n",
        "a = Placeholder(\"a\")\n",
        "b = Placeholder(\"b\")\n",
        "H = a*H1 + b*H2\n",
        "model = H.compile()"
      ],
      "metadata": {
        "id": "3Jv--ft-vDfu"
      },
      "execution_count": null,
      "outputs": []
    },
    {
      "cell_type": "code",
      "source": [
        "# Generate QUBO\n",
        "feed_dict = {'a': 2, 'b': 2}\n",
        "bqm = model.to_bqm(feed_dict=feed_dict)"
      ],
      "metadata": {
        "id": "0uOJGlKmP75o"
      },
      "execution_count": null,
      "outputs": []
    },
    {
      "cell_type": "markdown",
      "source": [
        "We solve the QUBO using the Simulated Annealing Sampler."
      ],
      "metadata": {
        "id": "YbtMMIZUw_-5"
      }
    },
    {
      "cell_type": "code",
      "source": [
        "# Getting Results from Sampler\n",
        "start_time = time.time()\n",
        "sa = neal.SimulatedAnnealingSampler()\n",
        "sampleset = sa.sample(bqm, num_reads = 10)\n",
        "decoded_samples = model.decode_sampleset(sampleset, feed_dict=feed_dict)\n",
        "sample = min(decoded_samples, key=lambda x: x.energy)\n",
        "end_time = time.time()"
      ],
      "metadata": {
        "id": "aGO5WAuzP_sb"
      },
      "execution_count": null,
      "outputs": []
    },
    {
      "cell_type": "markdown",
      "source": [
        "We display the solving details and solution."
      ],
      "metadata": {
        "id": "hRyNCTZGxIxE"
      }
    },
    {
      "cell_type": "code",
      "source": [
        "#Sorts samples by numbers to see which quadratic variables are 0 and 1\n",
        "sampleKeys = list(sample.sample.keys())\n",
        "def sortbynumber(str):\n",
        "    return int(str[2:len(str)-1])\n",
        "sampleKeys.sort(key = sortbynumber)\n",
        "sortedSample = {i: sample.sample[i] for i in sampleKeys}\n",
        "print(sortedSample)\n",
        "total_time = end_time - start_time\n",
        "print(total_time)"
      ],
      "metadata": {
        "colab": {
          "base_uri": "https://localhost:8080/"
        },
        "id": "7HEtls56QUGH",
        "outputId": "371a3989-e48c-4134-c5cc-90789a1feed4"
      },
      "execution_count": null,
      "outputs": [
        {
          "output_type": "stream",
          "name": "stdout",
          "text": [
            "{'x[0]': 0, 'x[1]': 1, 'x[2]': 1, 'x[3]': 0, 'x[4]': 1, 'x[5]': 1}\n",
            "0.0068552494049072266\n"
          ]
        }
      ]
    },
    {
      "cell_type": "code",
      "source": [
        "# Converting the output binary variables to produce a valid output\n",
        "Set_A = []\n",
        "net_cost_A = 0\n",
        "net_risk_1A = 0\n",
        "net_risk_2A = 0\n",
        "net_risk_3A = 0\n",
        "Set_B = []\n",
        "net_cost_B = 0\n",
        "net_risk_1B = 0\n",
        "net_risk_2B = 0\n",
        "net_risk_3B = 0\n",
        "keylist = list(sortedSample.keys())\n",
        "for i in range(0, len(keylist)):\n",
        "  if(sortedSample[keylist[i]] == 0):\n",
        "    Set_A.append(Stocks[i])\n",
        "    net_cost_A += stock_vals[i]\n",
        "    net_risk_1A += risk_factor_matrix[0][i]\n",
        "    net_risk_2A += risk_factor_matrix[1][i]\n",
        "    net_risk_3A += risk_factor_matrix[2][i]\n",
        "  else:\n",
        "    Set_B.append(Stocks[i])\n",
        "    net_cost_B += stock_vals[i]\n",
        "    net_risk_1B += risk_factor_matrix[0][i]\n",
        "    net_risk_2B += risk_factor_matrix[1][i]\n",
        "    net_risk_3B += risk_factor_matrix[2][i]\n",
        "print(\"Stock Partition: \", Set_A, Set_B)\n",
        "print(\"Difference of Net Cost between Partition: \", net_cost_A-net_cost_B)\n",
        "print(\"Difference of Net Risk between Partition: \", round((net_risk_1A+net_risk_2A+net_risk_3A)-(net_risk_1B+net_risk_2B+net_risk_3B),2))"
      ],
      "metadata": {
        "colab": {
          "base_uri": "https://localhost:8080/"
        },
        "id": "tUD8I0u9QZas",
        "outputId": "e7880169-bc16-42cc-df26-4f50b16e5db3"
      },
      "execution_count": null,
      "outputs": [
        {
          "output_type": "stream",
          "name": "stdout",
          "text": [
            "Stock Partition:  ['A', 'D'] ['B', 'C', 'E', 'F']\n",
            "Difference of Net Cost between Partition:  0\n",
            "Difference of Net Risk between Partition:  -0.06\n"
          ]
        }
      ]
    }
  ]
}
