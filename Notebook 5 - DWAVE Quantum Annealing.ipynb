{
  "cells": [
    {
      "cell_type": "markdown",
      "source": [
        "#Solving QUBOs with DWAVE Quantum Annealing\n",
        "\n",
        "Date: December 4th, 2023\n",
        "\n",
        "The notebook contains materials supporting the tutorial paper:\n",
        "*Five Starter Problems: Solving QUBOs on Quantum Computers* by Arul Rhik Mazumder (arulm@andrew.cmu.edu) and Sridhar Tayur (stayur@cmu.edu).\n",
        "It depends on various packages shown below."
      ],
      "metadata": {
        "id": "jSfKPkaQIMZX"
      }
    },
    {
      "cell_type": "markdown",
      "source": [
        "### **Introduction**\n",
        "\n",
        "D-Wave Ocean is a software stack and suite of tools provided by D-Wave Systems, a company specializing in quantum computing hardware based on quantum annealing technology. D-Wave Ocean is designed to support the development and execution of quantum annealing applications. Quantum annealing is a specialized approach to quantum computing that focuses on solving optimization problems.\n",
        "\n",
        "D-Wave provides cloud-based access to their quantum annealing processors through the Leap cloud service. Users can access quantum annealing resources remotely, allowing them to run optimization problems on D-Wave's hardware. Their Ocean software stack includes various software tools and libraries that help users formulate, optimize, and solve problems using quantum annealers. It provides high-level abstractions for working with quantum annealing and includes tools for problem modeling, hybrid solvers, and more. More details regarding DWAVE Ocean functionalities can be found in the link below:\n",
        "\n",
        "https://docs.ocean.dwavesys.com/en/stable/"
      ],
      "metadata": {
        "id": "nmZlmSmYIUBb"
      }
    },
    {
      "cell_type": "code",
      "execution_count": null,
      "metadata": {
        "colab": {
          "base_uri": "https://localhost:8080/"
        },
        "id": "nrNGRpMPykL9",
        "outputId": "eac37525-8d4a-4f32-a56b-1257594e9604"
      },
      "outputs": [
        {
          "output_type": "stream",
          "name": "stdout",
          "text": [
            "\u001b[2K     \u001b[90m━━━━━━━━━━━━━━━━━━━━━━━━━━━━━━━━━━━━━━━━\u001b[0m \u001b[32m50.4/50.4 kB\u001b[0m \u001b[31m549.6 kB/s\u001b[0m eta \u001b[36m0:00:00\u001b[0m\n",
            "\u001b[2K   \u001b[90m━━━━━━━━━━━━━━━━━━━━━━━━━━━━━━━━━━━━━━━━\u001b[0m \u001b[32m18.7/18.7 MB\u001b[0m \u001b[31m9.9 MB/s\u001b[0m eta \u001b[36m0:00:00\u001b[0m\n",
            "\u001b[2K   \u001b[90m━━━━━━━━━━━━━━━━━━━━━━━━━━━━━━━━━━━━━━━━\u001b[0m \u001b[32m139.2/139.2 kB\u001b[0m \u001b[31m5.3 MB/s\u001b[0m eta \u001b[36m0:00:00\u001b[0m\n",
            "\u001b[2K   \u001b[90m━━━━━━━━━━━━━━━━━━━━━━━━━━━━━━━━━━━━━━━━\u001b[0m \u001b[32m77.1/77.1 kB\u001b[0m \u001b[31m3.0 MB/s\u001b[0m eta \u001b[36m0:00:00\u001b[0m\n",
            "\u001b[2K   \u001b[90m━━━━━━━━━━━━━━━━━━━━━━━━━━━━━━━━━━━━━━━━\u001b[0m \u001b[32m102.4/102.4 kB\u001b[0m \u001b[31m3.7 MB/s\u001b[0m eta \u001b[36m0:00:00\u001b[0m\n",
            "\u001b[2K   \u001b[90m━━━━━━━━━━━━━━━━━━━━━━━━━━━━━━━━━━━━━━━━\u001b[0m \u001b[32m3.4/3.4 MB\u001b[0m \u001b[31m14.9 MB/s\u001b[0m eta \u001b[36m0:00:00\u001b[0m\n",
            "\u001b[2K   \u001b[90m━━━━━━━━━━━━━━━━━━━━━━━━━━━━━━━━━━━━━━━━\u001b[0m \u001b[32m6.7/6.7 MB\u001b[0m \u001b[31m9.8 MB/s\u001b[0m eta \u001b[36m0:00:00\u001b[0m\n",
            "\u001b[2K   \u001b[90m━━━━━━━━━━━━━━━━━━━━━━━━━━━━━━━━━━━━━━━━\u001b[0m \u001b[32m105.3/105.3 kB\u001b[0m \u001b[31m3.8 MB/s\u001b[0m eta \u001b[36m0:00:00\u001b[0m\n",
            "\u001b[2K   \u001b[90m━━━━━━━━━━━━━━━━━━━━━━━━━━━━━━━━━━━━━━━━\u001b[0m \u001b[32m10.3/10.3 MB\u001b[0m \u001b[31m10.2 MB/s\u001b[0m eta \u001b[36m0:00:00\u001b[0m\n",
            "\u001b[2K   \u001b[90m━━━━━━━━━━━━━━━━━━━━━━━━━━━━━━━━━━━━━━━━\u001b[0m \u001b[32m225.1/225.1 kB\u001b[0m \u001b[31m8.3 MB/s\u001b[0m eta \u001b[36m0:00:00\u001b[0m\n",
            "\u001b[2K   \u001b[90m━━━━━━━━━━━━━━━━━━━━━━━━━━━━━━━━━━━━━━━━\u001b[0m \u001b[32m45.5/45.5 kB\u001b[0m \u001b[31m2.1 MB/s\u001b[0m eta \u001b[36m0:00:00\u001b[0m\n",
            "\u001b[2K   \u001b[90m━━━━━━━━━━━━━━━━━━━━━━━━━━━━━━━━━━━━━━━━\u001b[0m \u001b[32m141.9/141.9 kB\u001b[0m \u001b[31m5.9 MB/s\u001b[0m eta \u001b[36m0:00:00\u001b[0m\n",
            "\u001b[2K   \u001b[90m━━━━━━━━━━━━━━━━━━━━━━━━━━━━━━━━━━━━━━━━\u001b[0m \u001b[32m305.6/305.6 kB\u001b[0m \u001b[31m14.9 MB/s\u001b[0m eta \u001b[36m0:00:00\u001b[0m\n",
            "\u001b[2K     \u001b[90m━━━━━━━━━━━━━━━━━━━━━━━━━━━━━━━━━━━━━━━━\u001b[0m \u001b[32m63.9/63.9 kB\u001b[0m \u001b[31m2.1 MB/s\u001b[0m eta \u001b[36m0:00:00\u001b[0m\n",
            "\u001b[?25h  Preparing metadata (setup.py) ... \u001b[?25l\u001b[?25hdone\n",
            "\u001b[2K   \u001b[90m━━━━━━━━━━━━━━━━━━━━━━━━━━━━━━━━━━━━━━━━\u001b[0m \u001b[32m137.9/137.9 kB\u001b[0m \u001b[31m7.0 MB/s\u001b[0m eta \u001b[36m0:00:00\u001b[0m\n",
            "\u001b[2K   \u001b[90m━━━━━━━━━━━━━━━━━━━━━━━━━━━━━━━━━━━━━━━━\u001b[0m \u001b[32m66.4/66.4 kB\u001b[0m \u001b[31m4.9 MB/s\u001b[0m eta \u001b[36m0:00:00\u001b[0m\n",
            "\u001b[?25h  Building wheel for bravado-core (setup.py) ... \u001b[?25l\u001b[?25hdone\n",
            "\u001b[2K   \u001b[90m━━━━━━━━━━━━━━━━━━━━━━━━━━━━━━━━━━━━━━━━\u001b[0m \u001b[32m245.3/245.3 kB\u001b[0m \u001b[31m7.8 MB/s\u001b[0m eta \u001b[36m0:00:00\u001b[0m\n",
            "\u001b[?25hAll Packages Installed!\n"
          ]
        }
      ],
      "source": [
        "try:\n",
        "  import google.colab\n",
        "  IN_COLAB = True\n",
        "except:\n",
        "  IN_COLAB = False\n",
        "if IN_COLAB:\n",
        "  !pip install -q dwave-ocean-sdk==6.10.0\n",
        "  !pip install -q bravado==11.0.3\n",
        "  !pip install -q pyqubo==1.4.0\n",
        "  print(\"All Packages Installed!\")"
      ]
    },
    {
      "cell_type": "code",
      "execution_count": null,
      "metadata": {
        "id": "bivHUQxScqEv"
      },
      "outputs": [],
      "source": [
        "# imports necessary packages to run on a DWAVE Machine\n",
        "from pyqubo import Spin, Array, Placeholder, Constraint\n",
        "import dimod\n",
        "from dwave.system.samplers import DWaveSampler\n",
        "from dwave.system.composites import EmbeddingComposite\n",
        "import neal\n",
        "\n",
        "# Misc. imports\n",
        "import matplotlib.pyplot as plt\n",
        "import networkx as nx\n",
        "import numpy as np\n",
        "import random\n",
        "import time\n",
        "import os\n",
        "\n",
        "# Connecting to DWAVE Account\n",
        "os.environ['DWAVE_API_TOKEN'] = 'DEV-7aecbd09552afc1cb9cba26c01212e6224025c2c'"
      ]
    },
    {
      "cell_type": "markdown",
      "metadata": {
        "id": "rmGtkI-ufsvs"
      },
      "source": [
        "### **Example 1 - Number Partitioning Problem**"
      ]
    },
    {
      "cell_type": "markdown",
      "source": [
        "Initializing an arbitrary number partitioning instance."
      ],
      "metadata": {
        "id": "qXJ5Y9HtOBBg"
      }
    },
    {
      "cell_type": "code",
      "execution_count": null,
      "metadata": {
        "id": "6F9N6_0DdmhH",
        "colab": {
          "base_uri": "https://localhost:8080/"
        },
        "outputId": "c79fee9d-241e-4d7d-d93b-c600bc50f6b3"
      },
      "outputs": [
        {
          "output_type": "stream",
          "name": "stdout",
          "text": [
            "[25, 7, 13, 31, 42, 17, 21, 10]\n"
          ]
        }
      ],
      "source": [
        "test_1 = [1, 5, 11, 5]\n",
        "test_2 = [25, 7, 13, 31, 42, 17, 21, 10]\n",
        "arr = test_2\n",
        "print(arr)\n",
        "n = len(arr)\n",
        "c = sum(arr)"
      ]
    },
    {
      "cell_type": "markdown",
      "source": [
        "**Number Partitioning Models**\n",
        "\n",
        "Given an array of $n$ integers $[a_{1}, a_{2}, a_{3} ... a_{n}]$, the corresponding Ising Hamiltonian is:\n",
        "\n",
        "$$H=(\\sum_{i=1}^{n}a_{i}s_{i})^2$$\n",
        "\n",
        "Where $s_{i} \\in \\{-1,1\\}$ is the Ising spin variable.\n",
        "\n",
        "Similarly the corresponding QUBO Model is:\n",
        "\n",
        "$$Q=(\\sum_{i=1}^{n}a_{i}-2\\sum_{i=1}^{n}a_{i}x_{i})^{2}$$\n",
        "or\n",
        "$$Q=(c-2\\sum_{i=1}^{n}a_{i}x_{i})^{2}$$\n",
        "\n",
        "Where $c=\\sum_{i=1}^{n}a_{i}$ and $x_{i} \\in \\{0, 1\\}$ is a binary quadratic variable."
      ],
      "metadata": {
        "id": "BUsea3-ZOLH6"
      }
    },
    {
      "cell_type": "code",
      "execution_count": null,
      "metadata": {
        "id": "9cmQLZS7fx0p"
      },
      "outputs": [],
      "source": [
        "x = Array.create('x', n, 'BINARY')\n",
        "H = (c - 2*sum(arr[i]*x[i] for i in range(n)))**2\n",
        "model = H.compile()\n",
        "bqm = model.to_bqm()"
      ]
    },
    {
      "cell_type": "markdown",
      "source": [
        "Embedding and running the problem on the the DWAVE Quantum Annealer. The best solution is the first one with the lowest energy."
      ],
      "metadata": {
        "id": "hU1vhh43OOue"
      }
    },
    {
      "cell_type": "code",
      "execution_count": null,
      "metadata": {
        "id": "7291ILGcf2Px"
      },
      "outputs": [],
      "source": [
        "sampler = EmbeddingComposite(DWaveSampler())\n",
        "sampleset = sampler.sample(bqm, num_reads=1000)\n",
        "sample = sampleset.first"
      ]
    },
    {
      "cell_type": "code",
      "source": [
        "print(sample)"
      ],
      "metadata": {
        "colab": {
          "base_uri": "https://localhost:8080/"
        },
        "id": "xs7pbmes8CL3",
        "outputId": "d7ecc298-04bf-4800-de63-a2fa6e7e771b"
      },
      "execution_count": null,
      "outputs": [
        {
          "output_type": "stream",
          "name": "stdout",
          "text": [
            "Sample(sample={'x[0]': 1, 'x[1]': 1, 'x[2]': 1, 'x[3]': 0, 'x[4]': 0, 'x[5]': 1, 'x[6]': 1, 'x[7]': 0}, energy=0.0, num_occurrences=11, chain_break_fraction=0.0)\n"
          ]
        }
      ]
    },
    {
      "cell_type": "markdown",
      "source": [
        "Print sampler solving details."
      ],
      "metadata": {
        "id": "0HkyJKBAl0bY"
      }
    },
    {
      "cell_type": "code",
      "source": [
        "print(sampleset.info)\n",
        "elapsed_time = float(sampleset.info['timing']['qpu_access_time'])/1000000"
      ],
      "metadata": {
        "colab": {
          "base_uri": "https://localhost:8080/"
        },
        "id": "qMu8vZ6LgyFb",
        "outputId": "6757b08b-9fe5-46c3-df3b-2f4a0c99d2d2"
      },
      "execution_count": null,
      "outputs": [
        {
          "output_type": "stream",
          "name": "stdout",
          "text": [
            "{'timing': {'qpu_sampling_time': 117160.0, 'qpu_anneal_time_per_sample': 20.0, 'qpu_readout_time_per_sample': 76.58, 'qpu_access_time': 132919.56, 'qpu_access_overhead_time': 707.44, 'qpu_programming_time': 15759.56, 'qpu_delay_time_per_sample': 20.58, 'total_post_processing_time': 33.0, 'post_processing_overhead_time': 33.0}, 'problem_id': '865eeeff-65e8-416d-bf98-1f0012d65ff2'}\n"
          ]
        }
      ]
    },
    {
      "cell_type": "code",
      "source": [
        "# Converting the output binary variables to produce a valid output\n",
        "def NPP_measure(sortedSample):\n",
        "  P1 = []\n",
        "  P2 = []\n",
        "  for i in sortedSample.keys():\n",
        "    if sortedSample[i] == 0:\n",
        "        P1.append(arr[int(i[2:len(i)-1])])\n",
        "    else:\n",
        "        P2.append(arr[int(i[2:len(i)-1])])\n",
        "  sum1 = sum(P1[i] for i in range(len(P1)))\n",
        "  sum2 = sum(P2[i] for i in range(len(P2)))\n",
        "  print(P1)\n",
        "  print('Sum: ' + str(sum1))\n",
        "  print(P2)\n",
        "  print('Sum: ' + str(sum2))\n",
        "  return abs(sum2-sum1)"
      ],
      "metadata": {
        "id": "tCdJFESyg6Sh"
      },
      "execution_count": null,
      "outputs": []
    },
    {
      "cell_type": "code",
      "source": [
        "#Sorts samples by numbers to see which quadratic variables are 0 and 1\n",
        "sampleKeys = list(sample.sample.keys())\n",
        "def sortbynumber(str):\n",
        "    return int(str[2:len(str)-1])\n",
        "sampleKeys.sort(key = sortbynumber)\n",
        "sortedSample = {i: sample.sample[i] for i in sampleKeys}\n",
        "#print(sortedSample)\n",
        "print(\"QPU Access Time: \" + str(elapsed_time))\n",
        "NPP_measure(sortedSample)"
      ],
      "metadata": {
        "colab": {
          "base_uri": "https://localhost:8080/"
        },
        "id": "bGZUc2_Cg2xd",
        "outputId": "a7b9a41f-27d2-4755-dddb-c5391cb1b3b9"
      },
      "execution_count": null,
      "outputs": [
        {
          "output_type": "stream",
          "name": "stdout",
          "text": [
            "QPU Access Time: 0.13291956\n",
            "[31, 42, 10]\n",
            "Sum: 83\n",
            "[25, 7, 13, 17, 21]\n",
            "Sum: 83\n"
          ]
        },
        {
          "output_type": "execute_result",
          "data": {
            "text/plain": [
              "0"
            ]
          },
          "metadata": {},
          "execution_count": 9
        }
      ]
    },
    {
      "cell_type": "markdown",
      "source": [
        "### **Example 2 - Max-Cut Problem**"
      ],
      "metadata": {
        "id": "K1EEqPPOhnFt"
      }
    },
    {
      "cell_type": "code",
      "source": [
        "def draw_graph(G, colors, pos):\n",
        "    default_axes = plt.axes()\n",
        "    nx.draw_networkx(G, node_color=colors, node_size=600, alpha=0.8, ax=default_axes, pos=pos)\n",
        "    edge_labels = nx.get_edge_attributes(G, \"weight\")"
      ],
      "metadata": {
        "id": "dKh-JL1ChWC-"
      },
      "execution_count": null,
      "outputs": []
    },
    {
      "cell_type": "markdown",
      "source": [
        "Initializing an arbitrary Max-Cut instance."
      ],
      "metadata": {
        "id": "S_EMhJcnOor1"
      }
    },
    {
      "cell_type": "code",
      "source": [
        "# Generating a graph of 4 nodes\n",
        "\n",
        "n = 5 # Number of nodes in graph\n",
        "G = nx.Graph()\n",
        "G.add_nodes_from(np.arange(0, n, 1))\n",
        "edges = [(0, 1, 1.0), (0, 3, 1.0), (1, 2, 1.0), (2, 3, 1.0), (2, 4, 1.0), (3, 4, 1.0)]\n",
        "G.add_weighted_edges_from(edges)\n",
        "\n",
        "colors = [\"r\" for node in G.nodes()]\n",
        "pos = nx.spring_layout(G)\n",
        "\n",
        "draw_graph(G, colors, pos)"
      ],
      "metadata": {
        "colab": {
          "base_uri": "https://localhost:8080/",
          "height": 406
        },
        "id": "IGEbJVovi34T",
        "outputId": "ac8cbb86-fe25-4344-eb32-7c49a3120954"
      },
      "execution_count": null,
      "outputs": [
        {
          "output_type": "display_data",
          "data": {
            "text/plain": [
              "<Figure size 640x480 with 1 Axes>"
            ],
            "image/png": "[encoded data removed]"
          },
          "metadata": {}
        }
      ]
    },
    {
      "cell_type": "markdown",
      "source": [
        "**Max-Cut Models**\n",
        "\n",
        "Given an undirected unweighted Graph $G$ with vertex set $V$ and edge set $E$ with edges $(i, j)$ the corresponding Ising Hamiltonian is:\n",
        "\n",
        "$$H=\\sum_{(i, j) \\in E}\\frac{1-s_{i}s_{j}}{2}$$\n",
        "\n",
        "Where $s_{i} \\in \\{-1,1\\}$ is the Ising spin variable.\n",
        "\n",
        "The corresponding QUBO Model is:\n",
        "\n",
        "$$Q=\\sum_{(i, j)\\in E}(x_{i}+x_{j}-2x_{i}x_{j})$$\n",
        "\n",
        "Where $x_{i} \\in \\{0, 1\\}$ is a binary quadratic variable."
      ],
      "metadata": {
        "id": "bPPOID6AO-gw"
      }
    },
    {
      "cell_type": "code",
      "source": [
        "x = Array.create('x', n, 'BINARY')\n",
        "H = sum(2*x[e[0]]*x[e[1]] - x[e[0]] - x[e[1]] for e in edges)\n",
        "model = H.compile()\n",
        "bqm = model.to_bqm()"
      ],
      "metadata": {
        "id": "kIq99I6BjpPF"
      },
      "execution_count": null,
      "outputs": []
    },
    {
      "cell_type": "markdown",
      "source": [
        "Embedding and running the problem on the the DWAVE Quantum Annealer."
      ],
      "metadata": {
        "id": "4UD9uYFpPXBd"
      }
    },
    {
      "cell_type": "code",
      "source": [
        "sampler = EmbeddingComposite(DWaveSampler())\n",
        "sampleset = sampler.sample(bqm, num_reads=1000)\n",
        "sample = sampleset.first"
      ],
      "metadata": {
        "id": "Dfez17POloUw"
      },
      "execution_count": null,
      "outputs": []
    },
    {
      "cell_type": "markdown",
      "source": [
        "Print sampler solving details."
      ],
      "metadata": {
        "id": "Vtctk1ztl-KQ"
      }
    },
    {
      "cell_type": "code",
      "source": [
        "print(sampleset.info)\n",
        "elapsed_time = float(sampleset.info['timing']['qpu_access_time'])/1000000"
      ],
      "metadata": {
        "colab": {
          "base_uri": "https://localhost:8080/"
        },
        "id": "QnufWD-Yltsv",
        "outputId": "af7abb45-1c4e-4314-9c5b-7cd00dd8e3b0"
      },
      "execution_count": null,
      "outputs": [
        {
          "output_type": "stream",
          "name": "stdout",
          "text": [
            "{'timing': {'qpu_sampling_time': 97060.0, 'qpu_anneal_time_per_sample': 20.0, 'qpu_readout_time_per_sample': 56.48, 'qpu_access_time': 112819.16, 'qpu_access_overhead_time': 690.84, 'qpu_programming_time': 15759.16, 'qpu_delay_time_per_sample': 20.58, 'total_post_processing_time': 1.0, 'post_processing_overhead_time': 1.0}, 'problem_id': '671f9983-f5b5-48c9-af2d-d3e6b1b7b461'}\n"
          ]
        }
      ]
    },
    {
      "cell_type": "code",
      "source": [
        "#Sorts samples by numbers to see which quadratic variables are 0 and 1\n",
        "sampleKeys = list(sample.sample.keys())\n",
        "sampleKeys.sort(key = sortbynumber)\n",
        "sortedSample = {i: sample.sample[i] for i in sampleKeys}\n",
        "print(sortedSample)"
      ],
      "metadata": {
        "colab": {
          "base_uri": "https://localhost:8080/"
        },
        "id": "LUBa8YvemPbP",
        "outputId": "8fe1c2b8-09da-4298-c843-4f1be9bc996d"
      },
      "execution_count": null,
      "outputs": [
        {
          "output_type": "stream",
          "name": "stdout",
          "text": [
            "{'x[0]': 0, 'x[1]': 1, 'x[2]': 0, 'x[3]': 1, 'x[4]': 0}\n"
          ]
        }
      ]
    },
    {
      "cell_type": "code",
      "source": [
        "# Converting the output binary variables to produce a valid output\n",
        "def MaxCut(sortedSample):\n",
        "  maxcut_sol = []\n",
        "  for i in sortedSample.keys():\n",
        "    if sortedSample[i] == 0:\n",
        "        maxcut_sol.append(0)\n",
        "    else:\n",
        "        maxcut_sol.append(1)\n",
        "  colors = [\"r\" if maxcut_sol[i] == 0 else \"c\" for i in range(len(maxcut_sol))]\n",
        "  draw_graph(G, colors, pos)\n",
        "  cutsize = 0\n",
        "  for u, v in G.edges():\n",
        "    if maxcut_sol[u] != maxcut_sol[v]:\n",
        "      cutsize += 1\n",
        "  return cutsize"
      ],
      "metadata": {
        "id": "VddKyb1UmnOb"
      },
      "execution_count": null,
      "outputs": []
    },
    {
      "cell_type": "code",
      "source": [
        "print(\"QPU Access Time: \" + str(elapsed_time))\n",
        "print(MaxCut(sortedSample))"
      ],
      "metadata": {
        "colab": {
          "base_uri": "https://localhost:8080/",
          "height": 441
        },
        "id": "ORBbH1NHlWCX",
        "outputId": "24384472-ec9b-4026-fd15-e1d9da591211"
      },
      "execution_count": null,
      "outputs": [
        {
          "output_type": "stream",
          "name": "stdout",
          "text": [
            "QPU Access Time: 0.11281916\n",
            "5\n"
          ]
        },
        {
          "output_type": "display_data",
          "data": {
            "text/plain": [
              "<Figure size 640x480 with 1 Axes>"
            ],
            "image/png": "[encoded data removed]"
          },
          "metadata": {}
        }
      ]
    },
    {
      "cell_type": "markdown",
      "source": [
        "### **Example 3 - Minimum Vertex Cover**"
      ],
      "metadata": {
        "id": "fkOqCbqch-Js"
      }
    },
    {
      "cell_type": "markdown",
      "source": [
        "Initializing an arbitrary Minimum Vertex Cover instance."
      ],
      "metadata": {
        "id": "005is5tnP6i6"
      }
    },
    {
      "cell_type": "code",
      "source": [
        "# Generating a graph of 4 nodes\n",
        "\n",
        "n = 6  # Number of nodes in graph\n",
        "G = nx.Graph()\n",
        "G.add_nodes_from(np.arange(0, n, 1))\n",
        "edges = [(0, 1, 1.0), (0, 2, 1.0), (1, 2, 1.0), (1, 3, 1.0), (1, 4, 1.0), (1, 5, 1.0)]\n",
        "G.add_weighted_edges_from(edges)\n",
        "\n",
        "colors = [\"r\" for node in G.nodes()]\n",
        "pos = nx.spring_layout(G)\n",
        "\n",
        "draw_graph(G, colors, pos)"
      ],
      "metadata": {
        "colab": {
          "base_uri": "https://localhost:8080/",
          "height": 406
        },
        "id": "vrPm_6Eqi260",
        "outputId": "4c044227-3f9f-4c1b-da70-8ff83e0ae3fa"
      },
      "execution_count": null,
      "outputs": [
        {
          "output_type": "display_data",
          "data": {
            "text/plain": [
              "<Figure size 640x480 with 1 Axes>"
            ],
            "image/png": "[encoded data removed]"
          },
          "metadata": {}
        }
      ]
    },
    {
      "cell_type": "markdown",
      "source": [
        "**Minimum Vertex Cover Models**\n",
        "\n",
        "Given an undirected unweighted Graph $G$ with vertex set $V$ with vertices $i$ and edge set $E$ with edges $(i, j)$ the corresponding Ising Hamiltonian is:\n",
        "\n",
        "$$H=P\\sum_{(i, j) \\in E}(1-s_{i})(1-s_{j}) + \\sum_{i \\in V}s_{i}$$\n",
        "\n",
        "Where $s_{i} \\in \\{-1,1\\}$ is the Ising spin variable and $P$ is the penalty coefficient.\n",
        "\n",
        "The corresponding QUBO Model is:\n",
        "\n",
        "$$Q=\\sum_{i \\in V}x_{i} + P(\\sum_{(i, j) \\in E}(1-x_{i}-x_{j}+x_{i}x_{j}))$$\n",
        "\n",
        "Where $x_{i} \\in \\{0, 1\\}$ is a binary quadratic variable.\n",
        "\n",
        "Note in the example $P$ was chosen through trial-and-error although there exists rigorous mathematical processes"
      ],
      "metadata": {
        "id": "5x5R37VEQFRM"
      }
    },
    {
      "cell_type": "code",
      "source": [
        "x = Array.create('x', n, 'BINARY')\n",
        "P = 0.5\n",
        "H = sum(x[i] for i in range(n)) + P*sum(1 - x[e[0]] - x[e[1]] + x[e[0]]*x[e[1]] for e in edges)\n",
        "model = H.compile()\n",
        "bqm = model.to_bqm()"
      ],
      "metadata": {
        "id": "mqy0XtNXsr6L"
      },
      "execution_count": null,
      "outputs": []
    },
    {
      "cell_type": "markdown",
      "source": [
        "Embedding and solving the problem on a DWAVE Quantum Annealer."
      ],
      "metadata": {
        "id": "Ep0AgD5nQMu5"
      }
    },
    {
      "cell_type": "code",
      "source": [
        "sampler = EmbeddingComposite(DWaveSampler())\n",
        "sampleset = sampler.sample(bqm, num_reads=1000)\n",
        "sample = sampleset.first"
      ],
      "metadata": {
        "id": "kvBaTootsvaq"
      },
      "execution_count": null,
      "outputs": []
    },
    {
      "cell_type": "markdown",
      "source": [
        "Print sampler solving details."
      ],
      "metadata": {
        "id": "UGzwBg_MmFYb"
      }
    },
    {
      "cell_type": "code",
      "source": [
        "print(sampleset.info)\n",
        "elapsed_time = float(sampleset.info['timing']['qpu_access_time'])/1000000"
      ],
      "metadata": {
        "colab": {
          "base_uri": "https://localhost:8080/"
        },
        "id": "wsSAfkyOs01U",
        "outputId": "a06ff8ea-bd3d-4f77-9f4a-bbaa78b4899f"
      },
      "execution_count": null,
      "outputs": [
        {
          "output_type": "stream",
          "name": "stdout",
          "text": [
            "{'timing': {'qpu_sampling_time': 120400.0, 'qpu_anneal_time_per_sample': 20.0, 'qpu_readout_time_per_sample': 79.82, 'qpu_access_time': 136159.16, 'qpu_access_overhead_time': 750.84, 'qpu_programming_time': 15759.16, 'qpu_delay_time_per_sample': 20.58, 'total_post_processing_time': 15.0, 'post_processing_overhead_time': 15.0}, 'problem_id': '35fd3185-d5a2-47dc-8f05-822e9dcb12a8'}\n"
          ]
        }
      ]
    },
    {
      "cell_type": "code",
      "source": [
        "#Sorts samples by numbers to see which quadratic variables are 0 and 1\n",
        "sampleKeys = list(sample.sample.keys())\n",
        "sampleKeys.sort(key = sortbynumber)\n",
        "sortedSample = {i: sample.sample[i] for i in sampleKeys}\n",
        "print(sortedSample)"
      ],
      "metadata": {
        "colab": {
          "base_uri": "https://localhost:8080/"
        },
        "id": "sO_wRbaFs3HA",
        "outputId": "ef646a9e-5b3b-4ae5-d254-df37f3216941"
      },
      "execution_count": null,
      "outputs": [
        {
          "output_type": "stream",
          "name": "stdout",
          "text": [
            "{'x[0]': 0, 'x[1]': 1, 'x[2]': 0, 'x[3]': 0, 'x[4]': 0, 'x[5]': 0}\n"
          ]
        }
      ]
    },
    {
      "cell_type": "code",
      "source": [
        "# Converting the output binary variables to produce a valid output\n",
        "def MVC(sortedSample):\n",
        "  mvc_sol = []\n",
        "  for i in sortedSample.keys():\n",
        "    if sortedSample[i] == 0:\n",
        "        mvc_sol.append(0)\n",
        "    else:\n",
        "        mvc_sol.append(1)\n",
        "  colors = [\"r\" if mvc_sol[i] == 0 else \"c\" for i in range(len(mvc_sol))]\n",
        "  draw_graph(G, colors, pos)\n",
        "  covered = 0\n",
        "  for u, v in G.edges():\n",
        "    if mvc_sol[u] == 1 or mvc_sol[v] == 1:\n",
        "      covered += 1\n",
        "  return covered"
      ],
      "metadata": {
        "id": "ECjJ6Hvds5Ko"
      },
      "execution_count": null,
      "outputs": []
    },
    {
      "cell_type": "code",
      "source": [
        "print(\"QPU Access Time: \" + str(elapsed_time))\n",
        "print(MVC(sortedSample))"
      ],
      "metadata": {
        "colab": {
          "base_uri": "https://localhost:8080/",
          "height": 441
        },
        "id": "WVCraT0ItKeZ",
        "outputId": "dc12a90f-a462-4b50-ea0e-c31d311d44e3"
      },
      "execution_count": null,
      "outputs": [
        {
          "output_type": "stream",
          "name": "stdout",
          "text": [
            "QPU Access Time: 0.13615916\n",
            "5\n"
          ]
        },
        {
          "output_type": "display_data",
          "data": {
            "text/plain": [
              "<Figure size 640x480 with 1 Axes>"
            ],
            "image/png": "[encoded data removed]"
          },
          "metadata": {}
        }
      ]
    },
    {
      "cell_type": "markdown",
      "source": [
        "### **Example 4 - Cancer Genomics**"
      ],
      "metadata": {
        "id": "-XyyA-4PJcc9"
      }
    },
    {
      "cell_type": "markdown",
      "source": [
        "Identifying Cancer Gene Pathways from the TCGA-AML Data. The techniques used were taken from: https://www.biorxiv.org/content/10.1101/845719v1"
      ],
      "metadata": {
        "id": "dKKhh4zcm1DM"
      }
    },
    {
      "cell_type": "code",
      "source": [
        "# import necessary package for data imports\n",
        "from bravado.client import SwaggerClient\n",
        "from itertools import combinations\n",
        "\n",
        "# connects to cbioportal to access data\n",
        "cbioportal = SwaggerClient.from_url('https://www.cbioportal.org/api/v2/api-docs',\n",
        "                                    config={\"validate_requests\":False,\"validate_responses\":False,\"validate_swagger_spec\":False})"
      ],
      "metadata": {
        "id": "1HdMLIbyJfpp"
      },
      "execution_count": null,
      "outputs": []
    },
    {
      "cell_type": "markdown",
      "source": [
        "Accessing AML study data from the cbioportal."
      ],
      "metadata": {
        "id": "i76Hf14vmW-y"
      }
    },
    {
      "cell_type": "code",
      "source": [
        "# accesses cbioportal's AML study data\n",
        "aml = cbioportal.Cancer_Types.getCancerTypeUsingGET(cancerTypeId='aml').result()\n",
        "\n",
        "# access the patient data of AML study\n",
        "patients = cbioportal.Patients.getAllPatientsInStudyUsingGET(studyId='laml_tcga').result()\n",
        "\n",
        "# for each mutation, creates a list of properties associated with the mutation include geneID, patientID, and more\n",
        "InitialMutations = cbioportal.Mutations.getMutationsInMolecularProfileBySampleListIdUsingGET(\n",
        "    molecularProfileId='laml_tcga_mutations',\n",
        "    sampleListId='laml_tcga_all',\n",
        "    projection='DETAILED'\n",
        ").result()"
      ],
      "metadata": {
        "id": "bGxIUd9QJ8xH"
      },
      "execution_count": null,
      "outputs": []
    },
    {
      "cell_type": "markdown",
      "source": [
        "Identifying the $33$ most common genes from the study.\n",
        "\n",
        "Then preprocessing the data to create a Patient-Gene Dictionary to construct the matrices from."
      ],
      "metadata": {
        "id": "b98dveyUme-Q"
      }
    },
    {
      "cell_type": "code",
      "source": [
        "# tests if data is correct\n",
        "# Compares the frequency of the 33 most common genes and compares them with the information listed on\n",
        "# https://www.cbioportal.org/study/summary?id=laml_tcga\n",
        "from collections import Counter\n",
        "mutation_counts = Counter([m.gene.hugoGeneSymbol for m in InitialMutations])\n",
        "MostImportantMutationsCounts = mutation_counts.most_common(33)\n",
        "MostImportantMutations = []\n",
        "for i in range(len(MostImportantMutationsCounts)):\n",
        "    MostImportantMutations.append(MostImportantMutationsCounts[i][0])"
      ],
      "metadata": {
        "id": "0ItI8t7kLoLr"
      },
      "execution_count": null,
      "outputs": []
    },
    {
      "cell_type": "code",
      "source": [
        "# Sort the patients by index\n",
        "def sortPatients(m):\n",
        "    return m.patientId"
      ],
      "metadata": {
        "id": "pKfv69J2LR-N"
      },
      "execution_count": null,
      "outputs": []
    },
    {
      "cell_type": "code",
      "source": [
        "mutations = []\n",
        "for m in InitialMutations:\n",
        "    if m.gene.hugoGeneSymbol in MostImportantMutations:\n",
        "        mutations.append(m)\n",
        "geneset = set()\n",
        "\n",
        "for m in mutations:\n",
        "    geneset.add(m.gene.hugoGeneSymbol)\n",
        "# creates a patient-(gene-list) dictionary\n",
        "\n",
        "PatientGeneDict = {}\n",
        "mutations.sort(key = sortPatients)\n",
        "\n",
        "for m in mutations:\n",
        "    if m.patientId in PatientGeneDict.keys(): # if the patient is already in dictionary add the gene to their previous gene list\n",
        "        PatientGeneDict[m.patientId].append(m.gene.hugoGeneSymbol)\n",
        "    else:\n",
        "        PatientGeneDict[m.patientId] = [m.gene.hugoGeneSymbol] # else add the patient their associated gene"
      ],
      "metadata": {
        "id": "fj6MoiK5LCFS"
      },
      "execution_count": null,
      "outputs": []
    },
    {
      "cell_type": "code",
      "source": [
        "# create independent patient and gene lists\n",
        "patientset = set()\n",
        "for m in mutations:\n",
        "    patientset.add(m.patientId)\n",
        "patientList = [] # patient list\n",
        "for m in patientset:\n",
        "    patientList.append(m)\n",
        "geneList = [] # gene list\n",
        "for gene in geneset:\n",
        "    geneList.append(gene)\n",
        "geneList.sort()"
      ],
      "metadata": {
        "id": "rWt2368cNRx4"
      },
      "execution_count": null,
      "outputs": []
    },
    {
      "cell_type": "code",
      "source": [
        "for key in PatientGeneDict:\n",
        "    PatientGeneDict[key] = list(set(PatientGeneDict[key]))"
      ],
      "metadata": {
        "id": "Idc6ZMDKL5Wa"
      },
      "execution_count": null,
      "outputs": []
    },
    {
      "cell_type": "markdown",
      "source": [
        "Patient-Gene Dictionary that displays each patient and their corresponding gene-list."
      ],
      "metadata": {
        "id": "dTMgPUmUnkj9"
      }
    },
    {
      "cell_type": "code",
      "source": [
        "# Organized way to visualize the patient-(gene-list) dictionary\n",
        "print(\"Patient-Gene Dictionary:\")\n",
        "for k in PatientGeneDict.keys():\n",
        "    print(k)\n",
        "    print(PatientGeneDict[k])"
      ],
      "metadata": {
        "id": "2LSDslSkNAp_",
        "colab": {
          "base_uri": "https://localhost:8080/"
        },
        "outputId": "3f3fe26f-a308-4ee4-8fc7-d0c5cf77def5"
      },
      "execution_count": null,
      "outputs": [
        {
          "output_type": "stream",
          "name": "stdout",
          "text": [
            "Patient-Gene Dictionary:\n",
            "TCGA-AB-2802\n",
            "['PTPN11', 'NPM1', 'MT-ND5', 'DNMT3A', 'IDH1']\n",
            "TCGA-AB-2804\n",
            "['PHF6']\n",
            "TCGA-AB-2805\n",
            "['IDH2', 'RUNX1']\n",
            "TCGA-AB-2806\n",
            "['KDM6A', 'PLCE1', 'CROCC']\n",
            "TCGA-AB-2807\n",
            "['IDH2', 'ASXL1', 'RUNX1']\n",
            "TCGA-AB-2808\n",
            "['CEBPA', 'NRAS']\n",
            "TCGA-AB-2809\n",
            "['DNMT3A', 'NPM1']\n",
            "TCGA-AB-2810\n",
            "['IDH2', 'NPM1']\n",
            "TCGA-AB-2811\n",
            "['NPM1', 'SMC1A', 'DNMT3A', 'FLT3']\n",
            "TCGA-AB-2812\n",
            "['FLT3', 'NPM1']\n",
            "TCGA-AB-2813\n",
            "['CACNA1B', 'TP53']\n",
            "TCGA-AB-2814\n",
            "['MT-CO2', 'CACNA1B', 'FLT3']\n",
            "TCGA-AB-2816\n",
            "['NPM1', 'DNMT3A', 'NRAS', 'FLT3']\n",
            "TCGA-AB-2817\n",
            "['BRINP3', 'MT-ND5', 'EZH2']\n",
            "TCGA-AB-2818\n",
            "['NPM1', 'DNMT3A', 'FLT3', 'RAD21']\n",
            "TCGA-AB-2819\n",
            "['KIT']\n",
            "TCGA-AB-2820\n",
            "['SUZ12', 'MT-CO2', 'TP53']\n",
            "TCGA-AB-2821\n",
            "['RUNX1', 'U2AF1', 'IDH2', 'IDH1', 'ASXL1']\n",
            "TCGA-AB-2822\n",
            "['IDH1', 'SMC1A', 'DNMT3A', 'TET2']\n",
            "TCGA-AB-2824\n",
            "['SMC1A', 'DNMT3A', 'NPM1']\n",
            "TCGA-AB-2825\n",
            "['DNMT3A', 'NPM1', 'FLT3']\n",
            "TCGA-AB-2826\n",
            "['IDH2', 'KRAS', 'NPM1']\n",
            "TCGA-AB-2828\n",
            "['FCGBP']\n",
            "TCGA-AB-2829\n",
            "['TP53']\n",
            "TCGA-AB-2830\n",
            "['DNMT3A', 'FLT3', 'TET2']\n",
            "TCGA-AB-2831\n",
            "['DNMT3A']\n",
            "TCGA-AB-2833\n",
            "['PTPRT', 'DNMT3A', 'CROCC']\n",
            "TCGA-AB-2834\n",
            "['FLT3']\n",
            "TCGA-AB-2835\n",
            "['NPM1']\n",
            "TCGA-AB-2836\n",
            "['FLT3', 'NPM1']\n",
            "TCGA-AB-2837\n",
            "['NPM1']\n",
            "TCGA-AB-2838\n",
            "['BRINP3', 'TP53', 'NRAS']\n",
            "TCGA-AB-2839\n",
            "['PTPN11', 'NPM1', 'WT1', 'NRAS', 'DNMT3A', 'SMC3', 'CEBPA']\n",
            "TCGA-AB-2840\n",
            "['FLT3']\n",
            "TCGA-AB-2843\n",
            "['KIT', 'PLCE1', 'U2AF1']\n",
            "TCGA-AB-2844\n",
            "['SMC1A', 'FLT3', 'WT1']\n",
            "TCGA-AB-2845\n",
            "['CEBPA', 'TET2']\n",
            "TCGA-AB-2846\n",
            "['KIT', 'WT1']\n",
            "TCGA-AB-2847\n",
            "['U2AF1']\n",
            "TCGA-AB-2848\n",
            "['NPM1']\n",
            "TCGA-AB-2850\n",
            "['RUNX1', 'IDH2', 'STAG2']\n",
            "TCGA-AB-2851\n",
            "['DNMT3A', 'FLT3', 'SMC3']\n",
            "TCGA-AB-2853\n",
            "['FLT3', 'DNMT3A', 'NPM1', 'SMC3']\n",
            "TCGA-AB-2855\n",
            "['PTPN11', 'PHF6']\n",
            "TCGA-AB-2857\n",
            "['TP53']\n",
            "TCGA-AB-2858\n",
            "['SMC1A']\n",
            "TCGA-AB-2859\n",
            "['DNMT3A', 'NPM1']\n",
            "TCGA-AB-2860\n",
            "['TP53']\n",
            "TCGA-AB-2861\n",
            "['KRAS', 'DNMT3A', 'NPM1', 'U2AF1']\n",
            "TCGA-AB-2863\n",
            "['IDH1', 'CEBPA', 'DNMT3A']\n",
            "TCGA-AB-2864\n",
            "['IDH2', 'KRAS', 'DNMT3A', 'ASXL1']\n",
            "TCGA-AB-2865\n",
            "['KRAS', 'EZH2', 'RUNX1', 'TET2']\n",
            "TCGA-AB-2866\n",
            "['IDH2']\n",
            "TCGA-AB-2867\n",
            "['KDM6A', 'IDH1', 'DNMT3A']\n",
            "TCGA-AB-2868\n",
            "['TP53']\n",
            "TCGA-AB-2869\n",
            "['DNMT3A', 'NPM1', 'FLT3']\n",
            "TCGA-AB-2870\n",
            "['NRAS', 'FLT3']\n",
            "TCGA-AB-2871\n",
            "['PTPN11', 'STAG2', 'FLT3', 'NPM1']\n",
            "TCGA-AB-2872\n",
            "['TTN']\n",
            "TCGA-AB-2873\n",
            "['DNMT3A', 'TET2']\n",
            "TCGA-AB-2874\n",
            "['IDH2', 'CEBPA', 'FCGBP', 'WT1']\n",
            "TCGA-AB-2875\n",
            "['FLT3']\n",
            "TCGA-AB-2876\n",
            "['TET2']\n",
            "TCGA-AB-2877\n",
            "['NPM1', 'IDH2', 'FLT3']\n",
            "TCGA-AB-2878\n",
            "['TP53', 'CROCC']\n",
            "TCGA-AB-2879\n",
            "['FLT3', 'NPM1', 'TET2']\n",
            "TCGA-AB-2880\n",
            "['CEBPA', 'FLT3']\n",
            "TCGA-AB-2881\n",
            "['KIT']\n",
            "TCGA-AB-2882\n",
            "['U2AF1']\n",
            "TCGA-AB-2883\n",
            "['KDM6A']\n",
            "TCGA-AB-2884\n",
            "['NPM1', 'IDH1', 'DNMT3A', 'PTPN11']\n",
            "TCGA-AB-2885\n",
            "['PTPRT', 'MT-CO2', 'PTPN11', 'TP53']\n",
            "TCGA-AB-2886\n",
            "['RAD21']\n",
            "TCGA-AB-2887\n",
            "['DNMT3A', 'IDH1', 'NRAS', 'EZH2']\n",
            "TCGA-AB-2888\n",
            "['KIT']\n",
            "TCGA-AB-2890\n",
            "['RUNX1']\n",
            "TCGA-AB-2891\n",
            "['IDH2', 'DNMT3A']\n",
            "TCGA-AB-2892\n",
            "['NRAS']\n",
            "TCGA-AB-2895\n",
            "['DNMT3A', 'NPM1', 'FLT3']\n",
            "TCGA-AB-2896\n",
            "['DNMT3A', 'NPM1']\n",
            "TCGA-AB-2898\n",
            "['IDH2', 'DNMT3A']\n",
            "TCGA-AB-2899\n",
            "['RUNX1']\n",
            "TCGA-AB-2900\n",
            "['NPM1', 'SMC1A', 'CEBPA', 'FLT3']\n",
            "TCGA-AB-2901\n",
            "['IDH1']\n",
            "TCGA-AB-2903\n",
            "['MT-CO2', 'NPM1']\n",
            "TCGA-AB-2904\n",
            "['TP53']\n",
            "TCGA-AB-2905\n",
            "['WT1']\n",
            "TCGA-AB-2906\n",
            "['FLT3']\n",
            "TCGA-AB-2907\n",
            "['IDH2', 'ASXL1', 'RUNX1', 'TTN']\n",
            "TCGA-AB-2908\n",
            "['TP53', 'DNMT3A', 'SMC3', 'TET2']\n",
            "TCGA-AB-2909\n",
            "['FLT3']\n",
            "TCGA-AB-2910\n",
            "['FLT3']\n",
            "TCGA-AB-2912\n",
            "['RUNX1', 'U2AF1', 'DNMT3A', 'PHF6', 'SMC3']\n",
            "TCGA-AB-2913\n",
            "['NPM1', 'FLT3', 'STAG2', 'WT1']\n",
            "TCGA-AB-2914\n",
            "['PTPN11']\n",
            "TCGA-AB-2915\n",
            "['FLT3', 'NPM1']\n",
            "TCGA-AB-2916\n",
            "['DNMT3A']\n",
            "TCGA-AB-2917\n",
            "['KRAS']\n",
            "TCGA-AB-2918\n",
            "['FLT3']\n",
            "TCGA-AB-2919\n",
            "['IDH1', 'DNMT3A', 'NPM1', 'WT1']\n",
            "TCGA-AB-2921\n",
            "['FLT3']\n",
            "TCGA-AB-2922\n",
            "['FLT3']\n",
            "TCGA-AB-2923\n",
            "['NRAS', 'FCGBP', 'TET2']\n",
            "TCGA-AB-2924\n",
            "['NPM1', 'FLT3']\n",
            "TCGA-AB-2925\n",
            "['NPM1', 'TTN', 'CACNA1B', 'DNMT3A', 'FLT3']\n",
            "TCGA-AB-2926\n",
            "['IDH1', 'FLT3']\n",
            "TCGA-AB-2927\n",
            "['ASXL1', 'MT-ND5', 'RUNX1', 'TTN']\n",
            "TCGA-AB-2928\n",
            "['IDH1', 'DNMT3A', 'FLT3', 'TET2']\n",
            "TCGA-AB-2929\n",
            "['KRAS']\n",
            "TCGA-AB-2930\n",
            "['FLT3', 'WT1']\n",
            "TCGA-AB-2931\n",
            "['DNMT3A', 'NPM1', 'FLT3']\n",
            "TCGA-AB-2932\n",
            "['NRAS', 'NPM1']\n",
            "TCGA-AB-2933\n",
            "['RUNX1']\n",
            "TCGA-AB-2934\n",
            "['IDH2', 'DNMT3A', 'FLT3']\n",
            "TCGA-AB-2935\n",
            "['TP53']\n",
            "TCGA-AB-2936\n",
            "['IDH2', 'RUNX1']\n",
            "TCGA-AB-2937\n",
            "['KIT', 'TET2']\n",
            "TCGA-AB-2938\n",
            "['TP53', 'DNMT3A']\n",
            "TCGA-AB-2939\n",
            "['KIT']\n",
            "TCGA-AB-2940\n",
            "['CEBPA']\n",
            "TCGA-AB-2941\n",
            "['TP53', 'MT-ND5']\n",
            "TCGA-AB-2942\n",
            "['FLT3']\n",
            "TCGA-AB-2943\n",
            "['TP53']\n",
            "TCGA-AB-2945\n",
            "['KIT', 'NPM1', 'DNMT3A', 'IDH1', 'FLT3']\n",
            "TCGA-AB-2947\n",
            "['NPM1', 'DNMT3A', 'FLT3']\n",
            "TCGA-AB-2948\n",
            "['IDH2']\n",
            "TCGA-AB-2949\n",
            "['SUZ12', 'IDH1', 'DNMT3A', 'RUNX1']\n",
            "TCGA-AB-2950\n",
            "['SMC3']\n",
            "TCGA-AB-2952\n",
            "['TP53', 'CEBPA', 'NRAS']\n",
            "TCGA-AB-2955\n",
            "['MT-CO2', 'CEBPA', 'DNMT3A']\n",
            "TCGA-AB-2957\n",
            "['FLT3']\n",
            "TCGA-AB-2959\n",
            "['IDH2', 'PLCE1', 'RUNX1', 'PHF6']\n",
            "TCGA-AB-2963\n",
            "['NPM1', 'PTPN11', 'SMC1A', 'FLT3']\n",
            "TCGA-AB-2964\n",
            "['STAG2', 'TET2']\n",
            "TCGA-AB-2965\n",
            "['BRINP3', 'NPM1', 'DNMT3A', 'TET2', 'FLT3']\n",
            "TCGA-AB-2966\n",
            "['IDH2', 'KRAS', 'DNMT3A', 'PLCE1']\n",
            "TCGA-AB-2967\n",
            "['RAD21', 'NRAS', 'NPM1', 'DNMT3A']\n",
            "TCGA-AB-2968\n",
            "['DNMT3A', 'NRAS', 'U2AF1']\n",
            "TCGA-AB-2969\n",
            "['NPM1', 'IDH1', 'DNMT3A', 'FLT3']\n",
            "TCGA-AB-2970\n",
            "['FLT3', 'RUNX1', 'WT1']\n",
            "TCGA-AB-2971\n",
            "['TET2']\n",
            "TCGA-AB-2972\n",
            "['NPM1', 'PTPN11', 'STAG2']\n",
            "TCGA-AB-2973\n",
            "['IDH2', 'NPM1']\n",
            "TCGA-AB-2974\n",
            "['NPM1', 'DNMT3A', 'FLT3']\n",
            "TCGA-AB-2975\n",
            "['DNMT3A', 'RAD21']\n",
            "TCGA-AB-2976\n",
            "['BRINP3', 'NPM1', 'WT1', 'PHF6', 'FLT3']\n",
            "TCGA-AB-2977\n",
            "['IDH1']\n",
            "TCGA-AB-2978\n",
            "['STAG2', 'NRAS', 'RUNX1', 'TET2']\n",
            "TCGA-AB-2979\n",
            "['CEBPA']\n",
            "TCGA-AB-2980\n",
            "['FLT3']\n",
            "TCGA-AB-2981\n",
            "['DNMT3A', 'NPM1', 'FLT3']\n",
            "TCGA-AB-2983\n",
            "['RUNX1']\n",
            "TCGA-AB-2984\n",
            "['IDH1', 'NRAS', 'NPM1']\n",
            "TCGA-AB-2985\n",
            "['NRAS']\n",
            "TCGA-AB-2986\n",
            "['FLT3', 'NPM1', 'RAD21']\n",
            "TCGA-AB-2987\n",
            "['KRAS', 'DNMT3A', 'NPM1']\n",
            "TCGA-AB-2988\n",
            "['DNMT3A', 'NPM1', 'FLT3']\n",
            "TCGA-AB-2989\n",
            "['NPM1', 'WT1']\n",
            "TCGA-AB-2990\n",
            "['IDH1', 'NPM1']\n",
            "TCGA-AB-2992\n",
            "['IDH1', 'NPM1']\n",
            "TCGA-AB-2993\n",
            "['NPM1', 'TTN', 'PTPRT', 'DNMT3A', 'SMC3', 'FLT3']\n",
            "TCGA-AB-2994\n",
            "['FLT3']\n",
            "TCGA-AB-2996\n",
            "['TET2', 'U2AF1']\n",
            "TCGA-AB-2998\n",
            "['BRINP3', 'FLT3']\n",
            "TCGA-AB-3000\n",
            "['CEBPA']\n",
            "TCGA-AB-3002\n",
            "['IDH2']\n",
            "TCGA-AB-3006\n",
            "['FLT3', 'TET2']\n",
            "TCGA-AB-3007\n",
            "['FLT3']\n",
            "TCGA-AB-3008\n",
            "['CEBPA']\n",
            "TCGA-AB-3009\n",
            "['RUNX1', 'TTN', 'WT1', 'PHF6', 'SUZ12']\n",
            "TCGA-AB-3011\n",
            "['IDH1', 'NPM1']\n"
          ]
        }
      ]
    },
    {
      "cell_type": "markdown",
      "source": [
        "Create the diagonal $\\mathbf{D}$ matrix to represent gene-coverage."
      ],
      "metadata": {
        "id": "bfi4HvFHoAH9"
      }
    },
    {
      "cell_type": "code",
      "source": [
        "import numpy as np\n",
        "D = np.zeros((n, n))\n",
        "for i in range(n):\n",
        "    count = 0\n",
        "    for k in PatientGeneDict.keys():\n",
        "        if geneList[i] in PatientGeneDict[k]:\n",
        "            count += 1\n",
        "        D[i][i] = count"
      ],
      "metadata": {
        "id": "w-inhd8INJEa"
      },
      "execution_count": null,
      "outputs": []
    },
    {
      "cell_type": "markdown",
      "source": [
        "Generate gene pairs to create the $\\mathbf{A}$ exclusivity matrix"
      ],
      "metadata": {
        "id": "fmpdM4qhoMgD"
      }
    },
    {
      "cell_type": "code",
      "source": [
        "def generate_pairs(lst):\n",
        "    pairs = set()\n",
        "    for subset in combinations(lst, 2):\n",
        "        pairs.add(tuple(sorted(subset)))\n",
        "    return pairs"
      ],
      "metadata": {
        "id": "IeUIJXABNWXK"
      },
      "execution_count": null,
      "outputs": []
    },
    {
      "cell_type": "markdown",
      "source": [
        "Using the patient-gene dictionary, we identify all gene-pairs for each patient. This used to create the $\\mathbf{A}$ matrix."
      ],
      "metadata": {
        "id": "q8zgyoQjob1S"
      }
    },
    {
      "cell_type": "code",
      "source": [
        "# creates a patient-(gene-list-pair) dictionary\n",
        "PatientGeneDictPairs = {}\n",
        "for m in mutations:\n",
        "        PatientGeneDictPairs[m.patientId] = generate_pairs(PatientGeneDict[m.patientId])"
      ],
      "metadata": {
        "id": "hTGv8kMkNk8C"
      },
      "execution_count": null,
      "outputs": []
    },
    {
      "cell_type": "markdown",
      "source": [
        "With all the preprocessing done, the $\\mathbf{A}$ matrix is completed.\n"
      ],
      "metadata": {
        "id": "ymU867uhoobM"
      }
    },
    {
      "cell_type": "code",
      "source": [
        "# creates the A exclusivity matrix\n",
        "A = np.zeros((n, n))\n",
        "for j in range(n):\n",
        "    if i != j:\n",
        "        count = 0\n",
        "        for k in PatientGeneDict.keys():\n",
        "            if (geneList[i], geneList[j]) in PatientGeneDictPairs[k]:\n",
        "                count += 1\n",
        "        A[i][j] = count\n",
        "        A[j][i] = count"
      ],
      "metadata": {
        "id": "W8kZDxkrNmpV"
      },
      "execution_count": null,
      "outputs": []
    },
    {
      "cell_type": "markdown",
      "source": [
        "Identify properties from the gene pathway:"
      ],
      "metadata": {
        "id": "MtSSTWzjo3Zi"
      }
    },
    {
      "cell_type": "code",
      "source": [
        "# returns the coverage of a gene\n",
        "def gene_coverage(gene):\n",
        "    return D[geneList.index(gene)][geneList.index(gene)]"
      ],
      "metadata": {
        "id": "zPG2NBKGNre-"
      },
      "execution_count": null,
      "outputs": []
    },
    {
      "cell_type": "code",
      "source": [
        "# returns the coverage of a pathway\n",
        "def coverage(pathway):\n",
        "    coverage_val = 0\n",
        "    for i in pathway:\n",
        "        coverage_val += gene_coverage(i)\n",
        "    return coverage_val"
      ],
      "metadata": {
        "id": "1T9XgW6YNsj7"
      },
      "execution_count": null,
      "outputs": []
    },
    {
      "cell_type": "code",
      "source": [
        "# returns the indepence(exclusivity) of a pathway\n",
        "def indep(pathway):\n",
        "    num_overlap = 0\n",
        "    for i in pathway:\n",
        "        for j in pathway:\n",
        "            if i == j:\n",
        "                pass\n",
        "            else:\n",
        "                num_overlap += A[geneList.index(i)][geneList.index(j)]\n",
        "    return num_overlap"
      ],
      "metadata": {
        "id": "sJdgGUnhNv5I"
      },
      "execution_count": null,
      "outputs": []
    },
    {
      "cell_type": "markdown",
      "source": [
        "Using the $\\mathbf{A}$ and $\\mathbf{D}$ matrices, we create the QUBO to identify the Cancer Genes. As stated in \"Quantum and Quantum-inspired Methods for de novo\n",
        "Discovery of Altered Cancer Pathways\", the QUBO formulation to identify the cancer gene set while balancing Indepence and Coverage is:\n",
        "\n",
        "$$\\mathbf{Q}=\\mathbf{x}^{T}(\\mathbf{A}-\\alpha \\mathbf{D})\\mathbf{x}$$\n",
        "\n",
        "Where $\\mathbf{D}$ and $\\mathbf{A}$ are the previously found matrices and $\\mathbf{x}$ is the vector of binary variables $x_{i}$"
      ],
      "metadata": {
        "id": "dKsRPCgto_r0"
      }
    },
    {
      "cell_type": "code",
      "source": [
        "# initializes an array of QUBO variables\n",
        "x = Array.create('x', n, 'BINARY')\n",
        "H1 = sum(sum(A[i][j]*x[i]*x[j] for j in range(n)) for i in range(n))\n",
        "H2 = sum(D[i][i]*x[i] for i in range(n))\n",
        "a = Placeholder(\"alpha\")\n",
        "H = H1 - a*H2"
      ],
      "metadata": {
        "id": "Lre2IuT8Rgcx"
      },
      "execution_count": null,
      "outputs": []
    },
    {
      "cell_type": "code",
      "source": [
        "# creates a Hamiltonian to run on DWAVE sampler\n",
        "model = H.compile()\n",
        "feed_dict = {'alpha': 0.45}\n",
        "bqm = model.to_bqm(feed_dict=feed_dict)"
      ],
      "metadata": {
        "id": "Q5LbuWbTOJuo"
      },
      "execution_count": null,
      "outputs": []
    },
    {
      "cell_type": "code",
      "source": [
        "# Getting Results from Sampler\n",
        "sampler = EmbeddingComposite(DWaveSampler())\n",
        "sampleset = sampler.sample(bqm, num_reads=1000)\n",
        "sample = sampleset.first"
      ],
      "metadata": {
        "id": "UBfUxALlOQ7k"
      },
      "execution_count": null,
      "outputs": []
    },
    {
      "cell_type": "markdown",
      "source": [
        "Print sampler solving details."
      ],
      "metadata": {
        "id": "1Oc2YrEGpRMT"
      }
    },
    {
      "cell_type": "code",
      "source": [
        "print(sampleset.info)\n",
        "sampleKeys = list(sample.sample.keys())\n",
        "def sortbynumber(str):\n",
        "    return int(str[2:len(str)-1])\n",
        "sampleKeys.sort(key = sortbynumber)\n",
        "sortedSample = {i: sample.sample[i] for i in sampleKeys}"
      ],
      "metadata": {
        "colab": {
          "base_uri": "https://localhost:8080/"
        },
        "id": "NhZK2UZBOS-x",
        "outputId": "c2b78970-1074-4e93-e18b-0372245a8a72"
      },
      "execution_count": null,
      "outputs": [
        {
          "output_type": "stream",
          "name": "stdout",
          "text": [
            "{'timing': {'qpu_sampling_time': 84840.0, 'qpu_anneal_time_per_sample': 20.0, 'qpu_readout_time_per_sample': 44.26, 'qpu_access_time': 100599.16, 'qpu_access_overhead_time': 872.84, 'qpu_programming_time': 15759.16, 'qpu_delay_time_per_sample': 20.58, 'total_post_processing_time': 1.0, 'post_processing_overhead_time': 1.0}, 'problem_id': '935311ce-5c3a-4953-b1d6-f28109c72366'}\n"
          ]
        }
      ]
    },
    {
      "cell_type": "markdown",
      "source": [
        "Print the identified pathway"
      ],
      "metadata": {
        "id": "2RI_41EmpfpU"
      }
    },
    {
      "cell_type": "code",
      "source": [
        "pathway = []\n",
        "for i in sampleKeys:\n",
        "    if sortedSample[i] == 1:\n",
        "        pathway.append(geneList[int(i[2:len(i)-1])])\n",
        "print(pathway)\n",
        "print(\"coverage: \" + str(coverage(pathway)))\n",
        "print(\"coverage/gene: \" + str(round(coverage(pathway)/len(pathway), 2)))\n",
        "print(\"indep: \" + str(indep(pathway)))\n",
        "print(\"measure: \" + str(round(coverage(pathway)/len(pathway)/indep(pathway), 2)))"
      ],
      "metadata": {
        "colab": {
          "base_uri": "https://localhost:8080/"
        },
        "id": "cojQSJYaOb0t",
        "outputId": "1b6e92e0-14e4-45e2-8cfc-25801a45c34a"
      },
      "execution_count": null,
      "outputs": [
        {
          "output_type": "stream",
          "name": "stdout",
          "text": [
            "['ASXL1', 'BRINP3', 'CACNA1B', 'CEBPA', 'CROCC', 'DNMT3A']\n",
            "coverage: 80.0\n",
            "coverage/gene: 13.33\n",
            "indep: 0.0\n",
            "measure: inf\n"
          ]
        },
        {
          "output_type": "stream",
          "name": "stderr",
          "text": [
            "<ipython-input-44-ebed2a313054>:9: RuntimeWarning: divide by zero encountered in scalar divide\n",
            "  print(\"measure: \" + str(round(coverage(pathway)/len(pathway)/indep(pathway), 2)))\n"
          ]
        }
      ]
    },
    {
      "cell_type": "markdown",
      "source": [
        "### **Example 5 - Hedge Fund Applications**"
      ],
      "metadata": {
        "id": "fY9RKhzBJhGF"
      }
    },
    {
      "cell_type": "markdown",
      "source": [
        "As derived in the main paper, the Order Partitioning QUBO is of the form:\n",
        "\n",
        "$$Q=a(T-2\\sum_{j=1}^{n}q_{j}x_{j})^2 + b\\sum_{i=1}^{m}(\\sum_{j=1}^{n}p_{ij}(2x_{j}-1))^2$$\n",
        "\n",
        "Where $T$ is the sum of the stock values, $q_{j}$ are the stocks and $p_{ij}$ are the risk factor matrix entries"
      ],
      "metadata": {
        "id": "ROJEky9Vvvx9"
      }
    },
    {
      "cell_type": "markdown",
      "source": [
        "Creating parameters for the Order Partitioning Problem."
      ],
      "metadata": {
        "id": "1EG-Rrqgp6QW"
      }
    },
    {
      "cell_type": "code",
      "source": [
        "Stocks = ['A', 'B', 'C', 'D', 'E', 'F']\n",
        "stock_vals = [300, 100, 100, 200, 200, 100]\n",
        "#solutions S1 = {100,100,100,200} and S2 = {200,300} or S1 = {300,100,100} and S2 = {200,200,100}.\n",
        "risk_factor_matrix = [[0.3, 0.1, 0.1, 0.2, 0.2, 0.1],\n",
        "                      [0.4, 0.05, 0.05, 0.12, 0.08, 0.3],\n",
        "                      [0.1, 0.2, 0.2, 0.3, 0.05, 0.05]]\n",
        "T = sum(stock_vals)\n",
        "n = 6 # number of stocks\n",
        "m = 3 # number of risk factors"
      ],
      "metadata": {
        "id": "_nvyfCmQfsQD"
      },
      "execution_count": null,
      "outputs": []
    },
    {
      "cell_type": "markdown",
      "source": [
        "We create the Order Partitioning QUBO."
      ],
      "metadata": {
        "id": "Wbrr6tgow7NQ"
      }
    },
    {
      "cell_type": "code",
      "source": [
        "x = Array.create('x', n, 'BINARY')\n",
        "H1 = (T - 2*sum(stock_vals[j]*x[j] for j in range(n)))**2\n",
        "H2 = sum(sum(risk_factor_matrix[i][j]*(2*x[j]-1)**2 for j in range(n)) for i in range(m))\n",
        "\n",
        "# Construct hamiltonian\n",
        "a = Placeholder(\"a\")\n",
        "b = Placeholder(\"b\")\n",
        "H = a*H1 + b*H2\n",
        "model = H.compile()\n",
        "\n",
        "# Generate QUBO\n",
        "feed_dict = {'a': 2, 'b': 2}\n",
        "bqm = model.to_bqm(feed_dict=feed_dict)"
      ],
      "metadata": {
        "id": "CnoVuRTRfuTP"
      },
      "execution_count": null,
      "outputs": []
    },
    {
      "cell_type": "code",
      "source": [
        "# Construct hamiltonian\n",
        "a = Placeholder(\"a\")\n",
        "b = Placeholder(\"b\")\n",
        "H = a*H1 + b*H2\n",
        "model = H.compile()"
      ],
      "metadata": {
        "id": "NgYvbMiWgBTV"
      },
      "execution_count": null,
      "outputs": []
    },
    {
      "cell_type": "code",
      "source": [
        "# Generate QUBO\n",
        "feed_dict = {'a': 2, 'b': 2}\n",
        "bqm = model.to_bqm(feed_dict=feed_dict)"
      ],
      "metadata": {
        "id": "2cVmGQezgHPf"
      },
      "execution_count": null,
      "outputs": []
    },
    {
      "cell_type": "markdown",
      "source": [
        "We solve the QUBO using the Quantum Annealing Sampler."
      ],
      "metadata": {
        "id": "hPpjph88xEad"
      }
    },
    {
      "cell_type": "code",
      "source": [
        "sampler = EmbeddingComposite(DWaveSampler())\n",
        "sampleset = sampler.sample(bqm, num_reads=1000)\n",
        "sample = sampleset.first # gets lowest energy sample"
      ],
      "metadata": {
        "id": "hepAD5-5gJMf"
      },
      "execution_count": null,
      "outputs": []
    },
    {
      "cell_type": "markdown",
      "source": [
        "We display the solving details and solution."
      ],
      "metadata": {
        "id": "O5pitkRBxN33"
      }
    },
    {
      "cell_type": "code",
      "source": [
        "#Sorts samples by numbers to see which quadratic variables are 0 and 1\n",
        "sampleKeys = list(sample.sample.keys())\n",
        "def sortbynumber(str):\n",
        "    return int(str[2:len(str)-1])\n",
        "sampleKeys.sort(key = sortbynumber)\n",
        "sortedSample = {i: sample.sample[i] for i in sampleKeys}\n",
        "print(sortedSample)\n",
        "print(sampleset.info)"
      ],
      "metadata": {
        "colab": {
          "base_uri": "https://localhost:8080/"
        },
        "id": "MxqI_mjPgSL7",
        "outputId": "8632c1d5-7c2f-4f81-f2e2-b695e242c657"
      },
      "execution_count": null,
      "outputs": [
        {
          "output_type": "stream",
          "name": "stdout",
          "text": [
            "{'x[0]': 1, 'x[1]': 0, 'x[2]': 0, 'x[3]': 1, 'x[4]': 0, 'x[5]': 0}\n",
            "{'timing': {'qpu_sampling_time': 123240.0, 'qpu_anneal_time_per_sample': 20.0, 'qpu_readout_time_per_sample': 82.66, 'qpu_access_time': 138998.76, 'qpu_access_overhead_time': 1051.24, 'qpu_programming_time': 15758.76, 'qpu_delay_time_per_sample': 20.58, 'total_post_processing_time': 26.0, 'post_processing_overhead_time': 26.0}, 'problem_id': '2045cadc-6498-40c1-aa6b-2db475eddb9e'}\n"
          ]
        }
      ]
    },
    {
      "cell_type": "code",
      "source": [
        "# Converting the output binary variables to produce a valid output\n",
        "Set_A = []\n",
        "net_cost_A = 0\n",
        "net_risk_1A = 0\n",
        "net_risk_2A = 0\n",
        "net_risk_3A = 0\n",
        "Set_B = []\n",
        "net_cost_B = 0\n",
        "net_risk_1B = 0\n",
        "net_risk_2B = 0\n",
        "net_risk_3B = 0\n",
        "keylist = list(sortedSample.keys())\n",
        "for i in range(0, len(keylist)):\n",
        "  if(sortedSample[keylist[i]] == 0):\n",
        "    Set_A.append(Stocks[i])\n",
        "    net_cost_A += stock_vals[i]\n",
        "    net_risk_1A += risk_factor_matrix[0][i]\n",
        "    net_risk_2A += risk_factor_matrix[1][i]\n",
        "    net_risk_3A += risk_factor_matrix[2][i]\n",
        "  else:\n",
        "    Set_B.append(Stocks[i])\n",
        "    net_cost_B += stock_vals[i]\n",
        "    net_risk_1B += risk_factor_matrix[0][i]\n",
        "    net_risk_2B += risk_factor_matrix[1][i]\n",
        "    net_risk_3B += risk_factor_matrix[2][i]\n",
        "print(\"Stock Partition: \", Set_A, Set_B)\n",
        "print(\"Difference of Net Cost between Partition: \", net_cost_A-net_cost_B)\n",
        "print(\"Difference of Net Risk between Partition: \", round((net_risk_1A+net_risk_2A+net_risk_3A)-(net_risk_1B+net_risk_2B+net_risk_3B),2))"
      ],
      "metadata": {
        "colab": {
          "base_uri": "https://localhost:8080/"
        },
        "id": "ClLmuaPygxWb",
        "outputId": "862041a9-b6a7-4d7e-b2f9-e2ca89267b17"
      },
      "execution_count": null,
      "outputs": [
        {
          "output_type": "stream",
          "name": "stdout",
          "text": [
            "Stock Partition:  ['B', 'C', 'E', 'F'] ['A', 'D']\n",
            "Difference of Net Cost between Partition:  0\n",
            "Difference of Net Risk between Partition:  0.06\n"
          ]
        }
      ]
    }
  ],
  "metadata": {
    "colab": {
      "provenance": []
    },
    "kernelspec": {
      "display_name": "Python 3",
      "name": "python3"
    },
    "language_info": {
      "name": "python"
    }
  },
  "nbformat": 4,
  "nbformat_minor": 0
}
