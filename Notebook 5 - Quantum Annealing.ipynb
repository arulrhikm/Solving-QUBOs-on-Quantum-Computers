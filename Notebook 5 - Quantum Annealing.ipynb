F{
  "cells": [
    {
      "cell_type": "markdown",
      "source": [
        "#Solving QUBOs with DWAVE Quantum Annealing\n",
        "\n",
        "Date: December 4th, 2023\n",
        "\n",
        "The notebook contains materials supporting the tutorial paper:\n",
        "*Five Starter Problems: Solving QUBOs on Quantum Computers* by Arul Rhik Mazumder (arulm@andrew.cmu.edu) and Sridhar Tayur (stayur@cmu.edu).\n",
        "It depends on various packages shown below."
      ],
      "metadata": {
        "id": "jSfKPkaQIMZX"
      }
    },
    {
      "cell_type": "markdown",
      "source": [
        "### **Introduction**\n",
        "\n",
        "D-Wave Ocean is a software stack and suite of tools provided by D-Wave Systems, a company specializing in quantum computing hardware based on quantum annealing technology. D-Wave Ocean is designed to support the development and execution of quantum annealing applications. Quantum annealing is a specialized approach to quantum computing that focuses on solving optimization problems.\n",
        "\n",
        "D-Wave provides cloud-based access to their quantum annealing processors through the Leap cloud service. Users can access quantum annealing resources remotely, allowing them to run optimization problems on D-Wave's hardware. Their Ocean software stack includes various software tools and libraries that help users formulate, optimize, and solve problems using quantum annealers. It provides high-level abstractions for working with quantum annealing and includes tools for problem modeling, hybrid solvers, and more. More details regarding DWAVE Ocean functionalities can be found in the link below:\n",
        "\n",
        "https://docs.ocean.dwavesys.com/en/stable/"
      ],
      "metadata": {
        "id": "nmZlmSmYIUBb"
      }
    },
    {
      "cell_type": "code",
      "execution_count": null,
      "metadata": {
        "colab": {
          "base_uri": "https://localhost:8080/"
        },
        "id": "nrNGRpMPykL9",
        "outputId": "4717efd9-2911-4461-bb92-5defdddab247"
      },
      "outputs": [
        {
          "output_type": "stream",
          "name": "stdout",
          "text": [
            "All Packages Installed!\n"
          ]
        }
      ],
      "source": [
        "try:\n",
        "  import google.colab\n",
        "  IN_COLAB = True\n",
        "except:\n",
        "  IN_COLAB = False\n",
        "if IN_COLAB:\n",
        "  !pip install -q dwave-ocean-sdk==6.10.0\n",
        "  !pip install -q bravado==11.0.3\n",
        "  !pip install -q pyqubo==1.4.0\n",
        "  print(\"All Packages Installed!\")"
      ]
    },
    {
      "cell_type": "code",
      "execution_count": null,
      "metadata": {
        "id": "bivHUQxScqEv"
      },
      "outputs": [],
      "source": [
        "# imports necessary packages to run on a DWAVE Machine\n",
        "from pyqubo import Spin, Array, Placeholder, Constraint\n",
        "import dimod\n",
        "from dwave.system.samplers import DWaveSampler\n",
        "from dwave.system.composites import EmbeddingComposite\n",
        "import neal\n",
        "\n",
        "# Misc. imports\n",
        "import matplotlib.pyplot as plt\n",
        "import networkx as nx\n",
        "import numpy as np\n",
        "import random\n",
        "import time\n",
        "import os\n",
        "\n",
        "# Connecting to DWAVE Account\n",
        "os.environ['DWAVE_API_TOKEN'] = ###################################" # use your own DWAVE Access Key
      ]
    },
    {
      "cell_type": "markdown",
      "metadata": {
        "id": "rmGtkI-ufsvs"
      },
      "source": [
        "### **Example 1 - Number Partitioning Problem**"
      ]
    },
    {
      "cell_type": "markdown",
      "source": [
        "Initializing an arbitrary number partitioning instance."
      ],
      "metadata": {
        "id": "qXJ5Y9HtOBBg"
      }
    },
    {
      "cell_type": "code",
      "execution_count": null,
      "metadata": {
        "id": "6F9N6_0DdmhH",
        "colab": {
          "base_uri": "https://localhost:8080/"
        },
        "outputId": "29a2e374-0438-4a0b-c3ac-a5f67acd4a17"
      },
      "outputs": [
        {
          "output_type": "stream",
          "name": "stdout",
          "text": [
            "[25, 7, 13, 31, 42, 17, 21, 10]\n"
          ]
        }
      ],
      "source": [
        "test_1 = [1, 5, 11, 5]\n",
        "test_2 = [25, 7, 13, 31, 42, 17, 21, 10]\n",
        "arr = test_2\n",
        "print(arr)\n",
        "n = len(arr)\n",
        "c = sum(arr)"
      ]
    },
    {
      "cell_type": "markdown",
      "source": [
        "**Number Partitioning Models**\n",
        "\n",
        "Given an array of $n$ integers $[a_{1}, a_{2}, a_{3} ... a_{n}]$, the corresponding Ising Hamiltonian is:\n",
        "\n",
        "$$H=(\\sum_{i=1}^{n}a_{i}s_{i})^2$$\n",
        "\n",
        "Where $s_{i} \\in \\{-1,1\\}$ is the Ising spin variable.\n",
        "\n",
        "Similarly the corresponding QUBO Model is:\n",
        "\n",
        "$$Q=(\\sum_{i=1}^{n}a_{i}-2\\sum_{i=1}^{n}a_{i}x_{i})^{2}$$\n",
        "or\n",
        "$$Q=(c-2\\sum_{i=1}^{n}a_{i}x_{i})^{2}$$\n",
        "\n",
        "Where $c=\\sum_{i=1}^{n}a_{i}$ and $x_{i} \\in \\{0, 1\\}$ is a binary quadratic variable."
      ],
      "metadata": {
        "id": "BUsea3-ZOLH6"
      }
    },
    {
      "cell_type": "code",
      "execution_count": null,
      "metadata": {
        "id": "9cmQLZS7fx0p"
      },
      "outputs": [],
      "source": [
        "x = Array.create('x', n, 'BINARY')\n",
        "H = (c - 2*sum(arr[i]*x[i] for i in range(n)))**2\n",
        "model = H.compile()\n",
        "bqm = model.to_bqm()"
      ]
    },
    {
      "cell_type": "markdown",
      "source": [
        "Embedding and running the problem on the the DWAVE Quantum Annealer. The best solution is the first one with the lowest energy."
      ],
      "metadata": {
        "id": "hU1vhh43OOue"
      }
    },
    {
      "cell_type": "code",
      "execution_count": null,
      "metadata": {
        "id": "7291ILGcf2Px"
      },
      "outputs": [],
      "source": [
        "sampler = EmbeddingComposite(DWaveSampler())\n",
        "sampleset = sampler.sample(bqm, num_reads=1000)\n",
        "sample = sampleset.first"
      ]
    },
    {
      "cell_type": "markdown",
      "source": [
        "Print sampler solving details."
      ],
      "metadata": {
        "id": "0HkyJKBAl0bY"
      }
    },
    {
      "cell_type": "code",
      "source": [
        "print(sampleset.info)\n",
        "elapsed_time = float(sampleset.info['timing']['qpu_access_time'])/1000000"
      ],
      "metadata": {
        "colab": {
          "base_uri": "https://localhost:8080/"
        },
        "id": "qMu8vZ6LgyFb",
        "outputId": "75fdaaed-9f47-468a-80ca-57128610a130"
      },
      "execution_count": null,
      "outputs": [
        {
          "output_type": "stream",
          "name": "stdout",
          "text": [
            "{'timing': {'qpu_sampling_time': 132640.0, 'qpu_anneal_time_per_sample': 20.0, 'qpu_readout_time_per_sample': 92.1, 'qpu_access_time': 148399.57, 'qpu_access_overhead_time': 1009.43, 'qpu_programming_time': 15759.57, 'qpu_delay_time_per_sample': 20.54, 'total_post_processing_time': 278.0, 'post_processing_overhead_time': 278.0}, 'problem_id': '2be4a122-b265-48d3-bbec-2facb58216b7'}\n"
          ]
        }
      ]
    },
    {
      "cell_type": "code",
      "source": [
        "# Converting the output binary variables to produce a valid output\n",
        "def NPP_measure(sortedSample):\n",
        "  P1 = []\n",
        "  P2 = []\n",
        "  for i in sortedSample.keys():\n",
        "    if sortedSample[i] == 0:\n",
        "        P1.append(arr[int(i[2:len(i)-1])])\n",
        "    else:\n",
        "        P2.append(arr[int(i[2:len(i)-1])])\n",
        "  sum1 = sum(P1[i] for i in range(len(P1)))\n",
        "  sum2 = sum(P2[i] for i in range(len(P2)))\n",
        "  print(P1)\n",
        "  print('Sum: ' + str(sum1))\n",
        "  print(P2)\n",
        "  print('Sum: ' + str(sum2))\n",
        "  return abs(sum2-sum1)"
      ],
      "metadata": {
        "id": "tCdJFESyg6Sh"
      },
      "execution_count": null,
      "outputs": []
    },
    {
      "cell_type": "code",
      "source": [
        "#Sorts samples by numbers to see which quadratic variables are 0 and 1\n",
        "sampleKeys = list(sample.sample.keys())\n",
        "def sortbynumber(str):\n",
        "    return int(str[2:len(str)-1])\n",
        "sampleKeys.sort(key = sortbynumber)\n",
        "sortedSample = {i: sample.sample[i] for i in sampleKeys}\n",
        "#print(sortedSample)\n",
        "print(\"QPU Access Time: \" + str(elapsed_time))\n",
        "NPP_measure(sortedSample)"
      ],
      "metadata": {
        "colab": {
          "base_uri": "https://localhost:8080/"
        },
        "id": "bGZUc2_Cg2xd",
        "outputId": "8b4f951f-32ff-48d8-b59e-0e64ac35df88"
      },
      "execution_count": null,
      "outputs": [
        {
          "output_type": "stream",
          "name": "stdout",
          "text": [
            "QPU Access Time: 0.14839957\n",
            "[31, 42, 10]\n",
            "Sum: 83\n",
            "[25, 7, 13, 17, 21]\n",
            "Sum: 83\n"
          ]
        },
        {
          "output_type": "execute_result",
          "data": {
            "text/plain": [
              "0"
            ]
          },
          "metadata": {},
          "execution_count": 102
        }
      ]
    },
    {
      "cell_type": "markdown",
      "source": [
        "### **Example 2 - Max-Cut Problem**"
      ],
      "metadata": {
        "id": "K1EEqPPOhnFt"
      }
    },
    {
      "cell_type": "code",
      "source": [
        "def draw_graph(G, colors, pos):\n",
        "    default_axes = plt.axes()\n",
        "    nx.draw_networkx(G, node_color=colors, node_size=600, alpha=0.8, ax=default_axes, pos=pos)\n",
        "    edge_labels = nx.get_edge_attributes(G, \"weight\")"
      ],
      "metadata": {
        "id": "dKh-JL1ChWC-"
      },
      "execution_count": null,
      "outputs": []
    },
    {
      "cell_type": "markdown",
      "source": [
        "Initializing an arbitrary Max-Cut instance."
      ],
      "metadata": {
        "id": "S_EMhJcnOor1"
      }
    },
    {
      "cell_type": "code",
      "source": [
        "# Generating a graph of 4 nodes\n",
        "\n",
        "n = 5 # Number of nodes in graph\n",
        "G = nx.Graph()\n",
        "G.add_nodes_from(np.arange(0, n, 1))\n",
        "edges = [(0, 1, 1.0), (0, 3, 1.0), (1, 2, 1.0), (2, 3, 1.0), (2, 4, 1.0), (3, 4, 1.0)]\n",
        "G.add_weighted_edges_from(edges)\n",
        "\n",
        "colors = [\"r\" for node in G.nodes()]\n",
        "pos = nx.spring_layout(G)\n",
        "\n",
        "draw_graph(G, colors, pos)"
      ],
      "metadata": {
        "colab": {
          "base_uri": "https://localhost:8080/",
          "height": 406
        },
        "id": "IGEbJVovi34T",
        "outputId": "b557e916-ed06-4080-8835-2bf24e7f1a3a"
      },
      "execution_count": null,
      "outputs": [
        {
          "output_type": "display_data",
          "data": {
            "text/plain": [
              "<Figure size 640x480 with 1 Axes>"
            ],
            "image/png": "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\n"
          },
          "metadata": {}
        }
      ]
    },
    {
      "cell_type": "markdown",
      "source": [
        "**Max-Cut Models**\n",
        "\n",
        "Given an undirected unweighted Graph $G$ with vertex set $V$ and edge set $E$ with edges $(i, j)$ the corresponding Ising Hamiltonian is:\n",
        "\n",
        "$$H=\\sum_{(i, j) \\in E}\\frac{1-s_{i}s_{j}}{2}$$\n",
        "\n",
        "Where $s_{i} \\in \\{-1,1\\}$ is the Ising spin variable.\n",
        "\n",
        "The corresponding QUBO Model is:\n",
        "\n",
        "$$Q=\\sum_{(i, j)\\in E}(x_{i}+x_{j}-2x_{i}x_{j})$$\n",
        "\n",
        "Where $x_{i} \\in \\{0, 1\\}$ is a binary quadratic variable."
      ],
      "metadata": {
        "id": "bPPOID6AO-gw"
      }
    },
    {
      "cell_type": "code",
      "source": [
        "x = Array.create('x', n, 'BINARY')\n",
        "H = sum(2*x[e[0]]*x[e[1]] - x[e[0]] - x[e[1]] for e in edges)\n",
        "model = H.compile()\n",
        "bqm = model.to_bqm()"
      ],
      "metadata": {
        "id": "kIq99I6BjpPF"
      },
      "execution_count": null,
      "outputs": []
    },
    {
      "cell_type": "markdown",
      "source": [
        "Embedding and running the problem on the the DWAVE Quantum Annealer."
      ],
      "metadata": {
        "id": "4UD9uYFpPXBd"
      }
    },
    {
      "cell_type": "code",
      "source": [
        "sampler = EmbeddingComposite(DWaveSampler())\n",
        "sampleset = sampler.sample(bqm, num_reads=1000)\n",
        "sample = sampleset.first"
      ],
      "metadata": {
        "id": "Dfez17POloUw"
      },
      "execution_count": null,
      "outputs": []
    },
    {
      "cell_type": "markdown",
      "source": [
        "Print sampler solving details."
      ],
      "metadata": {
        "id": "Vtctk1ztl-KQ"
      }
    },
    {
      "cell_type": "code",
      "source": [
        "print(sampleset.info)\n",
        "elapsed_time = float(sampleset.info['timing']['qpu_access_time'])/1000000"
      ],
      "metadata": {
        "colab": {
          "base_uri": "https://localhost:8080/"
        },
        "id": "QnufWD-Yltsv",
        "outputId": "6a9d0d20-1280-4ce8-dd5d-e430df12676a"
      },
      "execution_count": null,
      "outputs": [
        {
          "output_type": "stream",
          "name": "stdout",
          "text": [
            "{'timing': {'qpu_sampling_time': 96380.0, 'qpu_anneal_time_per_sample': 20.0, 'qpu_readout_time_per_sample': 55.84, 'qpu_access_time': 112139.57, 'qpu_access_overhead_time': 814.43, 'qpu_programming_time': 15759.57, 'qpu_delay_time_per_sample': 20.54, 'total_post_processing_time': 617.0, 'post_processing_overhead_time': 617.0}, 'problem_id': '7df0e3eb-9127-467a-ad6c-ee798b807204'}\n"
          ]
        }
      ]
    },
    {
      "cell_type": "code",
      "source": [
        "#Sorts samples by numbers to see which quadratic variables are 0 and 1\n",
        "sampleKeys = list(sample.sample.keys())\n",
        "sampleKeys.sort(key = sortbynumber)\n",
        "sortedSample = {i: sample.sample[i] for i in sampleKeys}\n",
        "print(sortedSample)"
      ],
      "metadata": {
        "colab": {
          "base_uri": "https://localhost:8080/"
        },
        "id": "LUBa8YvemPbP",
        "outputId": "f77840cb-2805-436f-b103-160e73b86c33"
      },
      "execution_count": null,
      "outputs": [
        {
          "output_type": "stream",
          "name": "stdout",
          "text": [
            "{'x[0]': 0, 'x[1]': 1, 'x[2]': 0, 'x[3]': 1, 'x[4]': 1}\n"
          ]
        }
      ]
    },
    {
      "cell_type": "code",
      "source": [
        "# Converting the output binary variables to produce a valid output\n",
        "def MaxCut(sortedSample):\n",
        "  maxcut_sol = []\n",
        "  for i in sortedSample.keys():\n",
        "    if sortedSample[i] == 0:\n",
        "        maxcut_sol.append(0)\n",
        "    else:\n",
        "        maxcut_sol.append(1)\n",
        "  colors = [\"r\" if maxcut_sol[i] == 0 else \"c\" for i in range(len(maxcut_sol))]\n",
        "  draw_graph(G, colors, pos)\n",
        "  cutsize = 0\n",
        "  for u, v in G.edges():\n",
        "    if maxcut_sol[u] != maxcut_sol[v]:\n",
        "      cutsize += 1\n",
        "  return cutsize"
      ],
      "metadata": {
        "id": "VddKyb1UmnOb"
      },
      "execution_count": null,
      "outputs": []
    },
    {
      "cell_type": "code",
      "source": [
        "print(\"QPU Access Time: \" + str(elapsed_time))\n",
        "print(MaxCut(sortedSample))"
      ],
      "metadata": {
        "colab": {
          "base_uri": "https://localhost:8080/",
          "height": 441
        },
        "id": "ORBbH1NHlWCX",
        "outputId": "52c33352-827c-4406-cc00-d1af4fa1d432"
      },
      "execution_count": null,
      "outputs": [
        {
          "output_type": "stream",
          "name": "stdout",
          "text": [
            "QPU Access Time: 0.11213957000000001\n",
            "5\n"
          ]
        },
        {
          "output_type": "display_data",
          "data": {
            "text/plain": [
              "<Figure size 640x480 with 1 Axes>"
            ],
            "image/png": "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\n"
          },
          "metadata": {}
        }
      ]
    },
    {
      "cell_type": "markdown",
      "source": [
        "### **Example 3 - Minimum Vertex Cover**"
      ],
      "metadata": {
        "id": "fkOqCbqch-Js"
      }
    },
    {
      "cell_type": "markdown",
      "source": [
        "Initializing an arbitrary Minimum Vertex Cover instance."
      ],
      "metadata": {
        "id": "005is5tnP6i6"
      }
    },
    {
      "cell_type": "code",
      "source": [
        "# Generating a graph of 4 nodes\n",
        "\n",
        "n = 6  # Number of nodes in graph\n",
        "G = nx.Graph()\n",
        "G.add_nodes_from(np.arange(0, n, 1))\n",
        "edges = [(0, 1, 1.0), (0, 2, 1.0), (1, 2, 1.0), (1, 3, 1.0), (1, 4, 1.0), (1, 5, 1.0)]\n",
        "G.add_weighted_edges_from(edges)\n",
        "\n",
        "colors = [\"r\" for node in G.nodes()]\n",
        "pos = nx.spring_layout(G)\n",
        "\n",
        "draw_graph(G, colors, pos)"
      ],
      "metadata": {
        "colab": {
          "base_uri": "https://localhost:8080/",
          "height": 406
        },
        "id": "vrPm_6Eqi260",
        "outputId": "23a94763-59f1-435e-bd2f-33336a07646f"
      },
      "execution_count": null,
      "outputs": [
        {
          "output_type": "display_data",
          "data": {
            "text/plain": [
              "<Figure size 640x480 with 1 Axes>"
            ],
            "image/png": "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\n"
          },
          "metadata": {}
        }
      ]
    },
    {
      "cell_type": "markdown",
      "source": [
        "**Minimum Vertex Cover Models**\n",
        "\n",
        "Given an undirected unweighted Graph $G$ with vertex set $V$ with vertices $i$ and edge set $E$ with edges $(i, j)$ the corresponding Ising Hamiltonian is:\n",
        "\n",
        "$$H=P\\sum_{(i, j) \\in E}(1-s_{i})(1-s_{j}) + \\sum_{i \\in V}s_{i}$$\n",
        "\n",
        "Where $s_{i} \\in \\{-1,1\\}$ is the Ising spin variable and $P$ is the penalty coefficient.\n",
        "\n",
        "The corresponding QUBO Model is:\n",
        "\n",
        "$$Q=\\sum_{i \\in V}x_{i} + P(\\sum_{(i, j) \\in E}(1-x_{i}-x_{j}+x_{i}x_{j}))$$\n",
        "\n",
        "Where $x_{i} \\in \\{0, 1\\}$ is a binary quadratic variable.\n",
        "\n",
        "Note in the example $P$ was chosen through trial-and-error although there exists rigorous mathematical processes"
      ],
      "metadata": {
        "id": "5x5R37VEQFRM"
      }
    },
    {
      "cell_type": "code",
      "source": [
        "x = Array.create('x', n, 'BINARY')\n",
        "P = 0.5\n",
        "H = sum(x[i] for i in range(n)) + P*sum(1 - x[e[0]] - x[e[1]] + x[e[0]]*x[e[1]] for e in edges)\n",
        "model = H.compile()\n",
        "bqm = model.to_bqm()"
      ],
      "metadata": {
        "id": "mqy0XtNXsr6L"
      },
      "execution_count": null,
      "outputs": []
    },
    {
      "cell_type": "markdown",
      "source": [
        "Embedding and solving the problem on a DWAVE Quantum Annealer."
      ],
      "metadata": {
        "id": "Ep0AgD5nQMu5"
      }
    },
    {
      "cell_type": "code",
      "source": [
        "sampler = EmbeddingComposite(DWaveSampler())\n",
        "sampleset = sampler.sample(bqm, num_reads=1000)\n",
        "sample = sampleset.first"
      ],
      "metadata": {
        "id": "kvBaTootsvaq"
      },
      "execution_count": null,
      "outputs": []
    },
    {
      "cell_type": "markdown",
      "source": [
        "Print sampler solving details."
      ],
      "metadata": {
        "id": "UGzwBg_MmFYb"
      }
    },
    {
      "cell_type": "code",
      "source": [
        "print(sampleset.info)\n",
        "elapsed_time = float(sampleset.info['timing']['qpu_access_time'])/1000000"
      ],
      "metadata": {
        "colab": {
          "base_uri": "https://localhost:8080/"
        },
        "id": "wsSAfkyOs01U",
        "outputId": "8e0e1804-e17f-487a-c1da-19c8d3ef2713"
      },
      "execution_count": null,
      "outputs": [
        {
          "output_type": "stream",
          "name": "stdout",
          "text": [
            "{'timing': {'qpu_sampling_time': 98280.0, 'qpu_anneal_time_per_sample': 20.0, 'qpu_readout_time_per_sample': 57.74, 'qpu_access_time': 114039.57, 'qpu_access_overhead_time': 1676.43, 'qpu_programming_time': 15759.57, 'qpu_delay_time_per_sample': 20.54, 'total_post_processing_time': 272.0, 'post_processing_overhead_time': 272.0}, 'problem_id': '080a733d-92b2-4163-b967-0798a22e4649'}\n"
          ]
        }
      ]
    },
    {
      "cell_type": "code",
      "source": [
        "#Sorts samples by numbers to see which quadratic variables are 0 and 1\n",
        "sampleKeys = list(sample.sample.keys())\n",
        "sampleKeys.sort(key = sortbynumber)\n",
        "sortedSample = {i: sample.sample[i] for i in sampleKeys}\n",
        "print(sortedSample)"
      ],
      "metadata": {
        "colab": {
          "base_uri": "https://localhost:8080/"
        },
        "id": "sO_wRbaFs3HA",
        "outputId": "323c871a-7cc4-4261-f1ff-b9126253261c"
      },
      "execution_count": null,
      "outputs": [
        {
          "output_type": "stream",
          "name": "stdout",
          "text": [
            "{'x[0]': 0, 'x[1]': 1, 'x[2]': 0, 'x[3]': 0, 'x[4]': 0, 'x[5]': 0}\n"
          ]
        }
      ]
    },
    {
      "cell_type": "code",
      "source": [
        "# Converting the output binary variables to produce a valid output\n",
        "def MVC(sortedSample):\n",
        "  mvc_sol = []\n",
        "  for i in sortedSample.keys():\n",
        "    if sortedSample[i] == 0:\n",
        "        mvc_sol.append(0)\n",
        "    else:\n",
        "        mvc_sol.append(1)\n",
        "  colors = [\"r\" if mvc_sol[i] == 0 else \"c\" for i in range(len(mvc_sol))]\n",
        "  draw_graph(G, colors, pos)\n",
        "  covered = 0\n",
        "  for u, v in G.edges():\n",
        "    if mvc_sol[u] == 1 or mvc_sol[v] == 1:\n",
        "      covered += 1\n",
        "  return covered"
      ],
      "metadata": {
        "id": "ECjJ6Hvds5Ko"
      },
      "execution_count": null,
      "outputs": []
    },
    {
      "cell_type": "code",
      "source": [
        "print(\"QPU Access Time: \" + str(elapsed_time))\n",
        "print(MVC(sortedSample))"
      ],
      "metadata": {
        "colab": {
          "base_uri": "https://localhost:8080/",
          "height": 441
        },
        "id": "WVCraT0ItKeZ",
        "outputId": "b61ca3ec-2b8f-424b-ec9e-6f8949f58e4a"
      },
      "execution_count": null,
      "outputs": [
        {
          "output_type": "stream",
          "name": "stdout",
          "text": [
            "QPU Access Time: 0.11403957\n",
            "5\n"
          ]
        },
        {
          "output_type": "display_data",
          "data": {
            "text/plain": [
              "<Figure size 640x480 with 1 Axes>"
            ],
            "image/png": "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\n"
          },
          "metadata": {}
        }
      ]
    },
    {
      "cell_type": "markdown",
      "source": [
        "### **Example 4 - Cancer Genomics**"
      ],
      "metadata": {
        "id": "-XyyA-4PJcc9"
      }
    },
    {
      "cell_type": "markdown",
      "source": [
        "Identifying Cancer Gene Pathways from the TCGA-AML Data. The techniques used were taken from: https://www.biorxiv.org/content/10.1101/845719v1"
      ],
      "metadata": {
        "id": "dKKhh4zcm1DM"
      }
    },
    {
      "cell_type": "code",
      "source": [
        "# import necessary package for data imports\n",
        "from bravado.client import SwaggerClient\n",
        "from itertools import combinations\n",
        "\n",
        "# connects to cbioportal to access data\n",
        "cbioportal = SwaggerClient.from_url('https://www.cbioportal.org/api/v2/api-docs',\n",
        "                                    config={\"validate_requests\":False,\"validate_responses\":False,\"validate_swagger_spec\":False})"
      ],
      "metadata": {
        "id": "1HdMLIbyJfpp"
      },
      "execution_count": null,
      "outputs": []
    },
    {
      "cell_type": "markdown",
      "source": [
        "Accessing AML study data from the cbioportal."
      ],
      "metadata": {
        "id": "i76Hf14vmW-y"
      }
    },
    {
      "cell_type": "code",
      "source": [
        "# accesses cbioportal's AML study data\n",
        "aml = cbioportal.Cancer_Types.getCancerTypeUsingGET(cancerTypeId='aml').result()\n",
        "\n",
        "# access the patient data of AML study\n",
        "patients = cbioportal.Patients.getAllPatientsInStudyUsingGET(studyId='laml_tcga').result()\n",
        "\n",
        "# for each mutation, creates a list of properties associated with the mutation include geneID, patientID, and more\n",
        "InitialMutations = cbioportal.Mutations.getMutationsInMolecularProfileBySampleListIdUsingGET(\n",
        "    molecularProfileId='laml_tcga_mutations',\n",
        "    sampleListId='laml_tcga_all',\n",
        "    projection='DETAILED'\n",
        ").result()"
      ],
      "metadata": {
        "id": "bGxIUd9QJ8xH"
      },
      "execution_count": null,
      "outputs": []
    },
    {
      "cell_type": "markdown",
      "source": [
        "Identifying the 33 most common genes from the study.\n",
        "\n",
        "Then preprocessing the data to create a Patient-Gene Dictionary to construct the matrices from."
      ],
      "metadata": {
        "id": "b98dveyUme-Q"
      }
    },
    {
      "cell_type": "code",
      "source": [
        "# tests if data is correct\n",
        "# Compares the frequency of the 33 most common genes and compares them with the information listed on\n",
        "# https://www.cbioportal.org/study/summary?id=laml_tcga\n",
        "from collections import Counter\n",
        "mutation_counts = Counter([m.gene.hugoGeneSymbol for m in InitialMutations])\n",
        "MostImportantMutationsCounts = mutation_counts.most_common(33)\n",
        "MostImportantMutations = []\n",
        "for i in range(len(MostImportantMutationsCounts)):\n",
        "    MostImportantMutations.append(MostImportantMutationsCounts[i][0])"
      ],
      "metadata": {
        "id": "0ItI8t7kLoLr"
      },
      "execution_count": null,
      "outputs": []
    },
    {
      "cell_type": "code",
      "source": [
        "# Sort the patients by index\n",
        "def sortPatients(m):\n",
        "    return m.patientId"
      ],
      "metadata": {
        "id": "pKfv69J2LR-N"
      },
      "execution_count": null,
      "outputs": []
    },
    {
      "cell_type": "code",
      "source": [
        "mutations = []\n",
        "for m in InitialMutations:\n",
        "    if m.gene.hugoGeneSymbol in MostImportantMutations:\n",
        "        mutations.append(m)\n",
        "geneset = set()\n",
        "\n",
        "for m in mutations:\n",
        "    geneset.add(m.gene.hugoGeneSymbol)\n",
        "# creates a patient-(gene-list) dictionary\n",
        "\n",
        "PatientGeneDict = {}\n",
        "mutations.sort(key = sortPatients)\n",
        "\n",
        "for m in mutations:\n",
        "    if m.patientId in PatientGeneDict.keys(): # if the patient is already in dictionary add the gene to their previous gene list\n",
        "        PatientGeneDict[m.patientId].append(m.gene.hugoGeneSymbol)\n",
        "    else:\n",
        "        PatientGeneDict[m.patientId] = [m.gene.hugoGeneSymbol] # else add the patient their associated gene"
      ],
      "metadata": {
        "id": "fj6MoiK5LCFS"
      },
      "execution_count": null,
      "outputs": []
    },
    {
      "cell_type": "code",
      "source": [
        "# create independent patient and gene lists\n",
        "patientset = set()\n",
        "for m in mutations:\n",
        "    patientset.add(m.patientId)\n",
        "patientList = [] # patient list\n",
        "for m in patientset:\n",
        "    patientList.append(m)\n",
        "geneList = [] # gene list\n",
        "for gene in geneset:\n",
        "    geneList.append(gene)\n",
        "geneList.sort()"
      ],
      "metadata": {
        "id": "rWt2368cNRx4"
      },
      "execution_count": null,
      "outputs": []
    },
    {
      "cell_type": "code",
      "source": [
        "for key in PatientGeneDict:\n",
        "    PatientGeneDict[key] = list(set(PatientGeneDict[key]))"
      ],
      "metadata": {
        "id": "Idc6ZMDKL5Wa"
      },
      "execution_count": null,
      "outputs": []
    },
    {
      "cell_type": "markdown",
      "source": [
        "Patient-Gene Dictionary that displays each patient and their corresponding gene-list."
      ],
      "metadata": {
        "id": "dTMgPUmUnkj9"
      }
    },
    {
      "cell_type": "code",
      "source": [
        "# Organized way to visualize the patient-(gene-list) dictionary\n",
        "print(\"Patient-Gene Dictionary:\")\n",
        "for k in PatientGeneDict.keys():\n",
        "    print(k)\n",
        "    print(PatientGeneDict[k])"
      ],
      "metadata": {
        "id": "2LSDslSkNAp_",
        "colab": {
          "base_uri": "https://localhost:8080/"
        },
        "outputId": "60600ad4-717e-40f6-b747-fb2888b820b8"
      },
      "execution_count": null,
      "outputs": [
        {
          "output_type": "stream",
          "name": "stdout",
          "text": [
            "Patient-Gene Dictionary:\n",
            "TCGA-AB-2802\n",
            "['PTPN11', 'DNMT3A', 'IDH1', 'NPM1', 'MT-ND5']\n",
            "TCGA-AB-2804\n",
            "['PHF6']\n",
            "TCGA-AB-2805\n",
            "['RUNX1', 'IDH2']\n",
            "TCGA-AB-2806\n",
            "['PLCE1']\n",
            "TCGA-AB-2807\n",
            "['RUNX1', 'ASXL1', 'IDH2']\n",
            "TCGA-AB-2808\n",
            "['CEBPA', 'NRAS']\n",
            "TCGA-AB-2809\n",
            "['DNMT3A', 'NPM1']\n",
            "TCGA-AB-2810\n",
            "['NPM1', 'IDH2']\n",
            "TCGA-AB-2811\n",
            "['DNMT3A', 'NPM1', 'FLT3', 'SMC1A']\n",
            "TCGA-AB-2812\n",
            "['NPM1', 'FLT3']\n",
            "TCGA-AB-2813\n",
            "['CACNA1B', 'TP53']\n",
            "TCGA-AB-2814\n",
            "['CACNA1B', 'MT-CO2', 'FLT3']\n",
            "TCGA-AB-2816\n",
            "['DNMT3A', 'NPM1', 'FLT3', 'NRAS']\n",
            "TCGA-AB-2817\n",
            "['EZH2', 'BRINP3', 'MT-ND5']\n",
            "TCGA-AB-2818\n",
            "['DNMT3A', 'NPM1', 'FLT3', 'RAD21']\n",
            "TCGA-AB-2819\n",
            "['KIT']\n",
            "TCGA-AB-2820\n",
            "['MT-CO2', 'TP53']\n",
            "TCGA-AB-2821\n",
            "['ASXL1', 'RUNX1', 'U2AF1', 'IDH1', 'IDH2']\n",
            "TCGA-AB-2822\n",
            "['DNMT3A', 'TET2', 'IDH1', 'SMC1A']\n",
            "TCGA-AB-2824\n",
            "['DNMT3A', 'NPM1', 'SMC1A']\n",
            "TCGA-AB-2825\n",
            "['DNMT3A', 'NPM1', 'FLT3']\n",
            "TCGA-AB-2826\n",
            "['NPM1', 'KRAS', 'IDH2']\n",
            "TCGA-AB-2829\n",
            "['TP53']\n",
            "TCGA-AB-2830\n",
            "['DNMT3A', 'TET2', 'FLT3']\n",
            "TCGA-AB-2831\n",
            "['DNMT3A']\n",
            "TCGA-AB-2833\n",
            "['DNMT3A']\n",
            "TCGA-AB-2834\n",
            "['FLT3']\n",
            "TCGA-AB-2835\n",
            "['NPM1']\n",
            "TCGA-AB-2836\n",
            "['NPM1', 'FLT3']\n",
            "TCGA-AB-2837\n",
            "['NPM1']\n",
            "TCGA-AB-2838\n",
            "['BRINP3', 'TP53', 'NRAS']\n",
            "TCGA-AB-2839\n",
            "['SMC3', 'DNMT3A', 'WT1', 'CEBPA', 'NRAS', 'PTPN11', 'NPM1']\n",
            "TCGA-AB-2840\n",
            "['FLT3']\n",
            "TCGA-AB-2843\n",
            "['U2AF1', 'PLCE1', 'KIT']\n",
            "TCGA-AB-2844\n",
            "['FLT3', 'WT1', 'SMC1A']\n",
            "TCGA-AB-2845\n",
            "['TET2', 'CEBPA']\n",
            "TCGA-AB-2846\n",
            "['WT1', 'KIT']\n",
            "TCGA-AB-2847\n",
            "['U2AF1']\n",
            "TCGA-AB-2848\n",
            "['NPM1']\n",
            "TCGA-AB-2850\n",
            "['RUNX1', 'STAG2', 'IDH2']\n",
            "TCGA-AB-2851\n",
            "['DNMT3A', 'FLT3', 'SMC3']\n",
            "TCGA-AB-2853\n",
            "['DNMT3A', 'NPM1', 'FLT3', 'SMC3']\n",
            "TCGA-AB-2855\n",
            "['PTPN11', 'PHF6']\n",
            "TCGA-AB-2857\n",
            "['TP53']\n",
            "TCGA-AB-2858\n",
            "['SMC1A']\n",
            "TCGA-AB-2859\n",
            "['DNMT3A', 'NPM1', 'HNRNPK']\n",
            "TCGA-AB-2860\n",
            "['TP53']\n",
            "TCGA-AB-2861\n",
            "['DNMT3A', 'NPM1', 'KRAS', 'U2AF1']\n",
            "TCGA-AB-2863\n",
            "['DNMT3A', 'CEBPA', 'IDH1']\n",
            "TCGA-AB-2864\n",
            "['DNMT3A', 'ASXL1', 'KRAS', 'IDH2']\n",
            "TCGA-AB-2865\n",
            "['EZH2', 'RUNX1', 'KRAS', 'TET2']\n",
            "TCGA-AB-2866\n",
            "['IDH2']\n",
            "TCGA-AB-2867\n",
            "['DNMT3A', 'IDH1']\n",
            "TCGA-AB-2868\n",
            "['TP53']\n",
            "TCGA-AB-2869\n",
            "['DNMT3A', 'NPM1', 'FLT3']\n",
            "TCGA-AB-2870\n",
            "['FLT3', 'COL12A1', 'NRAS']\n",
            "TCGA-AB-2871\n",
            "['STAG2', 'FLT3', 'PTPN11', 'NPM1', 'COL12A1']\n",
            "TCGA-AB-2872\n",
            "['TTN']\n",
            "TCGA-AB-2873\n",
            "['DNMT3A', 'TET2']\n",
            "TCGA-AB-2874\n",
            "['CEBPA', 'WT1', 'IDH2']\n",
            "TCGA-AB-2875\n",
            "['FLT3']\n",
            "TCGA-AB-2876\n",
            "['TET2']\n",
            "TCGA-AB-2877\n",
            "['NPM1', 'FLT3', 'IDH2']\n",
            "TCGA-AB-2878\n",
            "['TP53', 'CACNA1E']\n",
            "TCGA-AB-2879\n",
            "['NPM1', 'FLT3', 'TET2']\n",
            "TCGA-AB-2880\n",
            "['CEBPA', 'FLT3']\n",
            "TCGA-AB-2881\n",
            "['KIT']\n",
            "TCGA-AB-2882\n",
            "['U2AF1']\n",
            "TCGA-AB-2884\n",
            "['DNMT3A', 'NPM1', 'IDH1', 'PTPN11']\n",
            "TCGA-AB-2885\n",
            "['PTPN11', 'MT-CO2', 'TP53']\n",
            "TCGA-AB-2886\n",
            "['RAD21']\n",
            "TCGA-AB-2887\n",
            "['DNMT3A', 'EZH2', 'IDH1', 'NRAS']\n",
            "TCGA-AB-2888\n",
            "['KIT']\n",
            "TCGA-AB-2890\n",
            "['RUNX1']\n",
            "TCGA-AB-2891\n",
            "['DNMT3A', 'IDH2']\n",
            "TCGA-AB-2892\n",
            "['NRAS']\n",
            "TCGA-AB-2895\n",
            "['DNMT3A', 'NPM1', 'FLT3']\n",
            "TCGA-AB-2896\n",
            "['DNMT3A', 'NPM1']\n",
            "TCGA-AB-2898\n",
            "['DNMT3A', 'IDH2']\n",
            "TCGA-AB-2899\n",
            "['RUNX1']\n",
            "TCGA-AB-2900\n",
            "['MT-CYB', 'SMC1A', 'CEBPA', 'FLT3', 'NPM1']\n",
            "TCGA-AB-2901\n",
            "['IDH1']\n",
            "TCGA-AB-2903\n",
            "['NPM1', 'MT-CO2']\n",
            "TCGA-AB-2904\n",
            "['TP53', 'MT-CYB']\n",
            "TCGA-AB-2905\n",
            "['WT1']\n",
            "TCGA-AB-2906\n",
            "['FLT3']\n",
            "TCGA-AB-2907\n",
            "['TTN', 'RUNX1', 'ASXL1', 'IDH2']\n",
            "TCGA-AB-2908\n",
            "['DNMT3A', 'TET2', 'TP53', 'SMC3']\n",
            "TCGA-AB-2909\n",
            "['FLT3']\n",
            "TCGA-AB-2910\n",
            "['FLT3']\n",
            "TCGA-AB-2912\n",
            "['SMC3', 'PHF6', 'DNMT3A', 'RUNX1', 'U2AF1']\n",
            "TCGA-AB-2913\n",
            "['NPM1', 'STAG2', 'FLT3', 'WT1']\n",
            "TCGA-AB-2914\n",
            "['PTPN11']\n",
            "TCGA-AB-2915\n",
            "['NPM1', 'FLT3']\n",
            "TCGA-AB-2916\n",
            "['DNMT3A']\n",
            "TCGA-AB-2917\n",
            "['KRAS', 'COL12A1']\n",
            "TCGA-AB-2918\n",
            "['FLT3']\n",
            "TCGA-AB-2919\n",
            "['DNMT3A', 'NPM1', 'WT1', 'IDH1']\n",
            "TCGA-AB-2921\n",
            "['FLT3']\n",
            "TCGA-AB-2922\n",
            "['FLT3']\n",
            "TCGA-AB-2923\n",
            "['TET2', 'NRAS']\n",
            "TCGA-AB-2924\n",
            "['NPM1', 'FLT3']\n",
            "TCGA-AB-2925\n",
            "['CACNA1B', 'DNMT3A', 'TTN', 'FLT3', 'NPM1']\n",
            "TCGA-AB-2926\n",
            "['IDH1', 'FLT3']\n",
            "TCGA-AB-2927\n",
            "['RUNX1', 'ASXL1', 'MT-ND5', 'TTN']\n",
            "TCGA-AB-2928\n",
            "['DNMT3A', 'TET2', 'FLT3', 'IDH1']\n",
            "TCGA-AB-2929\n",
            "['KRAS']\n",
            "TCGA-AB-2930\n",
            "['FLT3', 'WT1']\n",
            "TCGA-AB-2931\n",
            "['DNMT3A', 'NPM1', 'FLT3']\n",
            "TCGA-AB-2932\n",
            "['NPM1', 'NRAS']\n",
            "TCGA-AB-2933\n",
            "['RUNX1']\n",
            "TCGA-AB-2934\n",
            "['DNMT3A', 'FLT3', 'MT-CYB', 'IDH2']\n",
            "TCGA-AB-2935\n",
            "['TP53']\n",
            "TCGA-AB-2936\n",
            "['RUNX1', 'IDH2']\n",
            "TCGA-AB-2937\n",
            "['TET2', 'DNAH9', 'HNRNPK', 'KIT']\n",
            "TCGA-AB-2938\n",
            "['DNMT3A', 'TP53']\n",
            "TCGA-AB-2939\n",
            "['KIT']\n",
            "TCGA-AB-2940\n",
            "['CEBPA']\n",
            "TCGA-AB-2941\n",
            "['TP53', 'MT-ND5']\n",
            "TCGA-AB-2942\n",
            "['FLT3']\n",
            "TCGA-AB-2943\n",
            "['TP53']\n",
            "TCGA-AB-2945\n",
            "['DNMT3A', 'FLT3', 'KIT', 'IDH1', 'NPM1']\n",
            "TCGA-AB-2947\n",
            "['DNMT3A', 'NPM1', 'FLT3']\n",
            "TCGA-AB-2948\n",
            "['IDH2']\n",
            "TCGA-AB-2949\n",
            "['DNMT3A', 'RUNX1', 'IDH1']\n",
            "TCGA-AB-2950\n",
            "['SMC3']\n",
            "TCGA-AB-2952\n",
            "['CEBPA', 'TP53', 'NRAS']\n",
            "TCGA-AB-2955\n",
            "['DNMT3A', 'MT-CO2', 'CEBPA']\n",
            "TCGA-AB-2957\n",
            "['FLT3']\n",
            "TCGA-AB-2959\n",
            "['RUNX1', 'PHF6', 'PLCE1', 'IDH2']\n",
            "TCGA-AB-2963\n",
            "['PTPN11', 'NPM1', 'FLT3', 'SMC1A']\n",
            "TCGA-AB-2964\n",
            "['STAG2', 'TET2', 'CACNA1E']\n",
            "TCGA-AB-2965\n",
            "['DNMT3A', 'FLT3', 'BRINP3', 'NPM1', 'TET2']\n",
            "TCGA-AB-2966\n",
            "['DNMT3A', 'KRAS', 'PLCE1', 'IDH2']\n",
            "TCGA-AB-2967\n",
            "['DNMT3A', 'NPM1', 'RAD21', 'NRAS']\n",
            "TCGA-AB-2968\n",
            "['DNMT3A', 'U2AF1', 'NRAS']\n",
            "TCGA-AB-2969\n",
            "['DNMT3A', 'NPM1', 'FLT3', 'IDH1']\n",
            "TCGA-AB-2970\n",
            "['RUNX1', 'FLT3', 'WT1']\n",
            "TCGA-AB-2971\n",
            "['TET2']\n",
            "TCGA-AB-2972\n",
            "['PTPN11', 'NPM1', 'STAG2']\n",
            "TCGA-AB-2973\n",
            "['NPM1', 'IDH2']\n",
            "TCGA-AB-2974\n",
            "['DNMT3A', 'NPM1', 'FLT3']\n",
            "TCGA-AB-2975\n",
            "['DNMT3A', 'RAD21']\n",
            "TCGA-AB-2976\n",
            "['PHF6', 'WT1', 'FLT3', 'BRINP3', 'NPM1']\n",
            "TCGA-AB-2977\n",
            "['IDH1']\n",
            "TCGA-AB-2978\n",
            "['RUNX1', 'DNAH9', 'STAG2', 'NRAS', 'TET2']\n",
            "TCGA-AB-2979\n",
            "['CEBPA']\n",
            "TCGA-AB-2980\n",
            "['FLT3']\n",
            "TCGA-AB-2981\n",
            "['DNMT3A', 'NPM1', 'FLT3']\n",
            "TCGA-AB-2983\n",
            "['RUNX1']\n",
            "TCGA-AB-2984\n",
            "['IDH1', 'NPM1', 'NRAS']\n",
            "TCGA-AB-2985\n",
            "['NRAS']\n",
            "TCGA-AB-2986\n",
            "['RAD21', 'NPM1', 'FLT3']\n",
            "TCGA-AB-2987\n",
            "['DNMT3A', 'NPM1', 'KRAS']\n",
            "TCGA-AB-2988\n",
            "['DNMT3A', 'NPM1', 'FLT3']\n",
            "TCGA-AB-2989\n",
            "['NPM1', 'WT1']\n",
            "TCGA-AB-2990\n",
            "['IDH1', 'NPM1']\n",
            "TCGA-AB-2992\n",
            "['IDH1', 'NPM1']\n",
            "TCGA-AB-2993\n",
            "['SMC3', 'DNMT3A', 'TTN', 'FLT3', 'NPM1']\n",
            "TCGA-AB-2994\n",
            "['FLT3']\n",
            "TCGA-AB-2996\n",
            "['TET2', 'U2AF1']\n",
            "TCGA-AB-2997\n",
            "['DNAH9']\n",
            "TCGA-AB-2998\n",
            "['BRINP3', 'FLT3']\n",
            "TCGA-AB-3000\n",
            "['CEBPA']\n",
            "TCGA-AB-3001\n",
            "['CACNA1E']\n",
            "TCGA-AB-3002\n",
            "['IDH2']\n",
            "TCGA-AB-3006\n",
            "['TET2', 'FLT3']\n",
            "TCGA-AB-3007\n",
            "['FLT3']\n",
            "TCGA-AB-3008\n",
            "['CEBPA']\n",
            "TCGA-AB-3009\n",
            "['PHF6', 'RUNX1', 'WT1', 'TTN']\n",
            "TCGA-AB-3011\n",
            "['IDH1', 'NPM1']\n"
          ]
        }
      ]
    },
    {
      "cell_type": "markdown",
      "source": [
        "Create the diagonal $\\mathbf{D}$ matrix to represent gene-coverage."
      ],
      "metadata": {
        "id": "bfi4HvFHoAH9"
      }
    },
    {
      "cell_type": "code",
      "source": [
        "import numpy as np\n",
        "D = np.zeros((n, n))\n",
        "for i in range(n):\n",
        "    count = 0\n",
        "    for k in PatientGeneDict.keys():\n",
        "        if geneList[i] in PatientGeneDict[k]:\n",
        "            count += 1\n",
        "        D[i][i] = count"
      ],
      "metadata": {
        "id": "w-inhd8INJEa"
      },
      "execution_count": null,
      "outputs": []
    },
    {
      "cell_type": "markdown",
      "source": [
        "Generate gene pairs to create the $\\mathbf{A_w}$ exclusivity matrix"
      ],
      "metadata": {
        "id": "fmpdM4qhoMgD"
      }
    },
    {
      "cell_type": "code",
      "source": [
        "def generate_pairs(lst):\n",
        "    pairs = set()\n",
        "    for subset in combinations(lst, 2):\n",
        "        pairs.add(tuple(sorted(subset)))\n",
        "    return pairs"
      ],
      "metadata": {
        "id": "IeUIJXABNWXK"
      },
      "execution_count": null,
      "outputs": []
    },
    {
      "cell_type": "markdown",
      "source": [
        "Using the patient-gene dictionary, we identify all gene-pairs for each patient. This used to create the $\\mathbf{A}$ matrix."
      ],
      "metadata": {
        "id": "q8zgyoQjob1S"
      }
    },
    {
      "cell_type": "code",
      "source": [
        "# creates a patient-(gene-list-pair) dictionary\n",
        "PatientGeneDictPairs = {}\n",
        "for m in mutations:\n",
        "        PatientGeneDictPairs[m.patientId] = generate_pairs(PatientGeneDict[m.patientId])"
      ],
      "metadata": {
        "id": "hTGv8kMkNk8C"
      },
      "execution_count": null,
      "outputs": []
    },
    {
      "cell_type": "markdown",
      "source": [
        "With all the preprocessing done, the $\\mathbf{A}$ matrix is completed."
      ],
      "metadata": {
        "id": "ymU867uhoobM"
      }
    },
    {
      "cell_type": "code",
      "source": [
        "# creates the A exclusivity matrix\n",
        "A = np.zeros((n, n))\n",
        "    for j in range(n):\n",
        "        if i != j:\n",
        "            count = 0\n",
        "            for k in PatientGeneDict.keys():\n",
        "                if (geneList[i], geneList[j]) in PatientGeneDictPairs[k]:\n",
        "                    count += 1\n",
        "            A[i][j] = count\n",
        "            A[j][i] = count"
      ],
      "metadata": {
        "id": "W8kZDxkrNmpV"
      },
      "execution_count": null,
      "outputs": []
    },
    {
      "cell_type": "markdown",
      "source": [
        "Identify properties from the gene pathway:"
      ],
      "metadata": {
        "id": "MtSSTWzjo3Zi"
      }
    },
    {
      "cell_type": "code",
      "source": [
        "# returns the coverage of a gene\n",
        "def gene_coverage(gene):\n",
        "    return D[geneList.index(gene)][geneList.index(gene)]"
      ],
      "metadata": {
        "id": "zPG2NBKGNre-"
      },
      "execution_count": null,
      "outputs": []
    },
    {
      "cell_type": "code",
      "source": [
        "# returns the coverage of a pathway\n",
        "def coverage(pathway):\n",
        "    coverage_val = 0\n",
        "    for i in pathway:\n",
        "        coverage_val += gene_coverage(i)\n",
        "    return coverage_val"
      ],
      "metadata": {
        "id": "1T9XgW6YNsj7"
      },
      "execution_count": null,
      "outputs": []
    },
    {
      "cell_type": "code",
      "source": [
        "# returns the indepence(exclusivity) of a pathway\n",
        "def indep(pathway):\n",
        "    num_overlap = 0\n",
        "    for i in pathway:\n",
        "        for j in pathway:\n",
        "            if i == j:\n",
        "                pass\n",
        "            else:\n",
        "                num_overlap += A[geneList.index(i)][geneList.index(j)]\n",
        "    return num_overlap"
      ],
      "metadata": {
        "id": "sJdgGUnhNv5I"
      },
      "execution_count": null,
      "outputs": []
    },
    {
      "cell_type": "markdown",
      "source": [
        "Using the $\\mathbf{A}$ and $\\mathbf{D}$ matrices, we create the QUBO to identify the Cancer Genes. As stated in \"Quantum and Quantum-inspired Methods for de novo\n",
        "Discovery of Altered Cancer Pathways\", the QUBO formulation to identify the cancer gene set while balancing Indepence and Coverage is:\n",
        "\n",
        "$$Q=\\mathbf{x}^{T}(\\mathbf{A}-\\alpha \\mathbf{D})\\mathbf{x}$$\n",
        "\n",
        "Where $\\mathbf{D}$ and $A_w$ are the previously found matrices and $\\mathbf{x}$ is the vector of binary variables $x_{i}$"
      ],
      "metadata": {
        "id": "dKsRPCgto_r0"
      }
    },
    {
      "cell_type": "code",
      "source": [
        "# initializes an array of QUBO variables\n",
        "x = Array.create('x', n, 'BINARY')\n",
        "H1 = sum(sum(A[i][j]*x[i]*x[j] for j in range(n)) for i in range(n))\n",
        "H2 = sum(D[i][i]*x[i] for i in range(n))\n",
        "a = Placeholder(\"alpha\")\n",
        "H = H1 - a*H2"
      ],
      "metadata": {
        "id": "Lre2IuT8Rgcx"
      },
      "execution_count": null,
      "outputs": []
    },
    {
      "cell_type": "markdown",
      "source": [
        "Embedding and solving the problem on a DWAVE Quantum Annealer."
      ],
      "metadata": {
        "id": "9L7MYZ1MpJt1"
      }
    },
    {
      "cell_type": "code",
      "source": [
        "# creates a Hamiltonian to run on DWAVE sampler\n",
        "model = H.compile()\n",
        "feed_dict = {'alpha': 0.45}\n",
        "bqm = model.to_bqm(feed_dict=feed_dict)"
      ],
      "metadata": {
        "id": "Q5LbuWbTOJuo"
      },
      "execution_count": null,
      "outputs": []
    },
    {
      "cell_type": "code",
      "source": [
        "# Getting Results from Sampler\n",
        "sampler = EmbeddingComposite(DWaveSampler())\n",
        "sampleset = sampler.sample(bqm, num_reads=1000)\n",
        "sample = sampleset.first"
      ],
      "metadata": {
        "id": "UBfUxALlOQ7k"
      },
      "execution_count": null,
      "outputs": []
    },
    {
      "cell_type": "markdown",
      "source": [
        "Print sampler solving details."
      ],
      "metadata": {
        "id": "1Oc2YrEGpRMT"
      }
    },
    {
      "cell_type": "code",
      "source": [
        "print(sampleset.info)\n",
        "sampleKeys = list(sample.sample.keys())\n",
        "def sortbynumber(str):\n",
        "    return int(str[2:len(str)-1])\n",
        "sampleKeys.sort(key = sortbynumber)\n",
        "sortedSample = {i: sample.sample[i] for i in sampleKeys}"
      ],
      "metadata": {
        "colab": {
          "base_uri": "https://localhost:8080/"
        },
        "id": "NhZK2UZBOS-x",
        "outputId": "ddfcbf60-038b-404e-8d41-6c0a5d809939"
      },
      "execution_count": null,
      "outputs": [
        {
          "output_type": "stream",
          "name": "stdout",
          "text": [
            "{'timing': {'qpu_sampling_time': 113120.0, 'qpu_anneal_time_per_sample': 20.0, 'qpu_readout_time_per_sample': 72.58, 'qpu_access_time': 128879.97, 'qpu_access_overhead_time': 2996.03, 'qpu_programming_time': 15759.97, 'qpu_delay_time_per_sample': 20.54, 'total_post_processing_time': 507.0, 'post_processing_overhead_time': 507.0}, 'problem_id': 'c6a95b8e-cb48-4ce7-b2af-83e67315e9e7'}\n"
          ]
        }
      ]
    },
    {
      "cell_type": "markdown",
      "source": [
        "Print the identified pathway"
      ],
      "metadata": {
        "id": "2RI_41EmpfpU"
      }
    },
    {
      "cell_type": "code",
      "source": [
        "pathway = []\n",
        "for i in sampleKeys:\n",
        "    if sortedSample[i] == 1:\n",
        "        pathway.append(geneList[int(i[2:len(i)-1])])\n",
        "print(pathway)\n",
        "print(\"coverage: \" + str(coverage(pathway)))\n",
        "print(\"coverage/gene: \" + str(round(coverage(pathway)/len(pathway), 2)))\n",
        "print(\"indep: \" + str(indep(pathway)))\n",
        "print(\"measure: \" + str(round(coverage(pathway)/len(pathway)/indep(pathway), 2)))"
      ],
      "metadata": {
        "colab": {
          "base_uri": "https://localhost:8080/"
        },
        "id": "cojQSJYaOb0t",
        "outputId": "f6d387e9-10e4-4130-c8de-f86420794fae"
      },
      "execution_count": null,
      "outputs": [
        {
          "output_type": "stream",
          "name": "stdout",
          "text": [
            "['ASXL1', 'BRINP3', 'CACNA1B', 'CACNA1E', 'CEBPA', 'COL12A1']\n",
            "coverage: 32.0\n",
            "coverage/gene: 5.33\n",
            "indep: 0.0\n",
            "measure: inf\n"
          ]
        },
        {
          "output_type": "stream",
          "name": "stderr",
          "text": [
            "<ipython-input-44-ebed2a313054>:9: RuntimeWarning: divide by zero encountered in double_scalars\n",
            "  print(\"measure: \" + str(round(coverage(pathway)/len(pathway)/indep(pathway), 2)))\n"
          ]
        }
      ]
    },
    {
      "cell_type": "markdown",
      "source": [
        "### **Example 5 - Hedge Fund Applications**"
      ],
      "metadata": {
        "id": "fY9RKhzBJhGF"
      }
    },
    {
      "cell_type": "markdown",
      "source": [
        "As derived in the main paper, the Order Partitioning QUBO is of the form:\n",
        "\n",
        "$$Q=a(T-2\\sum_{j=1}^{n}q_{j}x_{j})^2 + b\\sum_{i=1}^{m}(\\sum_{j=1}^{n}p_{ij}(2x_{j}-1))^2$$\n",
        "\n",
        "Where $T$ is the sum of the stock values, $q_{j}$ are the stocks and $p_{ij}$ are the risk factor matrix entries"
      ],
      "metadata": {
        "id": "ROJEky9Vvvx9"
      }
    },
    {
      "cell_type": "markdown",
      "source": [
        "Creating parameters for the Order Partitioning Problem."
      ],
      "metadata": {
        "id": "1EG-Rrqgp6QW"
      }
    },
    {
      "cell_type": "code",
      "source": [
        "Stocks = ['A', 'B', 'C', 'D', 'E', 'F']\n",
        "stock_vals = [300, 100, 100, 200, 200, 100]\n",
        "#solutions S1 = {100,100,100,200} and S2 = {200,300} or S1 = {300,100,100} and S2 = {200,200,100}.\n",
        "risk_factor_matrix = [[0.3, 0.1, 0.1, 0.2, 0.2, 0.1],\n",
        "                      [0.4, 0.05, 0.05, 0.12, 0.08, 0.3],\n",
        "                      [0.1, 0.2, 0.2, 0.3, 0.05, 0.05]]\n",
        "T = sum(stock_vals)\n",
        "n = 6 # number of stocks\n",
        "m = 3 # number of risk factors"
      ],
      "metadata": {
        "id": "_nvyfCmQfsQD"
      },
      "execution_count": null,
      "outputs": []
    },
    {
      "cell_type": "markdown",
      "source": [
        "We create the Order Partitioning QUBO."
      ],
      "metadata": {
        "id": "Wbrr6tgow7NQ"
      }
    },
    {
      "cell_type": "code",
      "source": [
        "x = Array.create('x', n, 'BINARY')\n",
        "H1 = (T - 2*sum(stock_vals[j]*x[j] for j in range(n)))**2\n",
        "H2 = sum(sum(risk_factor_matrix[i][j]*(2*x[j]-1)**2 for j in range(n)) for i in range(m))\n",
        "\n",
        "# Construct hamiltonian\n",
        "a = Placeholder(\"a\")\n",
        "b = Placeholder(\"b\")\n",
        "H = a*H1 + b*H2\n",
        "model = H.compile()\n",
        "\n",
        "# Generate QUBO\n",
        "feed_dict = {'a': 2, 'b': 2}\n",
        "bqm = model.to_bqm(feed_dict=feed_dict)"
      ],
      "metadata": {
        "id": "CnoVuRTRfuTP"
      },
      "execution_count": null,
      "outputs": []
    },
    {
      "cell_type": "code",
      "source": [
        "# Construct hamiltonian\n",
        "a = Placeholder(\"a\")\n",
        "b = Placeholder(\"b\")\n",
        "H = a*H1 + b*H2\n",
        "model = H.compile()"
      ],
      "metadata": {
        "id": "NgYvbMiWgBTV"
      },
      "execution_count": null,
      "outputs": []
    },
    {
      "cell_type": "code",
      "source": [
        "# Generate QUBO\n",
        "feed_dict = {'a': 2, 'b': 2}\n",
        "bqm = model.to_bqm(feed_dict=feed_dict)"
      ],
      "metadata": {
        "id": "2cVmGQezgHPf"
      },
      "execution_count": null,
      "outputs": []
    },
    {
      "cell_type": "markdown",
      "source": [
        "We solve the QUBO using the Quantum Annealing Sampler."
      ],
      "metadata": {
        "id": "hPpjph88xEad"
      }
    },
    {
      "cell_type": "code",
      "source": [
        "sampler = EmbeddingComposite(DWaveSampler())\n",
        "sampleset = sampler.sample(bqm, num_reads=1000)\n",
        "sample = sampleset.first # gets lowest energy sample"
      ],
      "metadata": {
        "id": "hepAD5-5gJMf"
      },
      "execution_count": null,
      "outputs": []
    },
    {
      "cell_type": "markdown",
      "source": [
        "We display the solving details and solution."
      ],
      "metadata": {
        "id": "O5pitkRBxN33"
      }
    },
    {
      "cell_type": "code",
      "source": [
        "#Sorts samples by numbers to see which quadratic variables are 0 and 1\n",
        "sampleKeys = list(sample.sample.keys())\n",
        "def sortbynumber(str):\n",
        "    return int(str[2:len(str)-1])\n",
        "sampleKeys.sort(key = sortbynumber)\n",
        "sortedSample = {i: sample.sample[i] for i in sampleKeys}\n",
        "print(sortedSample)\n",
        "print(sampleset.info)"
      ],
      "metadata": {
        "colab": {
          "base_uri": "https://localhost:8080/"
        },
        "id": "MxqI_mjPgSL7",
        "outputId": "4d294d5f-cff6-4663-dc33-954a4e873bd0"
      },
      "execution_count": null,
      "outputs": [
        {
          "output_type": "stream",
          "name": "stdout",
          "text": [
            "{'x[0]': 0, 'x[1]': 1, 'x[2]': 1, 'x[3]': 0, 'x[4]': 1, 'x[5]': 1}\n",
            "{'timing': {'qpu_sampling_time': 114320.0, 'qpu_anneal_time_per_sample': 20.0, 'qpu_readout_time_per_sample': 73.78, 'qpu_access_time': 130080.77, 'qpu_access_overhead_time': 789.23, 'qpu_programming_time': 15760.77, 'qpu_delay_time_per_sample': 20.54, 'total_post_processing_time': 557.0, 'post_processing_overhead_time': 557.0}, 'problem_id': 'f34c1f6e-ddcd-46d6-95ac-049cefb49684'}\n"
          ]
        }
      ]
    },
    {
      "cell_type": "code",
      "source": [
        "# Converting the output binary variables to produce a valid output\n",
        "Set_A = []\n",
        "net_cost_A = 0\n",
        "net_risk_1A = 0\n",
        "net_risk_2A = 0\n",
        "net_risk_3A = 0\n",
        "Set_B = []\n",
        "net_cost_B = 0\n",
        "net_risk_1B = 0\n",
        "net_risk_2B = 0\n",
        "net_risk_3B = 0\n",
        "keylist = list(sortedSample.keys())\n",
        "for i in range(0, len(keylist)):\n",
        "  if(sortedSample[keylist[i]] == 0):\n",
        "    Set_A.append(Stocks[i])\n",
        "    net_cost_A += stock_vals[i]\n",
        "    net_risk_1A += risk_factor_matrix[0][i]\n",
        "    net_risk_2A += risk_factor_matrix[1][i]\n",
        "    net_risk_3A += risk_factor_matrix[2][i]\n",
        "  else:\n",
        "    Set_B.append(Stocks[i])\n",
        "    net_cost_B += stock_vals[i]\n",
        "    net_risk_1B += risk_factor_matrix[0][i]\n",
        "    net_risk_2B += risk_factor_matrix[1][i]\n",
        "    net_risk_3B += risk_factor_matrix[2][i]\n",
        "print(\"Stock Partition: \", Set_A, Set_B)\n",
        "print(\"Difference of Net Cost between Partition: \", net_cost_A-net_cost_B)\n",
        "print(\"Difference of Net Risk between Partition: \", round((net_risk_1A+net_risk_2A+net_risk_3A)-(net_risk_1B+net_risk_2B+net_risk_3B),2))"
      ],
      "metadata": {
        "colab": {
          "base_uri": "https://localhost:8080/"
        },
        "id": "ClLmuaPygxWb",
        "outputId": "e3417096-3e57-432a-ca80-27fe1d71c09a"
      },
      "execution_count": null,
      "outputs": [
        {
          "output_type": "stream",
          "name": "stdout",
          "text": [
            "Stock Partition:  ['A', 'D'] ['B', 'C', 'E', 'F']\n",
            "Difference of Net Cost between Partition:  0\n",
            "Difference of Net Risk between Partition:  -0.06\n"
          ]
        }
      ]
    }
  ],
  "metadata": {
    "colab": {
      "provenance": []
    },
    "kernelspec": {
      "display_name": "Python 3",
      "name": "python3"
    },
    "language_info": {
      "name": "python"
    }
  },
  "nbformat": 4,
  "nbformat_minor": 0
}
