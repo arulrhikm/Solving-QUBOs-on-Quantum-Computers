{
  "cells": [
    {
      "cell_type": "markdown",
      "metadata": {
        "id": "z3BCMQZxQgAh"
      },
      "source": [
        "#Solving QUBOs with Qiskit-Optimization QAOA\n",
        "\n",
        "Date: December 4th, 2023\n",
        "\n",
        "The notebook contains materials supporting the tutorial paper:\n",
        "*Five Starter Problems: Solving QUBOs on Quantum Computers* by Arul Rhik Mazumder (arulm@andrew.cmu.edu) and Sridhar Tayur (stayur@cmu.edu).\n",
        "It depends on various packages shown below."
      ]
    },
    {
      "cell_type": "markdown",
      "metadata": {
        "id": "3x_6O3MSSu2N"
      },
      "source": [
        "### **Introduction**\n",
        "\n",
        "Qiskit-Optimization is a part of IBM Qiskit's open source quantum computing framework. It provides easy high-level applications of quantum algorithms that can run on both classical and quantum simulators. It provides a wide array of algorithms and built-in application classes for NP-Hard problems. For this paper, we only focus on QAOA and ignore the built-in application classes to take advantage of the its docplex modelling capabilities. By defining custom QUBOs instead of relying on predefined classes, users can more easily implement and solve their own QUBO models using qiskit-opimization.\n",
        "\n",
        "Qiskit-Optimization is an extremely useful and easy way to solve QUBOs with various quantum algorithms including Variational Quantum Eigensolver, Adaptive Grovers and the earlier mentioned QAOA. Furthermore because of compatibility with IBMQ, algorithms can run on actual IBM quantum backends. In the examples below, all code is run by default on the Qiskit QASM simulator. Although base level implementation is easier, customization and indepth analysis in more difficult. Tasks like plotting optimization history or bitstring distributions, although possible, are significantly more challenging. Qiskit-Optimization's key limitations are its extremely long optimization times and limited set of optimizers.  It is very slow in solving QUBOs with over 10 variables and was measured to take almost 45 minutes for a QUBO with only 18 variables however accurate. Furthermore there is a defined set optimizers shown below:\n",
        "\n",
        "https://qiskit.org/documentation/stubs/qiskit.algorithms.optimizers.html\n",
        "\n",
        "Although there is an a pretty expansive set of local and global optimizers it is difficult to use any optimizer not. Thus it is impossible to implement many promising algorithms like Adagrad and Genetic Algorithm as classical optimizers.\n",
        "\n",
        "Using Qiskit Runtime further customization such as error mitigation, custom ansatz circuits, and custom cost hamiltonians are possible, but require more advanced knowledge. More information is provided in the link below:\n",
        "\n",
        "https://qiskit.org/ecosystem/optimization/tutorials/12_qaoa_runtime.html"
      ]
    },
    {
      "cell_type": "code",
      "execution_count": 1,
      "metadata": {
        "colab": {
          "base_uri": "https://localhost:8080/"
        },
        "id": "wiJd54ECtk_P",
        "outputId": "2c64804d-26fb-4983-9445-b967c216dadf"
      },
      "outputs": [
        {
          "output_type": "stream",
          "name": "stdout",
          "text": [
            "  Preparing metadata (setup.py) ... \u001b[?25l\u001b[?25hdone\n",
            "\u001b[2K     \u001b[90m━━━━━━━━━━━━━━━━━━━━━━━━━━━━━━━━━━━━━━━━\u001b[0m \u001b[32m4.8/4.8 MB\u001b[0m \u001b[31m15.2 MB/s\u001b[0m eta \u001b[36m0:00:00\u001b[0m\n",
            "\u001b[2K     \u001b[90m━━━━━━━━━━━━━━━━━━━━━━━━━━━━━━━━━━━━━━━━\u001b[0m \u001b[32m19.2/19.2 MB\u001b[0m \u001b[31m18.5 MB/s\u001b[0m eta \u001b[36m0:00:00\u001b[0m\n",
            "\u001b[2K     \u001b[90m━━━━━━━━━━━━━━━━━━━━━━━━━━━━━━━━━━━━━━━━\u001b[0m \u001b[32m240.4/240.4 kB\u001b[0m \u001b[31m8.6 MB/s\u001b[0m eta \u001b[36m0:00:00\u001b[0m\n",
            "\u001b[2K     \u001b[90m━━━━━━━━━━━━━━━━━━━━━━━━━━━━━━━━━━━━━━━━\u001b[0m \u001b[32m130.2/130.2 kB\u001b[0m \u001b[31m1.5 MB/s\u001b[0m eta \u001b[36m0:00:00\u001b[0m\n",
            "\u001b[2K     \u001b[90m━━━━━━━━━━━━━━━━━━━━━━━━━━━━━━━━━━━━━━━━\u001b[0m \u001b[32m49.6/49.6 kB\u001b[0m \u001b[31m2.3 MB/s\u001b[0m eta \u001b[36m0:00:00\u001b[0m\n",
            "\u001b[2K     \u001b[90m━━━━━━━━━━━━━━━━━━━━━━━━━━━━━━━━━━━━━━━━\u001b[0m \u001b[32m116.3/116.3 kB\u001b[0m \u001b[31m6.5 MB/s\u001b[0m eta \u001b[36m0:00:00\u001b[0m\n",
            "\u001b[2K     \u001b[90m━━━━━━━━━━━━━━━━━━━━━━━━━━━━━━━━━━━━━━━━\u001b[0m \u001b[32m49.7/49.7 kB\u001b[0m \u001b[31m3.1 MB/s\u001b[0m eta \u001b[36m0:00:00\u001b[0m\n",
            "\u001b[2K     \u001b[90m━━━━━━━━━━━━━━━━━━━━━━━━━━━━━━━━━━━━━━━━\u001b[0m \u001b[32m39.4/39.4 MB\u001b[0m \u001b[31m8.2 MB/s\u001b[0m eta \u001b[36m0:00:00\u001b[0m\n",
            "\u001b[2K     \u001b[90m━━━━━━━━━━━━━━━━━━━━━━━━━━━━━━━━━━━━━━━━\u001b[0m \u001b[32m929.7/929.7 kB\u001b[0m \u001b[31m29.3 MB/s\u001b[0m eta \u001b[36m0:00:00\u001b[0m\n",
            "\u001b[2K     \u001b[90m━━━━━━━━━━━━━━━━━━━━━━━━━━━━━━━━━━━━━━━━\u001b[0m \u001b[32m129.9/129.9 kB\u001b[0m \u001b[31m4.3 MB/s\u001b[0m eta \u001b[36m0:00:00\u001b[0m\n",
            "\u001b[2K     \u001b[90m━━━━━━━━━━━━━━━━━━━━━━━━━━━━━━━━━━━━━━━━\u001b[0m \u001b[32m2.1/2.1 MB\u001b[0m \u001b[31m25.8 MB/s\u001b[0m eta \u001b[36m0:00:00\u001b[0m\n",
            "\u001b[2K     \u001b[90m━━━━━━━━━━━━━━━━━━━━━━━━━━━━━━━━━━━━━━━━\u001b[0m \u001b[32m107.5/107.5 kB\u001b[0m \u001b[31m5.5 MB/s\u001b[0m eta \u001b[36m0:00:00\u001b[0m\n",
            "\u001b[?25h  Building wheel for qiskit (setup.py) ... \u001b[?25l\u001b[?25hdone\n",
            "\u001b[2K     \u001b[90m━━━━━━━━━━━━━━━━━━━━━━━━━━━━━━━━━━━━━━━━\u001b[0m \u001b[32m156.5/156.5 kB\u001b[0m \u001b[31m2.7 MB/s\u001b[0m eta \u001b[36m0:00:00\u001b[0m\n",
            "\u001b[2K     \u001b[90m━━━━━━━━━━━━━━━━━━━━━━━━━━━━━━━━━━━━━━━━\u001b[0m \u001b[32m6.2/6.2 MB\u001b[0m \u001b[31m52.7 MB/s\u001b[0m eta \u001b[36m0:00:00\u001b[0m\n",
            "\u001b[2K     \u001b[90m━━━━━━━━━━━━━━━━━━━━━━━━━━━━━━━━━━━━━━━━\u001b[0m \u001b[32m635.6/635.6 kB\u001b[0m \u001b[31m36.0 MB/s\u001b[0m eta \u001b[36m0:00:00\u001b[0m\n",
            "\u001b[?25h  Installing build dependencies ... \u001b[?25l\u001b[?25hdone\n",
            "  Getting requirements to build wheel ... \u001b[?25l\u001b[?25hdone\n",
            "  Installing backend dependencies ... \u001b[?25l\u001b[?25hdone\n",
            "  Preparing metadata (pyproject.toml) ... \u001b[?25l\u001b[?25hdone\n",
            "  Building wheel for docplex (pyproject.toml) ... \u001b[?25l\u001b[?25hdone\n",
            "\u001b[31mERROR: pip's dependency resolver does not currently take into account all the packages that are installed. This behaviour is the source of the following dependency conflicts.\n",
            "qiskit 0.39.2 requires qiskit-terra==0.22.2, but you have qiskit-terra 0.46.1 which is incompatible.\u001b[0m\u001b[31m\n",
            "\u001b[0mAll Packages Installed!\n"
          ]
        }
      ],
      "source": [
        "try:\n",
        "  import google.colab\n",
        "  IN_COLAB = True\n",
        "except:\n",
        "  IN_COLAB = False\n",
        "\n",
        "if IN_COLAB:\n",
        " !pip install -q qiskit==0.39.2\n",
        " !pip install -q qiskit-optimization==0.5.0\n",
        " print(\"All Packages Installed!\")"
      ]
    },
    {
      "cell_type": "code",
      "execution_count": 2,
      "metadata": {
        "id": "KMuyWRvYuE2C"
      },
      "outputs": [],
      "source": [
        "# Problem Modelling Imports\n",
        "from qiskit_optimization.converters.quadratic_program_to_qubo import QuadraticProgramToQubo\n",
        "from qiskit_optimization.translators import from_docplex_mp\n",
        "from docplex.mp.model import Model\n",
        "\n",
        "# Qiskit Optimizer Imports\n",
        "from qiskit_optimization.algorithms import MinimumEigenOptimizer\n",
        "from qiskit.algorithms.minimum_eigensolvers import QAOA\n",
        "from qiskit.algorithms.optimizers import SPSA, COBYLA, NELDER_MEAD\n",
        "\n",
        "from qiskit.primitives import Sampler\n",
        "\n",
        "# Misc. Imports\n",
        "import time\n",
        "import matplotlib.pyplot as plt"
      ]
    },
    {
      "cell_type": "markdown",
      "metadata": {
        "id": "QT0RlN3Nu34n"
      },
      "source": [
        "### **Example 1 - Number Partitioning Problem**"
      ]
    },
    {
      "cell_type": "code",
      "execution_count": 3,
      "metadata": {
        "id": "koMoUbw_Dhpj"
      },
      "outputs": [],
      "source": [
        "test_1 = [1, 7, 10, 18]\n",
        "test_2 = [11, 29, 21, 17, 32, 10]\n",
        "test_3 = [25, 7, 13, 31, 42, 17, 21, 10]"
      ]
    },
    {
      "cell_type": "code",
      "execution_count": 4,
      "metadata": {
        "id": "VtJopEqBuAXD"
      },
      "outputs": [],
      "source": [
        "arr = test_2\n",
        "n = len(arr)\n",
        "c = sum(arr)"
      ]
    },
    {
      "cell_type": "markdown",
      "source": [
        "**Number Partitioning Models**\n",
        "\n",
        "Given an array of $n$ integers $[a_{1}, a_{2}, a_{3} ... a_{n}]$, the corresponding Ising Hamiltonian is:\n",
        "\n",
        "$$H=(\\sum_{i=1}^{n}a_{i}s_{i})^2$$\n",
        "\n",
        "Where $s_{i} \\in \\{-1,1\\}$ is the Ising spin variable.\n",
        "\n",
        "Similarly the corresponding QUBO Model is:\n",
        "\n",
        "$$Q=(\\sum_{i=1}^{n}a_{i}-2\\sum_{i=1}^{n}a_{i}x_{i})^{2}$$\n",
        "or\n",
        "$$Q=(c-2\\sum_{i=1}^{n}a_{i}x_{i})^{2}$$\n",
        "\n",
        "Where $c=\\sum_{i=1}^{n}a_{i}$ and $x_{i} \\in \\{0, 1\\}$ is a binary quadratic variable."
      ],
      "metadata": {
        "id": "edicdR6xsd8D"
      }
    },
    {
      "cell_type": "code",
      "execution_count": 5,
      "metadata": {
        "id": "zpqELeN_uH8c"
      },
      "outputs": [],
      "source": [
        "model = Model()\n",
        "x = model.binary_var_list(n)\n",
        "Q = (c - 2*sum(arr[i]*x[i] for i in range(n)))**2\n",
        "model.minimize(Q)\n",
        "problem = from_docplex_mp(model)\n",
        "qubo = QuadraticProgramToQubo().convert(problem)"
      ]
    },
    {
      "cell_type": "markdown",
      "source": [
        "**Solving the QUBO**\n",
        "\n",
        "This algorithm uses the Simultaneous Perturbation Stochastic Approximation (SPSA) optimizers. It is one of the gradient-free optimization algorithms offered by Qiskit-Optimization and is well suited uncertain or noisy objective functions. In this SPSA is run for a maximum of 250 iterations\n",
        "\n",
        "The sampler reference the base sampler used by Qiskit. This sampler finds the probability of bitstring solutions. Finally the QAOA uses the optimizer and sampler to create the quantum circuit to run on the QASM Simulator. You can further specify the number of reps which describes the number of iterations of cost and mixer hamiltonians. In this example and all following circuits, this has been set to $p=2$.\n",
        "\n",
        "The Minimum Eigen Optimizer converts the QUBO problems to Ising Model and then solves it using the quantum circuit defined before.\n"
      ],
      "metadata": {
        "id": "tEhB8LSGT2Te"
      }
    },
    {
      "cell_type": "code",
      "execution_count": 6,
      "metadata": {
        "id": "9YMGlAnAuwjk"
      },
      "outputs": [],
      "source": [
        "spsa = SPSA(maxiter=250)\n",
        "sampler = Sampler()\n",
        "qaoa = QAOA(sampler=sampler, optimizer=spsa, reps=2)\n",
        "algorithm = MinimumEigenOptimizer(qaoa)"
      ]
    },
    {
      "cell_type": "code",
      "execution_count": 7,
      "metadata": {
        "id": "xxTefOBpvM9h"
      },
      "outputs": [],
      "source": [
        "result = algorithm.solve(problem)\n",
        "#print(result.prettyprint())\n",
        "elapsed_time = result.min_eigen_solver_result.optimizer_time"
      ]
    },
    {
      "cell_type": "code",
      "execution_count": 8,
      "metadata": {
        "id": "Nvoo4LDmvRDk"
      },
      "outputs": [],
      "source": [
        "# Converting the output binary variables to produce a valid output\n",
        "def partition(binary_dict):\n",
        "    P1 = []\n",
        "    P2 = []\n",
        "    for key, value in binary_dict.items():\n",
        "        if value == 0:\n",
        "            P1.append(arr[int(key[1:])])\n",
        "        elif value == 1:\n",
        "            P2.append(arr[int(key[1:])])\n",
        "    sum1 = sum(P1)\n",
        "    sum2 = sum(P2)\n",
        "    if print is not None:\n",
        "      print(P1)\n",
        "      print('Sum: ' + str(sum1))\n",
        "      print(P2)\n",
        "      print('Sum: ' + str(sum2))\n",
        "    return abs(sum1 - sum2)"
      ]
    },
    {
      "cell_type": "code",
      "execution_count": 9,
      "metadata": {
        "colab": {
          "base_uri": "https://localhost:8080/"
        },
        "id": "4Tml78PTvO7Q",
        "outputId": "3fd36056-e275-4950-f2be-6bee634e0246"
      },
      "outputs": [
        {
          "output_type": "stream",
          "name": "stdout",
          "text": [
            "[29, 21, 10]\n",
            "Sum: 60\n",
            "[11, 17, 32]\n",
            "Sum: 60\n",
            "Optimization Time: 29.009896993637085\n"
          ]
        }
      ],
      "source": [
        "partition(result.variables_dict)\n",
        "print(\"Optimization Time: \" + str(elapsed_time))"
      ]
    },
    {
      "cell_type": "markdown",
      "metadata": {
        "id": "BZeWlQdhxfh0"
      },
      "source": [
        "### **Example 2 - Max-Cut Problem**"
      ]
    },
    {
      "cell_type": "code",
      "execution_count": 10,
      "metadata": {
        "id": "TcNbdcu8z9Uj"
      },
      "outputs": [],
      "source": [
        "import numpy as np\n",
        "import networkx as nx\n",
        "import matplotlib.pyplot as plt"
      ]
    },
    {
      "cell_type": "code",
      "execution_count": 11,
      "metadata": {
        "id": "WNRRU_gu2Dwn"
      },
      "outputs": [],
      "source": [
        "def draw_graph(G, colors, pos):\n",
        "    default_axes = plt.axes()\n",
        "    nx.draw_networkx(G, node_color=colors, node_size=600, alpha=0.8, ax=default_axes, pos=pos)\n",
        "    edge_labels = nx.get_edge_attributes(G, \"weight\")"
      ]
    },
    {
      "cell_type": "code",
      "execution_count": 12,
      "metadata": {
        "colab": {
          "base_uri": "https://localhost:8080/",
          "height": 406
        },
        "id": "9AXi4EX2xdUL",
        "outputId": "c1c135cb-141f-41c0-93fa-aee5a6600c0c"
      },
      "outputs": [
        {
          "output_type": "display_data",
          "data": {
            "text/plain": [
              "<Figure size 640x480 with 1 Axes>"
            ],
            "image/png": "[encoded data removed]"
          },
          "metadata": {}
        }
      ],
      "source": [
        "# Generating a graph of 4 nodes\n",
        "\n",
        "n = 5  # Number of nodes in graph\n",
        "G = nx.Graph()\n",
        "G.add_nodes_from(np.arange(0, n, 1))\n",
        "edges = [(0, 1, 1.0), (0, 3, 1.0), (1, 2, 1.0), (2, 3, 1.0), (2, 4, 1.0), (3, 4, 1.0)]\n",
        "# tuple is (i,j,weight) where (i,j) is the edge\n",
        "G.add_weighted_edges_from(edges)\n",
        "\n",
        "colors = [\"r\" for node in G.nodes()]\n",
        "pos = nx.spring_layout(G)\n",
        "\n",
        "draw_graph(G, colors, pos)"
      ]
    },
    {
      "cell_type": "markdown",
      "source": [
        "**Max-Cut Models**\n",
        "\n",
        "Given an undirected unweighted Graph $G$ with vertex set $V$ and edge set $E$ with edges $(i, j)$ the corresponding Ising Hamiltonian is:\n",
        "\n",
        "$$H=\\sum_{(i, j) \\in E}\\frac{1-s_{i}s_{j}}{2}$$\n",
        "\n",
        "Where $s_{i} \\in \\{-1,1\\}$ is the Ising spin variable.\n",
        "\n",
        "The corresponding QUBO Model is:\n",
        "\n",
        "$$Q=\\sum_{(i, j)\\in E}(x_{i}+x_{j}-2x_{i}x_{j})$$\n",
        "\n",
        "Where $x_{i} \\in \\{0, 1\\}$ is a binary quadratic variable."
      ],
      "metadata": {
        "id": "siogyYJYLluJ"
      }
    },
    {
      "cell_type": "code",
      "execution_count": 13,
      "metadata": {
        "id": "9n2_q_y73UMg"
      },
      "outputs": [],
      "source": [
        "model = Model()\n",
        "x = model.binary_var_list(n)\n",
        "H = sum(2*x[e[0]]*x[e[1]] - x[e[0]] - x[e[1]] for e in edges)\n",
        "model.minimize(H)\n",
        "problem = from_docplex_mp(model)\n",
        "qubo = QuadraticProgramToQubo().convert(problem)"
      ]
    },
    {
      "cell_type": "markdown",
      "source": [
        "**Solving the QUBO**\n",
        "\n",
        "Other than the features shared with Number Partitioning Partition, this algorithm uses the Constrained by Linear Approximation (COBYLA) optimizers. It is another gradient-free optimization algorithms offered by Qiskit-Optimization. It is similarly run for 250 iterations and is one of the most popularly used QAOA optimizers due to its tradeoff of speed and accuracy."
      ],
      "metadata": {
        "id": "rnRKa0AAf6i0"
      }
    },
    {
      "cell_type": "code",
      "execution_count": 14,
      "metadata": {
        "id": "xfn-iQXw47rm"
      },
      "outputs": [],
      "source": [
        "cobyla = COBYLA(maxiter=250)\n",
        "sampler = Sampler()\n",
        "qaoa = QAOA(sampler=sampler, optimizer=cobyla, reps=2)\n",
        "algorithm = MinimumEigenOptimizer(qaoa)"
      ]
    },
    {
      "cell_type": "code",
      "execution_count": 15,
      "metadata": {
        "colab": {
          "base_uri": "https://localhost:8080/"
        },
        "id": "Hd9JD3Pz5FTA",
        "outputId": "9de6f1bf-4f97-4c47-ebb6-cde99438ca48"
      },
      "outputs": [
        {
          "output_type": "stream",
          "name": "stdout",
          "text": [
            "objective function value: -5.0\n",
            "variable values: x0=1.0, x1=0.0, x2=1.0, x3=0.0, x4=0.0\n",
            "status: SUCCESS\n",
            "Optimization Time: 4.466760635375977\n"
          ]
        }
      ],
      "source": [
        "result = algorithm.solve(problem)\n",
        "print(result.prettyprint())\n",
        "elapsed_time = result.min_eigen_solver_result.optimizer_time\n",
        "print(\"Optimization Time: \" + str(elapsed_time))"
      ]
    },
    {
      "cell_type": "code",
      "execution_count": 16,
      "metadata": {
        "colab": {
          "base_uri": "https://localhost:8080/",
          "height": 423
        },
        "id": "Up2_6BvC5fcG",
        "outputId": "41761578-1e0a-4797-fa24-de35c496d275"
      },
      "outputs": [
        {
          "output_type": "stream",
          "name": "stdout",
          "text": [
            "Optimization Time: 4.466760635375977\n"
          ]
        },
        {
          "output_type": "display_data",
          "data": {
            "text/plain": [
              "<Figure size 640x480 with 1 Axes>"
            ],
            "image/png": "[encoded data removed]"
          },
          "metadata": {}
        }
      ],
      "source": [
        "# Converting the output binary variables to produce a valid output\n",
        "colors = [\"r\" if result.variables_dict[v] == 0.0 else \"c\" for v in result.variables_dict.keys()]\n",
        "draw_graph(G, colors, pos)\n",
        "print(\"Optimization Time: \" + str(elapsed_time))"
      ]
    },
    {
      "cell_type": "markdown",
      "metadata": {
        "id": "Drm7I3wl_BXt"
      },
      "source": [
        "### **Example 3 - Minimum Vertex Cover**"
      ]
    },
    {
      "cell_type": "code",
      "execution_count": 17,
      "metadata": {
        "colab": {
          "base_uri": "https://localhost:8080/",
          "height": 406
        },
        "id": "2wCxkKkF-8j4",
        "outputId": "8551509d-6f2a-49a0-b08d-f019ce60fbd9"
      },
      "outputs": [
        {
          "output_type": "display_data",
          "data": {
            "text/plain": [
              "<Figure size 640x480 with 1 Axes>"
            ],
            "image/png": "[encoded data removed]"
          },
          "metadata": {}
        }
      ],
      "source": [
        "# Generating a graph of 4 nodes\n",
        "\n",
        "n = 5  # Number of nodes in graph\n",
        "G = nx.Graph()\n",
        "G.add_nodes_from(np.arange(0, n, 1))\n",
        "edges = [(0, 2, 1.0), (2, 4, 1.0), (1, 4, 1.0), (3, 4, 1.0)]\n",
        "# tuple is (i,j,weight) where (i,j) is the edge\n",
        "G.add_weighted_edges_from(edges)\n",
        "\n",
        "colors = [\"r\" for node in G.nodes()]\n",
        "pos = nx.spring_layout(G)\n",
        "\n",
        "draw_graph(G, colors, pos)"
      ]
    },
    {
      "cell_type": "markdown",
      "source": [
        "**Minimum Vertex Cover Models**\n",
        "\n",
        "Given an undirected unweighted Graph $G$ with vertex set $V$ with vertices $i$ and edge set $E$ with edges $(i, j)$ the corresponding Ising Hamiltonian is:\n",
        "\n",
        "$$H=P\\sum_{(i, j) \\in E}(1-s_{i})(1-s_{j}) + \\sum_{i \\in V}s_{i}$$\n",
        "\n",
        "Where $s_{i} \\in \\{-1,1\\}$ is the Ising spin variable and $P$ is the penalty coefficient.\n",
        "\n",
        "The corresponding QUBO Model is:\n",
        "\n",
        "$$Q=\\sum_{i \\in V}x_{i} + P(\\sum_{(i, j) \\in E}(1-x_{i}-x_{j}+x_{i}x_{j}))$$\n",
        "\n",
        "Where $x_{i} \\in \\{0, 1\\}$ is a binary quadratic variable.\n",
        "\n",
        "Note in the example $P$ was chosen through trial-and-error although there exists rigorous mathematical processes"
      ],
      "metadata": {
        "id": "oKlq91ElONOY"
      }
    },
    {
      "cell_type": "code",
      "execution_count": 18,
      "metadata": {
        "id": "3EpN71xUAAbM"
      },
      "outputs": [],
      "source": [
        "model = Model()\n",
        "x = model.binary_var_list(n)\n",
        "P = 10\n",
        "H = sum(x[i] for i in range(n)) + P*sum(1 - x[e[0]] - x[e[1]] + x[e[0]]*x[e[1]] for e in edges)\n",
        "model.minimize(H)\n",
        "problem = from_docplex_mp(model)\n",
        "qubo = QuadraticProgramToQubo().convert(problem)"
      ]
    },
    {
      "cell_type": "markdown",
      "source": [
        "**Solving the QUBO**\n",
        "\n",
        "Other than the features shared with Number Partitioning Partition, this algorithm uses the Nelder optimizers. It is another gradient-free optimization algorithms offered by Qiskit-Optimization. It is great for solving nondifferentiable, nonlinear, and noisy functions by iterative evolving a simplex and is similarly run for 250 iterations."
      ],
      "metadata": {
        "id": "z-fHuHrOnG9x"
      }
    },
    {
      "cell_type": "code",
      "execution_count": 19,
      "metadata": {
        "id": "3VnYU34XAmEG"
      },
      "outputs": [],
      "source": [
        "nelder_mead = NELDER_MEAD(maxiter=250)\n",
        "sampler = Sampler()\n",
        "qaoa = QAOA(sampler=sampler, optimizer=nelder_mead, reps=2)\n",
        "algorithm = MinimumEigenOptimizer(qaoa)"
      ]
    },
    {
      "cell_type": "code",
      "execution_count": 20,
      "metadata": {
        "colab": {
          "base_uri": "https://localhost:8080/"
        },
        "id": "HM1IZ9w0DcAW",
        "outputId": "4fe29545-c036-419c-8193-ac08212640a2"
      },
      "outputs": [
        {
          "output_type": "stream",
          "name": "stdout",
          "text": [
            "objective function value: 2.0\n",
            "variable values: x0=1.0, x1=0.0, x2=0.0, x3=0.0, x4=1.0\n",
            "status: SUCCESS\n",
            "Optimization Time: 3.1786155700683594\n"
          ]
        }
      ],
      "source": [
        "result = algorithm.solve(problem)\n",
        "print(result.prettyprint())\n",
        "elapsed_time = result.min_eigen_solver_result.optimizer_time\n",
        "print(\"Optimization Time: \" + str(elapsed_time))"
      ]
    },
    {
      "cell_type": "code",
      "execution_count": 21,
      "metadata": {
        "colab": {
          "base_uri": "https://localhost:8080/",
          "height": 423
        },
        "id": "9J50T45QFliL",
        "outputId": "a7345a5b-5e07-4086-98e6-db26089f3cd7"
      },
      "outputs": [
        {
          "output_type": "stream",
          "name": "stdout",
          "text": [
            "Execution Time: 3.1786155700683594\n"
          ]
        },
        {
          "output_type": "display_data",
          "data": {
            "text/plain": [
              "<Figure size 640x480 with 1 Axes>"
            ],
            "image/png": "[encoded data removed]"
          },
          "metadata": {}
        }
      ],
      "source": [
        "# Converting the output binary variables to produce a valid output\n",
        "colors = [\"r\" if result.variables_dict[v] == 0.0 else \"c\" for v in result.variables_dict.keys()]\n",
        "draw_graph(G, colors, pos)\n",
        "print(\"Execution Time: \" + str(elapsed_time))"
      ]
    }
  ],
  "metadata": {
    "colab": {
      "provenance": []
    },
    "kernelspec": {
      "display_name": "Python 3",
      "name": "python3"
    },
    "language_info": {
      "name": "python"
    }
  },
  "nbformat": 4,
  "nbformat_minor": 0
}
