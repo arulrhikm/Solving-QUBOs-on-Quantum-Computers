{
  "cells": [
    {
      "cell_type": "code",
      "source": [
        "try:\n",
        "    import google.colab\n",
        "    IN_COLAB = True\n",
        "except ImportError:\n",
        "    IN_COLAB = False\n",
        "\n",
        "if IN_COLAB:\n",
        "    !pip install -q qiskit==1.2.4\n",
        "    !pip install -q docplex\n",
        "    !pip install -q cplex==22.1.1.2\n",
        "    !pip install -q pyqubo\n",
        "    !pip install -q dwave-ocean-sdk==6.10.0\n",
        "    !pip install -q qiskit==1.2.4\n",
        "    !pip install -q qiskit-aer==0.15.1\n",
        "    !pip install -q qiskit-algorithms==0.3.1\n",
        "    !pip install -q qiskit-optimization==0.6.1\n",
        "    !pip install -q qiskit-ibm-runtime==0.31.0\n",
        "    print(\"All Packages Installed!\")"
      ],
      "metadata": {
        "colab": {
          "base_uri": "https://localhost:8080/"
        },
        "id": "enW-vMWlasFd",
        "outputId": "aa0d1b7b-85fd-4048-c5e4-f8c1fdfadd90"
      },
      "id": "enW-vMWlasFd",
      "execution_count": 35,
      "outputs": [
        {
          "output_type": "stream",
          "name": "stdout",
          "text": [
            "All Packages Installed!\n"
          ]
        }
      ]
    },
    {
      "cell_type": "code",
      "execution_count": 36,
      "id": "95c6bf13-079a-4e7a-b9bd-7962236e4dd9",
      "metadata": {
        "id": "95c6bf13-079a-4e7a-b9bd-7962236e4dd9"
      },
      "outputs": [],
      "source": [
        "# Define small input\n",
        "weights_small = [8, 2, 3, 7]  # Weights of items (4 items)\n",
        "bin_capacity_small = 10       # Capacity of each bin\n",
        "\n",
        "# Define medium input\n",
        "weights_medium = [5, 8, 3, 7, 6, 2, 4, 9, 3, 1]  # Weights of items (10 items)\n",
        "bin_capacity_medium = 15        # Capacity of each bin\n",
        "\n",
        "# Define large input\n",
        "weights_large = [5, 8, 3, 7, 6, 2, 4, 9, 3, 1, 10, 2, 5, 8, 4, 3, 7, 1, 6, 9,\n",
        "                3, 5, 2, 7, 8, 6, 4, 5, 6, 3, 2, 7, 9, 8, 3, 4, 5, 2, 1, 10,\n",
        "                5, 7, 3, 6, 2, 8, 9, 4, 7, 1]  # Weights of items (50 items)\n",
        "bin_capacity_large = 20         # Capacity of each bin"
      ]
    },
    {
      "cell_type": "markdown",
      "id": "ba112ebb-628d-4630-9606-c4fe0e1da8b9",
      "metadata": {
        "id": "ba112ebb-628d-4630-9606-c4fe0e1da8b9"
      },
      "source": [
        "# Section 1: Classical Techniques\n",
        "\n",
        "We demonstrate how to solve the Bin Packing problem (BPP) using its Integer Linear Programming (ILP) formulation. We use DOcplex to model the problem, and then call the IBM ILOG CPLEX Optimizer to solve it.\n",
        "\n",
        "Given the parameters than:\n",
        "*   $w_i$ :  Weight of item $i$\n",
        "*   $C$ : Capacity of each bin\n",
        "*   $n$ : Number of items\n",
        "*   $m$ : Number of bins\n",
        "\n",
        "and decisions variables:\n",
        "*   $x_{ij} \\in \\{0, 1\\}$: Binary variable that equals $1$ if item $i$ is placed in bin $j$, and $0$ otherwise.\n",
        "*   $y_j \\in \\{0, 1\\}$: Binary variable that equals $1$ if bin $j$ is used, and $0$ otherwise.\n",
        "\n",
        "\n",
        "\n",
        "\n",
        "The ILP formulation of BPP is:\n",
        "\n",
        "**Objective**\n",
        "$$\\min \\sum_{j=1}^{m} y_j$$\n",
        "\n",
        "**Constraints**\n",
        "$$\\sum_{i=1}^{n} w_i x_{ij} \\leq C \\cdot y_j \\quad \\forall j \\in \\{1, 2, \\dots, m\\}\n",
        "   $$\n",
        "\n",
        "$$\\sum_{j=1}^{m} x_{ij} = 1 \\quad \\forall i \\in \\{1, 2, \\dots, n\\}$$\n",
        "\n",
        "In the following code, we formulate the ILP using DOcplex and solve using CPLEX, while returning the DOcplex model."
      ]
    },
    {
      "cell_type": "code",
      "source": [
        "from docplex.mp.model import Model"
      ],
      "metadata": {
        "id": "2zzlmUNB-h8A"
      },
      "id": "2zzlmUNB-h8A",
      "execution_count": 37,
      "outputs": []
    },
    {
      "cell_type": "code",
      "execution_count": 38,
      "id": "5e250462-34ad-4774-a7e9-77c371f63d66",
      "metadata": {
        "id": "5e250462-34ad-4774-a7e9-77c371f63d66"
      },
      "outputs": [],
      "source": [
        "def solve_ilp_bpp(weights, bin_capacity):\n",
        "    \"\"\"\n",
        "    Solves the Bin Packing Problem (BPP) using Integer Linear Programming (ILP) with DOcplex.\n",
        "\n",
        "    The function formulates a bin packing problem where each item has a weight, and the goal\n",
        "    is to minimize the number of bins required to pack all items. The bin capacity is fixed,\n",
        "    and each item must be packed into one bin, such that the total weight of items in any bin\n",
        "    does not exceed the bin capacity. It solves the model with optimal outputs the model to\n",
        "    the user for future use.\n",
        "\n",
        "    Args:\n",
        "        weights (list of int/float): List of item weights to be packed.\n",
        "        bin_capacity (int/float): The capacity of each bin.\n",
        "\n",
        "    Returns:\n",
        "        docplex.mp.model.Model: The optimized model object.\n",
        "    \"\"\"\n",
        "    n_items = len(weights)  # Number of items to pack\n",
        "    n_bins = n_items        # Maximum bins needed (one bin per item in the worst case)\n",
        "\n",
        "    # Initialize the optimization model\n",
        "    model = Model(\"Bin Packing\")\n",
        "\n",
        "    # Define binary variables: x[i][j] = 1 if item i is placed in bin j, else 0\n",
        "    x = {(i, j): model.binary_var(name=f\"x_{i}_{j}\") for i in range(n_items) for j in range(n_bins)}\n",
        "\n",
        "    # Define binary variables: y[j] = 1 if bin j is used, else 0\n",
        "    y = {j: model.binary_var(name=f\"y_{j}\") for j in range(n_bins)}\n",
        "\n",
        "    # Objective: Minimize the number of bins used\n",
        "    model.minimize(model.sum(y[j] for j in range(n_bins)))\n",
        "\n",
        "    # Constraint 1: Bin capacity should not be exceeded\n",
        "    for j in range(n_bins):\n",
        "        model.add_constraint(\n",
        "            model.sum(weights[i] * x[i, j] for i in range(n_items)) <= bin_capacity * y[j],\n",
        "            f\"bin_capacity_{j}\"\n",
        "        )\n",
        "\n",
        "    # Constraint 2: Each item must be placed in exactly one bin\n",
        "    for i in range(n_items):\n",
        "        model.add_constraint(\n",
        "            model.sum(x[i, j] for j in range(n_bins)) == 1, f\"item_{i}\"\n",
        "        )\n",
        "\n",
        "    # Solve the model to find the optimal solution\n",
        "    solution = model.solve()\n",
        "\n",
        "    # If a solution is found, print the results\n",
        "    if solution:\n",
        "        print(\"Minimum number of bins used:\", solution.get_objective_value())\n",
        "        for j in range(n_bins):\n",
        "            if y[j].solution_value > 0.5:  # Bin j is used\n",
        "                print(f\"Bin {j+1} contains items:\", end=\" \")\n",
        "                for i in range(n_items):\n",
        "                    if x[i, j].solution_value > 0.5:  # Item i is in bin j\n",
        "                        print(f\"item {i+1} (weight {weights[i]})\", end=\" \")\n",
        "                print()\n",
        "    else:\n",
        "        print(\"No solution found\")\n",
        "\n",
        "    # Return the model object for further analysis or manipulation if needed\n",
        "    return model"
      ]
    },
    {
      "cell_type": "code",
      "execution_count": 39,
      "id": "0e360e47-403e-47d2-b6ae-4667afcc4c4f",
      "metadata": {
        "colab": {
          "base_uri": "https://localhost:8080/"
        },
        "id": "0e360e47-403e-47d2-b6ae-4667afcc4c4f",
        "outputId": "e2b2b667-e73a-4410-ba14-7f3587a7dda8"
      },
      "outputs": [
        {
          "output_type": "stream",
          "name": "stdout",
          "text": [
            "Minimum number of bins used: 2.0\n",
            "Bin 1 contains items: item 1 (weight 8) item 2 (weight 2) \n",
            "Bin 2 contains items: item 3 (weight 3) item 4 (weight 7) \n"
          ]
        }
      ],
      "source": [
        "bpp_ilp_model = solve_ilp_bpp(weights_small, bin_capacity_small)"
      ]
    },
    {
      "cell_type": "markdown",
      "source": [
        "# Section 2: Solving Quadratic Unconstrained Binary Optimization Problems with DWAVE"
      ],
      "metadata": {
        "id": "tg0CN8kXgwbg"
      },
      "id": "tg0CN8kXgwbg"
    },
    {
      "cell_type": "code",
      "execution_count": 40,
      "id": "e738f75f-6057-4360-8c81-652daa7df61c",
      "metadata": {
        "id": "e738f75f-6057-4360-8c81-652daa7df61c"
      },
      "outputs": [],
      "source": [
        "from pyqubo import Array, Constraint"
      ]
    },
    {
      "cell_type": "markdown",
      "source": [
        "We then demonstrate how to convert our BPP ILP instance to a Quadratic Unconstrained Binary Optimization (QUBO) format. Note we are lucky that the original ILP only has binary variables, thus we don't need to perform any binarization on the original variables.\n",
        "\n",
        "Unfortunately, we still have inequalities and thus will need to introduce slack variables which we will need in binarize. Thus our modify ILP with only inequalities and slack variables becomes:\n",
        "\n",
        "$$\\min \\sum_{j=1}^{m} y_j$$\n",
        "\n",
        "$$\\sum_{i=1}^{n} w_j x_{ij} + s_{i} = C \\cdot y_j \\quad \\forall j \\in \\{1, 2, \\dots, m\\}\n",
        "   $$\n",
        "\n",
        "$$\\sum_{j=1}^{m} x_{ij} = 1 \\quad \\forall i \\in \\{1, 2, \\dots, n\\}$$\n",
        "\n",
        "Considering we can weakly bound $s_{i} \\leq C$, we can binarize $s_{i}$ using the set of powers of $2$ less than $C$ (assume this set has size of $B$). Thus we introduce a new set of binary decision variables ${b_{ij}}$ such that $\\sum_{i=1}^{B} 2^{i}b_{ij} = s_{j}$ where $b_{ij} = 1$, if $b_{ij}$ is $1$ if the $2^{i}$ is present in the binary decomposition of $s_{j}$. Thus the revised QUBO for this binarization on slack variable is:\n",
        "\n",
        "$$\\min \\sum_{j=1}^{m} y_j$$\n",
        "\n",
        "$$\\sum_{i=1}^{n} w_j x_{ij} + \\sum_{i=1}^{B} 2^{i}b_{ij} = C \\cdot y_j \\quad \\forall j \\in \\{1, 2, \\dots, m\\}\n",
        "   $$\n",
        "\n",
        "$$\\sum_{j=1}^{m} x_{ij} = 1 \\quad \\forall i \\in \\{1, 2, \\dots, n\\}$$\n",
        "\n",
        "Finally, we use Lagrange multipliers to add each constraint to the objective. Thus our final QUBO model is\n",
        "\n",
        "$$ H = \\min \\sum_{j=1}^{m} y_j + λ_{1}\\sum_{j=1}^{m}(C \\cdot y_{j} - (\\sum_{i=1}^{n} w_{j}x_{ij} + \\sum_{i=1}^{B} 2^{i}b_{ij}))^{2} + λ_{2}\\sum_{i=1}^{n}(1 - \\sum_{j=1}^{m}x_{ij})^{2}$$\n",
        "\n",
        "Now while this is the true QUBO formulation of BPP which incorporates all key principles of binarization, slack variables, and lagrange multipliers, below I implemented a simpler (not completely accurate version).\n",
        "\n",
        "For the code, I exclude the slack variable and the resulting binarization for demonstration purposes. If these were included, the brute-force QUBO solver would never work as it runs exponentially long with respect to the number of variables. Binarization introduces significantly more variables and thus even the smallest test case would be unfeasible to run.\n",
        "\n",
        "Instead, the QUBO implemented treats the original inequality constraint and an equality. It performs roughly the same across the provided tests and is list below:\n",
        "\n",
        "$$ H = \\min \\sum_{j=1}^{m} y_j + λ_{1}\\sum_{j=1}^{m}(C \\cdot y_{j} - (\\sum_{i=1}^{n} w_{j}x_{ij}))^{2} + λ_{2}\\sum_{i=1}^{n}(1 - \\sum_{j=1}^{m}x_{ij})^{2}$$\n",
        "\n",
        "Note the the QUBO were constructed using PyQUBO, and the function below returns the pyqubo model which can then either be passed into a quantum annealing solver or a brute force solver."
      ],
      "metadata": {
        "id": "iC79dEupg-VA"
      },
      "id": "iC79dEupg-VA"
    },
    {
      "cell_type": "code",
      "execution_count": 41,
      "id": "e467bb65-4efa-45c0-895a-8495c1d471d5",
      "metadata": {
        "id": "e467bb65-4efa-45c0-895a-8495c1d471d5"
      },
      "outputs": [],
      "source": [
        "def get_qubo(weights, bin_capacity, single_assignment_penalty=10, bin_capacity_penalty=10):\n",
        "    \"\"\"\n",
        "    Formulates the Bin Packing Problem (BPP) as a Quadratic Unconstrained Binary Optimization (QUBO) model.\n",
        "\n",
        "    The function constructs a QUBO model for solving the Bin Packing Problem using quantum optimization techniques\n",
        "    or classical solvers that support QUBO formulations. The model minimizes the number of bins used while enforcing\n",
        "    that each item is assigned to exactly one bin, and that the total weight in each bin does not exceed its capacity.\n",
        "\n",
        "    Args:\n",
        "        weights (list of int/float): List of item weights to be packed.\n",
        "        bin_capacity (int/float): The capacity of each bin.\n",
        "        single_assignment_penalty (int, optional): Penalty for violating the \"one item per bin\" constraint. Default is 10.\n",
        "        bin_capacity_penalty (int, optional): Penalty for violating the \"bin capacity\" constraint. Default is 10.\n",
        "\n",
        "    Returns:\n",
        "        model: The compiled Pyqubo model representing the QUBO formulation for the Bin Packing Problem.\n",
        "    \"\"\"\n",
        "\n",
        "    # Number of items and bins\n",
        "    n_items = len(weights)           # Total number of items\n",
        "    n_bins = n_items                 # Maximum bins needed (one bin per item in the worst case)\n",
        "\n",
        "    # Define binary variables using Pyqubo's Array\n",
        "    # x[i][j] = 1 if item i is placed in bin j, 0 otherwise\n",
        "    x = Array.create('x', shape=(n_items, n_bins), vartype='BINARY')\n",
        "\n",
        "    # y[j] = 1 if bin j is used, 0 otherwise\n",
        "    y = Array.create('y', shape=n_bins, vartype='BINARY')\n",
        "\n",
        "    # Objective: Minimize the number of bins used\n",
        "    H_obj = sum(y[i] for i in range(n_bins))  # Sum of y[j] over all bins\n",
        "\n",
        "    # Constraint 1: Each item must be placed in exactly one bin\n",
        "    # We square the difference to penalize violations\n",
        "    H_single_assignment = sum((sum(x[i][j] for j in range(n_bins)) - 1)**2 for i in range(n_items))\n",
        "\n",
        "    # Constraint 2: Bin capacity constraint\n",
        "    # We square the difference to penalize violations of bin capacity\n",
        "    H_capacity = sum((sum(weights[i] * x[i][j] for i in range(n_items)) - bin_capacity * y[j])**2 for j in range(n_bins))\n",
        "\n",
        "    # Combine the objective and the penalties for constraints into one Hamiltonian\n",
        "    H = H_obj + single_assignment_penalty * H_single_assignment + bin_capacity_penalty * H_capacity\n",
        "\n",
        "    # Compile the QUBO model\n",
        "    model = H.compile()\n",
        "\n",
        "    return model\n"
      ]
    },
    {
      "cell_type": "code",
      "execution_count": 42,
      "id": "8388a776-7708-4305-b9ea-1e066bb99e43",
      "metadata": {
        "id": "8388a776-7708-4305-b9ea-1e066bb99e43"
      },
      "outputs": [],
      "source": [
        "bpp_qubo_model = get_qubo(weights_small, bin_capacity_small)"
      ]
    },
    {
      "cell_type": "markdown",
      "source": [
        "## Brute Force\n",
        "\n",
        "We first provide a brute-force solver which only works on small QUBOs. Unlike every other algorithm provided in this notebook, this is an exact solver and not just a heuristic.\n",
        "\n",
        "Unfortunately it is exponentially slow, as for $n$ decision variables, it just iterates over all $2^{n}$ decision variable combinations for the best solution (i.e. lowest value in the QUBO). This function may take some time to run, even with the smallest test case."
      ],
      "metadata": {
        "id": "oNGNSr78qqVA"
      },
      "id": "oNGNSr78qqVA"
    },
    {
      "cell_type": "code",
      "source": [
        "import itertools"
      ],
      "metadata": {
        "id": "-dgaMlJKr4zu"
      },
      "id": "-dgaMlJKr4zu",
      "execution_count": 43,
      "outputs": []
    },
    {
      "cell_type": "code",
      "source": [
        "def brute_force_qubo_solver(model):\n",
        "    \"\"\"\n",
        "    Solves a QUBO problem using brute-force search.\n",
        "\n",
        "    This function performs a brute-force search over all possible binary assignments of the\n",
        "    decision variables and evaluates the corresponding energy (objective value). The\n",
        "    assignment with the minimum energy is returned as the best solution.\n",
        "\n",
        "    Args:\n",
        "        model: A QUBO model object that contains the decision variables and methods\n",
        "               for evaluating the energy of a given assignment.\n",
        "\n",
        "    Returns:\n",
        "        best_assignment (dict): The binary assignment of variables that minimizes the energy.\n",
        "        best_energy (float): The minimum energy (objective value) corresponding to the best assignment.\n",
        "    \"\"\"\n",
        "\n",
        "    # Retrieve the list of variables from the QUBO model\n",
        "    variables = model.variables\n",
        "    num_variables = len(variables)  # Total number of variables in the model\n",
        "\n",
        "    # Initialize the best assignment and energy\n",
        "    best_assignment = {}  # Will store the binary assignment with the lowest energy\n",
        "    best_energy = float('inf')  # Set initial best energy to infinity (indicating no solution found yet)\n",
        "\n",
        "    # Iterate over all possible binary assignments (2^num_variables possibilities)\n",
        "    count = 0\n",
        "    for binary_tuple in itertools.product([0, 1], repeat=num_variables):\n",
        "        # Create a dictionary from the binary tuple where the keys are the variables\n",
        "        variable_assignment_dict = dict(zip(variables, binary_tuple))\n",
        "\n",
        "        # Decode the binary assignment and calculate its energy using the model's decode_sample method\n",
        "        decoded_sample = model.decode_sample(variable_assignment_dict, vartype='BINARY')\n",
        "\n",
        "        # If the energy of the current sample is lower (better) than the previous best, update the best assignment\n",
        "        if decoded_sample.energy < best_energy:\n",
        "            best_assignment = decoded_sample.sample  # Save the new best assignment\n",
        "            best_energy = decoded_sample.energy  # Save the energy of the new best assignment\n",
        "\n",
        "    return best_assignment, best_energy"
      ],
      "metadata": {
        "id": "feYjVcOSqoKr"
      },
      "id": "feYjVcOSqoKr",
      "execution_count": 44,
      "outputs": []
    },
    {
      "cell_type": "code",
      "source": [
        "def parse_qubo_solution(binary_assignment, weights):\n",
        "    \"\"\"\n",
        "    Parses the binary assignment solution for the Bin Packing Problem and prints the bin assignments.\n",
        "\n",
        "    Args:\n",
        "        binary_assignment (dict): Dictionary containing the binary variable assignments (e.g., 'x[i][j]' and 'y[j]').\n",
        "        num_items (int): The number of items to pack.\n",
        "        num_bins (int): The number of bins.\n",
        "        weights (list): A list of item weights.\n",
        "\n",
        "    Prints:\n",
        "        - The minimum number of bins used.\n",
        "        - Which items are assigned to which bins.\n",
        "    \"\"\"\n",
        "    # Initialize a list to track which bins are used\n",
        "    num_items = len(weights)\n",
        "    num_bins = num_items\n",
        "    used_bins = [False] * num_bins\n",
        "\n",
        "    # Check which bins are used based on 'y[j]' values\n",
        "    for j in range(num_bins):\n",
        "        if binary_assignment.get(f'y[{j}]', 0) > 0.5:  # Bin j is used\n",
        "            used_bins[j] = True\n",
        "\n",
        "    # Print the minimum number of bins used\n",
        "    bins_used = sum(used_bins)\n",
        "    print(f\"Minimum number of bins used: {bins_used}\")\n",
        "\n",
        "    # Iterate over bins and print the items assigned to each bin\n",
        "    for j in range(num_bins):\n",
        "        if used_bins[j]:\n",
        "            print(f\"Bin {j+1} contains items:\", end=\" \")\n",
        "            for i in range(num_items):\n",
        "                if binary_assignment.get(f'x[{i}][{j}]', 0) > 0.5:  # Item i is in bin j\n",
        "                    print(f\"item {i+1} (weight {weights[i]})\", end=\" \")\n",
        "            print()  # Newline after printing items in the bin"
      ],
      "metadata": {
        "id": "d2tsvok3v1id"
      },
      "id": "d2tsvok3v1id",
      "execution_count": 45,
      "outputs": []
    },
    {
      "cell_type": "code",
      "source": [
        "best_assignment, best_energy = brute_force_qubo_solver(bpp_qubo_model)\n",
        "parse_qubo_solution(best_assignment, weights_small)\n",
        "print(f\"Minimum energy (number of bins): {best_energy}\")"
      ],
      "metadata": {
        "colab": {
          "base_uri": "https://localhost:8080/"
        },
        "id": "niMqYdkOrqj7",
        "outputId": "499ee4ae-b17a-40ac-8493-56a248534481"
      },
      "id": "niMqYdkOrqj7",
      "execution_count": 46,
      "outputs": [
        {
          "output_type": "stream",
          "name": "stdout",
          "text": [
            "Minimum number of bins used: 2\n",
            "Bin 1 contains items: item 3 (weight 3) item 4 (weight 7) \n",
            "Bin 2 contains items: item 1 (weight 8) item 2 (weight 2) \n",
            "Minimum energy (number of bins): 2.0\n"
          ]
        }
      ]
    },
    {
      "cell_type": "code",
      "execution_count": 47,
      "id": "45b0f283-da9f-4c1c-8e0b-e150a24c220d",
      "metadata": {
        "id": "45b0f283-da9f-4c1c-8e0b-e150a24c220d"
      },
      "outputs": [],
      "source": [
        "import os\n",
        "import dimod\n",
        "from dwave.system.samplers import DWaveSampler\n",
        "from dwave.system.composites import EmbeddingComposite\n",
        "import neal\n",
        "\n",
        "# Connecting to DWAVE Account\n",
        "os.environ['DWAVE_API_TOKEN'] = \"DEV-7aecbd09552afc1cb9cba26c01212e6224025c2c\""
      ]
    },
    {
      "cell_type": "markdown",
      "source": [
        "Below, we demonstrate how to solve a QUBO using D-Wave's annealers. D-Wave offers both a built-in simulated annealing procedure and access to quantum annealers for solving QUBOs.\n",
        "\n",
        "While the algorithms involved are too complex to cover in detail here, please refer to my previous paper for more information:\n",
        "https://arulrhikm.github.io/media/documents/Solving_QUBOs_INFORMS_Version_for_Reviews.pdf\n",
        "\n",
        "\n",
        "You can choose which annealing algorithm to use for your QUBO by passing an additional boolean argument. If the argument is false or not provided, simulated annealing will be used by default; otherwise, quantum annealing will be employed."
      ],
      "metadata": {
        "id": "rZKA6QYmwC97"
      },
      "id": "rZKA6QYmwC97"
    },
    {
      "cell_type": "code",
      "execution_count": 48,
      "id": "baaf0cfd-32c9-4ffd-a1b7-9fd5742b5211",
      "metadata": {
        "id": "baaf0cfd-32c9-4ffd-a1b7-9fd5742b5211"
      },
      "outputs": [],
      "source": [
        "from dwave.system import EmbeddingComposite, DWaveSampler\n",
        "import neal\n",
        "\n",
        "def solve_qubo_annealing(model, quantum=False):\n",
        "    \"\"\"\n",
        "    Solves a QUBO problem using either quantum annealing (via D-Wave) or simulated annealing.\n",
        "\n",
        "    This function takes a QUBO model, converts it to a Binary Quadratic Model (BQM),\n",
        "    and then solves it using the selected annealing method. It supports both quantum\n",
        "    annealing (using D-Wave's quantum annealers) and classical simulated annealing.\n",
        "\n",
        "    Args:\n",
        "        model (pyqubo.Model): The QUBO model to be solved.\n",
        "            The model will be converted to a Binary Quadratic Model (BQM).\n",
        "        quantum (bool, optional): If `True`, quantum annealing will be used via D-Wave.\n",
        "            If `False` or not provided, simulated annealing will be used. Default is `False`.\n",
        "\n",
        "    Returns:\n",
        "        dict: A dictionary representing the best solution found, where keys are the\n",
        "              variables and values are the corresponding binary values (0 or 1).\n",
        "    \"\"\"\n",
        "\n",
        "    # Convert the QUBO model to a Binary Quadratic Model (BQM)\n",
        "    bqm = model.to_bqm()\n",
        "\n",
        "    # Select the sampler: Use quantum annealing if `quantum=True`, otherwise use simulated annealing\n",
        "    if quantum:\n",
        "        # Quantum annealing using D-Wave's quantum sampler with embedding composite\n",
        "        sampler = EmbeddingComposite(DWaveSampler())\n",
        "    else:\n",
        "        # Simulated annealing using a classical solver from the 'neal' library\n",
        "        sampler = neal.SimulatedAnnealingSampler()\n",
        "\n",
        "    # Sample from the BQM with 1000 reads (samples) to find the best solution\n",
        "    sampleset = sampler.sample(bqm, num_reads=1000)\n",
        "\n",
        "    # Extract the first (best) solution from the sampleset\n",
        "    sample = sampleset.first\n",
        "\n",
        "    return sample.sample, sample.energy"
      ]
    },
    {
      "cell_type": "code",
      "execution_count": 49,
      "id": "08a74da3-42f9-403d-a2dd-88731dfd00e2",
      "metadata": {
        "id": "08a74da3-42f9-403d-a2dd-88731dfd00e2"
      },
      "outputs": [],
      "source": [
        "simulated_annealing_sample, simulated_annealing_energy = solve_qubo_annealing(bpp_qubo_model)\n",
        "quantum_annealing_sample, quantum_annealing_energy = solve_qubo_annealing(bpp_qubo_model, 1)"
      ]
    },
    {
      "cell_type": "code",
      "execution_count": 50,
      "id": "73ee79b4-d8a6-4251-9f28-46527d9e91bb",
      "metadata": {
        "colab": {
          "base_uri": "https://localhost:8080/"
        },
        "id": "73ee79b4-d8a6-4251-9f28-46527d9e91bb",
        "outputId": "17007324-aa02-4965-f617-6a47ac461bc2"
      },
      "outputs": [
        {
          "output_type": "stream",
          "name": "stdout",
          "text": [
            "Minimum number of bins used: 2\n",
            "Bin 1 contains items: item 1 (weight 8) item 2 (weight 2) \n",
            "Bin 2 contains items: item 3 (weight 3) item 4 (weight 7) \n",
            "None\n",
            "Minimum energy of simulated annealing: 2.0\n",
            "Minimum number of bins used: 2\n",
            "Bin 2 contains items: item 1 (weight 8) item 2 (weight 2) \n",
            "Bin 4 contains items: item 3 (weight 3) item 4 (weight 7) \n",
            "None\n",
            "Minimum energy of quantum annealing: 2.0\n"
          ]
        }
      ],
      "source": [
        "print(parse_qubo_solution(simulated_annealing_sample, weights_small))\n",
        "print(f\"Minimum energy of simulated annealing: {simulated_annealing_energy}\")\n",
        "print(parse_qubo_solution(quantum_annealing_sample, weights_small))\n",
        "print(f\"Minimum energy of quantum annealing: {quantum_annealing_energy}\")"
      ]
    },
    {
      "cell_type": "markdown",
      "id": "725795b4-f9fc-4e40-9727-743f589f51ca",
      "metadata": {
        "id": "725795b4-f9fc-4e40-9727-743f589f51ca"
      },
      "source": [
        "# Section 3: Solving Ising Models with Variational Techniques"
      ]
    },
    {
      "cell_type": "markdown",
      "source": [
        "In this section, we attempt to solve the Bin Packing Problem (BPP) using a variational technique. Specifically, we use the Variational Quantum Eigensolver (VQE) to address the problem.\n",
        "\n",
        "Since VQE computes the smallest eigenvalue of an Ising Hamiltonian, the first step is to translate the BPP into an Ising model. Fortunately, PyQUBO provides a built-in function for this translation. However, the Ising model produced by PyQUBO is not directly compatible with Qiskit. To overcome this, we define a helper function that converts the PyQUBO Ising model into a format that is compatible with Qiskit."
      ],
      "metadata": {
        "id": "1U1FuEdo4BQf"
      },
      "id": "1U1FuEdo4BQf"
    },
    {
      "cell_type": "code",
      "source": [
        "bpp_qubo = get_qubo(weights_small, bin_capacity_small)"
      ],
      "metadata": {
        "id": "bAK-TURY_4Jz"
      },
      "id": "bAK-TURY_4Jz",
      "execution_count": 51,
      "outputs": []
    },
    {
      "cell_type": "code",
      "source": [
        "from qiskit.quantum_info import SparsePauliOp, Pauli"
      ],
      "metadata": {
        "id": "MubfW0zIQ4R-"
      },
      "id": "MubfW0zIQ4R-",
      "execution_count": 52,
      "outputs": []
    },
    {
      "cell_type": "code",
      "source": [
        "def pyqubo_to_qiskit_ising(qubo):\n",
        "    \"\"\"\n",
        "    Converts a PyQUBO QUBO model into a Qiskit-compatible Ising Hamiltonian.\n",
        "\n",
        "    Args:\n",
        "        qubo (pyqubo.PyQUBO): The QUBO model created using PyQUBO.\n",
        "\n",
        "    Returns:\n",
        "        tuple: A tuple containing:\n",
        "            - A Qiskit SparsePauliOp representing the Ising Hamiltonian.\n",
        "            - The offset term from the QUBO.\n",
        "\n",
        "    This function performs the following steps:\n",
        "    1. Translates the QUBO variables into qubit indices.\n",
        "    2. Extracts the linear and quadratic terms from the QUBO model.\n",
        "    3. Converts the linear terms into Pauli-Z operators for each qubit.\n",
        "    4. Converts the quadratic terms into Pauli-Z operators acting on pairs of qubits.\n",
        "    5. Returns the Ising Hamiltonian as a Qiskit SparsePauliOp and the offset.\n",
        "    \"\"\"\n",
        "\n",
        "    # Number of qubits corresponds to the number of variables in the QUBO model\n",
        "    num_qubits = len(qubo.variables)\n",
        "\n",
        "    # Map the QUBO variable names to qubit indices\n",
        "    term_to_qubit = dict(zip(qubo.variables, [i for i in range(num_qubits)]))\n",
        "\n",
        "    # Extract the linear terms, quadratic terms, and offset from the QUBO\n",
        "    linears = qubo.to_ising()[0]  # Linear terms\n",
        "    quadratics = qubo.to_ising()[1]  # Quadratic terms\n",
        "    offset = qubo.to_ising()[2]  # Offset term\n",
        "\n",
        "    # Initialize a list to hold Pauli terms (Pauli strings) for the Hamiltonian\n",
        "    pauli_list = []\n",
        "\n",
        "    # Convert linear terms to Pauli-Z operators (acting on a single qubit)\n",
        "    for term in linears.keys():\n",
        "        weight = linears[term]\n",
        "        z_string = ['I'] * num_qubits  # Start with identity ('I') for all qubits\n",
        "        i = term_to_qubit[term]  # Get the qubit index for this term\n",
        "        z_string[i] = 'Z'  # Replace identity with Pauli-Z operator for this qubit\n",
        "        pauli_list.append((weight, ''.join(z_string)))  # Add the Pauli-Z term with its weight\n",
        "\n",
        "    # Convert quadratic terms to Pauli-Z operators (acting on pairs of qubits)\n",
        "    for term in quadratics.keys():\n",
        "        weight = quadratics[term]\n",
        "        z_string = ['I'] * num_qubits  # Start with identity for all qubits\n",
        "        i = term_to_qubit[term[0]]  # Get the qubit index for the first variable in the pair\n",
        "        j = term_to_qubit[term[1]]  # Get the qubit index for the second variable in the pair\n",
        "        z_string[i] = 'Z'  # Apply Pauli-Z to the first qubit\n",
        "        z_string[j] = 'Z'  # Apply Pauli-Z to the second qubit\n",
        "        pauli_list.append((weight, ''.join(z_string)))  # Add the Pauli-Z pair term with its weight\n",
        "\n",
        "    # Extract the coefficients and Pauli strings for the Hamiltonian\n",
        "    coeffs = [term[0] for term in pauli_list]\n",
        "    paulis = [term[1] for term in pauli_list]\n",
        "\n",
        "    # Construct the Qiskit Ising Hamiltonian as a SparsePauliOp\n",
        "    hamiltonian = SparsePauliOp.from_list(list(zip(paulis, coeffs)))\n",
        "\n",
        "    # Return the Hamiltonian and the offset term\n",
        "    return hamiltonian, offset"
      ],
      "metadata": {
        "id": "mAGVdwfyJv-J"
      },
      "id": "mAGVdwfyJv-J",
      "execution_count": 53,
      "outputs": []
    },
    {
      "cell_type": "markdown",
      "source": [
        "Once the Ising model is made, we then define a base quantum ansatz. This ansatz will be optimized for low eigenvalue (best bin value solution) and will tune the circuit parameters towards the best bin packing assignment.\n",
        "\n",
        "Using Qiskit circuits, we create functions to both prepare an ansatz and use VQE to solve for the optimal bin assigment.\n",
        "\n",
        "Our chosen ansatz is the Hardware-Efficient Ansatz (HEA) which is frequently used for VQE. We also provide a layered ansatz and ucc ansatz which are also frequently used although in different contexts. We do our testing with HEA.\n",
        "\n",
        "Our VQE implementation uses the classical COBYLA optimizer which is popular due to its fast convergence, low memory, and flexibility on high dimensional spaces."
      ],
      "metadata": {
        "id": "gxirV9MmRHa9"
      },
      "id": "gxirV9MmRHa9"
    },
    {
      "cell_type": "code",
      "source": [
        "from qiskit.circuit import QuantumCircuit, Parameter"
      ],
      "metadata": {
        "id": "DtXDmdW7TQW6"
      },
      "id": "DtXDmdW7TQW6",
      "execution_count": 54,
      "outputs": []
    },
    {
      "cell_type": "code",
      "source": [
        "def create_hea_ansatz(num_qubits, depth=1):\n",
        "    \"\"\"\n",
        "    Creates a parameterized quantum circuit (ansatz) consisting of single-qubit\n",
        "    rotations and entangling gates (CNOTs). The circuit is designed for use in\n",
        "    variational quantum algorithms like the Variational Quantum Eigensolver (VQE).\n",
        "\n",
        "    The ansatz consists of a series of parameterized single-qubit rotations\n",
        "    (RX gates) followed by a layer of CNOT gates to introduce entanglement.\n",
        "    The depth parameter controls how many times this structure is repeated.\n",
        "\n",
        "    Args:\n",
        "        num_qubits (int): The number of qubits in the quantum circuit.\n",
        "        depth (int, optional): The depth of the circuit. A depth of 1 means\n",
        "                               only one layer of single-qubit rotations and\n",
        "                               CNOTs. Default is 1.\n",
        "\n",
        "    Returns:\n",
        "        QuantumCircuit: A quantum circuit with the specified number of qubits\n",
        "                        and parameterized gates.\n",
        "        list: A list of Parameters (θ_i) representing the variational parameters.\n",
        "    \"\"\"\n",
        "    # Create an empty quantum circuit with the specified number of qubits\n",
        "    qc = QuantumCircuit(num_qubits)\n",
        "\n",
        "    # Initialize a list of parameters for each qubit at each depth level\n",
        "    # The number of parameters will be num_qubits * depth\n",
        "    params = [Parameter(f\"θ_{i}\") for i in range(num_qubits * depth)]\n",
        "\n",
        "    count = 0  # Counter to track the current parameter\n",
        "\n",
        "    # Loop over the depth of the ansatz\n",
        "    for _ in range(depth):\n",
        "\n",
        "        # Apply RX rotations (parameterized single-qubit rotations) to each qubit\n",
        "        for qubit in range(num_qubits):\n",
        "            qc.rx(params[count], qubit)  # Apply RX gate with the current parameter\n",
        "            count += 1  # Move to the next parameter\n",
        "\n",
        "        # Apply CNOT gates (entangling gates) between consecutive qubits\n",
        "        for qubit in range(num_qubits - 1):\n",
        "            qc.cx(qubit, qubit + 1)  # Apply CNOT between qubit[i] and qubit[i+1]\n",
        "\n",
        "    # Return the quantum circuit and the list of parameters\n",
        "    return qc, params"
      ],
      "metadata": {
        "id": "nJWx8Lu5QN5k"
      },
      "id": "nJWx8Lu5QN5k",
      "execution_count": 55,
      "outputs": []
    },
    {
      "cell_type": "code",
      "source": [
        "def create_layered_ansatz(n_qubits, depth=1):\n",
        "    \"\"\"\n",
        "    Creates a layered ansatz circuit for quantum optimization problems.\n",
        "\n",
        "    This function constructs a parameterized quantum circuit with alternating\n",
        "    RX and RY rotations applied to each qubit, followed by CNOT gates to entangle\n",
        "    the qubits. The ansatz is repeated for the specified number of layers (depth).\n",
        "\n",
        "    Args:\n",
        "        n_qubits (int): The number of qubits in the quantum circuit.\n",
        "        depth (int): The number of layers of parameterized gates to apply.\n",
        "\n",
        "    Returns:\n",
        "        tuple: A tuple containing:\n",
        "            - `qc` (QuantumCircuit): The parameterized quantum circuit.\n",
        "            - `params` (list): A list of parameters associated with the gates.\n",
        "    \"\"\"\n",
        "    # Initialize the quantum circuit with the given number of qubits\n",
        "    qc = QuantumCircuit(n_qubits)\n",
        "\n",
        "    # Create a list of parameters for RX and RY gates, one for each qubit in each layer\n",
        "    params = [Parameter(f\"theta_{i}\") for i in range(n_qubits * depth * 2)]\n",
        "\n",
        "    # Initialize the parameter index to keep track of the next parameter to use\n",
        "    param_index = 0\n",
        "\n",
        "    # Apply the ansatz layers\n",
        "    for _ in range(depth):\n",
        "        # Apply RX and RY rotations to each qubit in the current layer\n",
        "        for i in range(n_qubits):\n",
        "            qc.rx(params[param_index], i)  # RX rotation on qubit i\n",
        "            qc.ry(params[param_index + 1], i)  # RY rotation on qubit i\n",
        "            param_index += 2  # Move to the next pair of parameters\n",
        "\n",
        "        # Apply CNOT gates between consecutive qubits to create entanglement\n",
        "        for i in range(n_qubits - 1):\n",
        "            qc.cx(i, i + 1)\n",
        "\n",
        "    # Return the quantum circuit and the list of parameters\n",
        "    return qc, params"
      ],
      "metadata": {
        "id": "W8TmZJfPcB-V"
      },
      "id": "W8TmZJfPcB-V",
      "execution_count": null,
      "outputs": []
    },
    {
      "cell_type": "code",
      "source": [
        "def creat_ucc_ansatz(n_qubits, depth):\n",
        "    \"\"\"\n",
        "    Creates a Unitery Coupled-Cluster (UCC) ansatz for quantum chemistry simulations.\n",
        "\n",
        "    This ansatz is commonly used in the Variational Quantum Eigensolver (VQE) algorithm\n",
        "    for quantum chemistry. It consists of applying parameterized RX rotations to each qubit,\n",
        "    followed by entangling CNOT gates between consecutive qubits. The number of layers (depth)\n",
        "    determines the expressiveness of the ansatz.\n",
        "\n",
        "    Args:\n",
        "        n_qubits (int): The number of qubits in the quantum circuit.\n",
        "        depth (int): The number of layers (depth) for the ansatz.\n",
        "\n",
        "    Returns:\n",
        "        tuple: A tuple containing:\n",
        "            - `qc` (QuantumCircuit): The parameterized quantum circuit.\n",
        "            - `params` (list): A list of parameters associated with the RX gates.\n",
        "    \"\"\"\n",
        "\n",
        "    # Initialize a quantum circuit with the specified number of qubits\n",
        "    qc = QuantumCircuit(n_qubits)\n",
        "\n",
        "    # Create a list of parameters for RX gates, one for each qubit in each layer\n",
        "    params = [Parameter(f\"theta_{i}\") for i in range(n_qubits * depth)]\n",
        "\n",
        "    # Apply the ansatz for the specified number of layers (depth)\n",
        "    for d in range(depth):\n",
        "        # Apply an RX rotation to each qubit in the current layer\n",
        "        for i in range(n_qubits):\n",
        "            qc.rx(params[d * n_qubits + i], i)  # Parameterized RX rotation on qubit i\n",
        "\n",
        "        # Apply CNOT gates between consecutive qubits to entangle them\n",
        "        for i in range(n_qubits - 1):\n",
        "            qc.cx(i, i + 1)  # CNOT gate between qubit i and qubit i+1\n",
        "\n",
        "    # Return the quantum circuit and the list of parameters\n",
        "    return qc, params"
      ],
      "metadata": {
        "id": "_xRCJIPxcelf"
      },
      "id": "_xRCJIPxcelf",
      "execution_count": null,
      "outputs": []
    },
    {
      "cell_type": "code",
      "source": [
        "import numpy as np\n",
        "from qiskit_aer import AerSimulator\n",
        "from qiskit_algorithms.optimizers import COBYLA\n",
        "from qiskit_algorithms import VQE\n",
        "from qiskit.primitives import Estimator"
      ],
      "metadata": {
        "id": "EEvMKFVqUAk3"
      },
      "id": "EEvMKFVqUAk3",
      "execution_count": 56,
      "outputs": []
    },
    {
      "cell_type": "code",
      "source": [
        "def solve_with_vqe(qubo, ansatz_depth=1, ansatz_choice=0):\n",
        "    \"\"\"\n",
        "    Solves a Quadratic Unconstrained Binary Optimization (QUBO) problem using the\n",
        "    Variational Quantum Eigensolver (VQE) algorithm. The QUBO is first converted to\n",
        "    an Ising Hamiltonian, and then the VQE algorithm is used to find the optimal\n",
        "    solution. The solution is sampled using a quantum simulator.\n",
        "\n",
        "    Args:\n",
        "        qubo (pyqubo.QUBO): The QUBO problem to solve, represented using the pyqubo\n",
        "                             package.\n",
        "        ansatz_depth (int, optional): The depth of the variational quantum ansatz.\n",
        "                                       A higher depth means more layers of gates in\n",
        "                                       the quantum circuit. Default is 1.\n",
        "\n",
        "    Returns:\n",
        "        tuple: A tuple containing:\n",
        "            - best_solution_vector (np.ndarray): The best binary solution found by\n",
        "                                                  the VQE algorithm, represented as\n",
        "                                                  a NumPy array.\n",
        "            - energy (float): The minimum energy corresponding to the best solution,\n",
        "                              including any offset from the QUBO to Ising conversion.\n",
        "    \"\"\"\n",
        "\n",
        "    # Step 1: Convert the QUBO problem into an Ising Hamiltonian and get the offset\n",
        "    hamiltonian, offset = pyqubo_to_qiskit_ising(qubo)\n",
        "\n",
        "    # Step 2: Define the ansatz (variational quantum circuit)\n",
        "    num_qubits = len(qubo.variables)  # The number of qubits is the number of QUBO variables\n",
        "\n",
        "    ansatz = None\n",
        "    params = None\n",
        "\n",
        "    if ansatz_choice == 0:\n",
        "        ansatz, params = create_hea_ansatz(num_qubits, ansatz_depth)  # Create the quantum circuit ansatz\n",
        "    elif ansatz_choice == 1:\n",
        "\n",
        "\n",
        "    # Step 3: Set up the Estimator and VQE solver\n",
        "    backend = AerSimulator()  # Use a quantum simulator as the backend for running the circuit\n",
        "    estimator = Estimator()  # Create an Estimator to compute the expectation values\n",
        "    vqe_solver = VQE(estimator, ansatz, optimizer=COBYLA())  # Set up the VQE solver with COBYLA optimizer\n",
        "\n",
        "    # Step 4: Run VQE to compute the minimum eigenvalue of the Ising Hamiltonian\n",
        "    result = vqe_solver.compute_minimum_eigenvalue(operator=hamiltonian)  # Compute the energy\n",
        "\n",
        "    # Step 5: Construct the quantum circuit with the optimal parameters found by VQE\n",
        "    sampled_circuit = ansatz.assign_parameters({param: value for param, value in zip(params, result.optimal_point)})\n",
        "    sampled_circuit.measure_all()  # Add measurement to all qubits\n",
        "\n",
        "    # Step 6: Run the circuit on a quantum simulator\n",
        "    job = backend.run(sampled_circuit, shots=1024)  # Run the circuit with 1024 shots (measurements)\n",
        "    counts = job.result().get_counts()  # Get the measurement results\n",
        "\n",
        "    # Step 7: Extract the best solution from the measurement results\n",
        "    best_solution_str = max(counts, key=counts.get)  # Find the most frequent outcome (best solution)\n",
        "    best_solution_vector = np.array([int(bit) for bit in best_solution_str[::-1]])  # Convert to binary vector\n",
        "\n",
        "    # Step 8: Return the best solution and the corresponding energy (including the offset)\n",
        "    return best_solution_vector, result.eigenvalue.real + offset"
      ],
      "metadata": {
        "id": "M7Q1jKnNIzVx"
      },
      "id": "M7Q1jKnNIzVx",
      "execution_count": 57,
      "outputs": []
    },
    {
      "cell_type": "code",
      "source": [
        "bin_assignment, val = solve_with_vqe(bpp_qubo)"
      ],
      "metadata": {
        "colab": {
          "base_uri": "https://localhost:8080/"
        },
        "id": "Hq5Zk848UD7s",
        "outputId": "dfe14be4-7b99-4f80-fba5-4334ba37319a"
      },
      "id": "Hq5Zk848UD7s",
      "execution_count": 58,
      "outputs": [
        {
          "output_type": "stream",
          "name": "stderr",
          "text": [
            "<ipython-input-57-bf97fc367962>:33: DeprecationWarning: The class ``qiskit.primitives.estimator.Estimator`` is deprecated as of qiskit 1.2. It will be removed no earlier than 3 months after the release date. All implementations of the `BaseEstimatorV1` interface have been deprecated in favor of their V2 counterparts. The V2 alternative for the `Estimator` class is `StatevectorEstimator`.\n",
            "  estimator = Estimator()  # Create an Estimator to compute the expectation values\n"
          ]
        }
      ]
    },
    {
      "cell_type": "code",
      "source": [
        "print(\"VQE solution to BPP: \", bin_assignment)"
      ],
      "metadata": {
        "colab": {
          "base_uri": "https://localhost:8080/"
        },
        "id": "n1GBEZXyVp8g",
        "outputId": "5b5e98da-ef28-43d1-f2c4-2139a6c63df1"
      },
      "id": "n1GBEZXyVp8g",
      "execution_count": 59,
      "outputs": [
        {
          "output_type": "stream",
          "name": "stdout",
          "text": [
            "VQE solution to BPP:  [1 0 1 0 1 0 0 1 1 0 1 1 1 1 1 1 0 0 1 1]\n"
          ]
        }
      ]
    },
    {
      "cell_type": "markdown",
      "source": [
        "# Section 4: Solving QUBOs with Quantum Approximate Optimization Algorithm"
      ],
      "metadata": {
        "id": "FvHQz9gyHRCB"
      },
      "id": "FvHQz9gyHRCB"
    },
    {
      "cell_type": "markdown",
      "source": [
        "To solve a QUBO problem using the Quantum Approximate Optimization Algorithm (QAOA), we follow a structured approach inspired by prior work with QAOA. Based on my experience, the most efficient strategy involves converting the PyQUBO model into a Qiskit QuadraticProgram format. This conversion is essential because it allows us to leverage Qiskit's powerful tools for optimization and quantum circuit construction.\n",
        "\n",
        "Once the QuadraticProgram is obtained, we proceed to build the QAOA circuit by defining several key components, including:\n",
        "\n",
        "*   Custom Cost Hamiltonian: Represents the problem's objective function.\n",
        "*   Mixer Hamiltonian: Facilitates exploration of the solution space.\n",
        "*   Expectation function: Measures the expected outcome of the quantum process.\n",
        "\n",
        "In the process of building the QAOA circuit, I also define two key helper functions: get_qp and get_qubo_matrix. While these functions share some overlap with previous QUBO models and with each other, they are essential for ensuring that the QUBO is represented in the appropriate form for QAOA. These dual representations are important because QAOA requires multiple views of the same QUBO model to interact effectively with different parts of the quantum optimization process."
      ],
      "metadata": {
        "id": "TtBgsj13XU-s"
      },
      "id": "TtBgsj13XU-s"
    },
    {
      "cell_type": "code",
      "source": [
        "from qiskit_optimization.translators import from_docplex_mp"
      ],
      "metadata": {
        "id": "kEy5UkNJh2px"
      },
      "id": "kEy5UkNJh2px",
      "execution_count": 60,
      "outputs": []
    },
    {
      "cell_type": "code",
      "source": [
        "def get_qp(weights, bin_capacity, single_assignment_penalty=10, bin_capacity_penalty=10):\n",
        "    \"\"\"\n",
        "    Converts the given Bin Packing Problem (BPP) model to a Qiskit Quadratic Program (QP) format.\n",
        "\n",
        "    Args:\n",
        "        model (pyomo.Model): The original BPP model.\n",
        "        weights (list): A list of item weights.\n",
        "        bin_capacity (int): The maximum capacity of each bin.\n",
        "        single_assignment_penalty (int, optional): The penalty applied for violating the constraint that each item\n",
        "            must be assigned to exactly one bin. Default is 10.\n",
        "        bin_capacity_penalty (int, optional): The penalty applied for violating the bin capacity constraint.\n",
        "            Default is 10.\n",
        "\n",
        "    Returns:\n",
        "        QuadraticProgram: A Qiskit Quadratic Program (QP) representing the BPP.\n",
        "\n",
        "    The function constructs a QP by:\n",
        "    1. Defining binary decision variables for assigning items to bins.\n",
        "    2. Defining binary variables to represent whether a bin is used.\n",
        "    3. Setting an objective to minimize the number of bins used.\n",
        "    4. Adding constraints for each item to be assigned to exactly one bin.\n",
        "    5. Adding constraints to ensure that bin capacity is not exceeded.\n",
        "    \"\"\"\n",
        "\n",
        "    # Number of items and bins (in the worst case, one bin per item)\n",
        "    n_items = len(weights)\n",
        "    n_bins = n_items\n",
        "\n",
        "    # Create a new Pyomo model for this QP conversion\n",
        "    model = Model()\n",
        "\n",
        "    # Define binary variables x[i][j] where x[i][j] is 1 if item i is placed in bin j, 0 otherwise\n",
        "    x = {(i, j): model.binary_var(name=f\"x_{i}_{j}\") for i in range(n_items) for j in range(n_bins)}\n",
        "\n",
        "    # Define binary variables y[j] where y[j] is 1 if bin j is used, 0 otherwise\n",
        "    y = {j: model.binary_var(name=f\"y_{j}\") for j in range(n_bins)}\n",
        "\n",
        "    # Objective function: Minimize the number of bins used (sum of y[j] over all bins)\n",
        "    H_obj = sum(y[j] for j in range(n_bins))\n",
        "\n",
        "    # Constraint 1: Each item must be assigned to exactly one bin\n",
        "    H_single_assignment = sum((sum(x[(i, j)] for j in range(n_bins)) - 1)**2 for i in range(n_items))\n",
        "\n",
        "    # Constraint 2: Bin capacity constraint\n",
        "    H_capacity = sum((sum(weights[i] * x[(i, j)] for i in range(n_items)) - bin_capacity * y[j])**2 for j in range(n_bins))\n",
        "\n",
        "    # Combine the objective and constraints into one Hamiltonian\n",
        "    # The penalties are applied to ensure that violations of constraints are heavily penalized\n",
        "    H = H_obj + single_assignment_penalty * H_single_assignment + bin_capacity_penalty * H_capacity\n",
        "\n",
        "    # Minimize the Hamiltonian to form the QP\n",
        "    model.minimize(H)\n",
        "\n",
        "    # Convert the Pyomo model to a Qiskit Quadratic Program (QP) format\n",
        "    qp = from_docplex_mp(model)\n",
        "\n",
        "    return qp"
      ],
      "metadata": {
        "id": "Xrw3xA_7hHMY"
      },
      "id": "Xrw3xA_7hHMY",
      "execution_count": 61,
      "outputs": []
    },
    {
      "cell_type": "code",
      "source": [
        "import numpy as np\n",
        "\n",
        "def get_qubo_matrix(weights, bin_capacity, penalty_weight=10):\n",
        "    \"\"\"\n",
        "    Generates the QUBO (Quadratic Unconstrained Binary Optimization) matrix for the bin packing problem.\n",
        "\n",
        "    This matrix is used to represent the bin packing problem as a quadratic optimization problem,\n",
        "    where the objective is to minimize the number of bins used while respecting bin capacity constraints\n",
        "    and ensuring that each item is assigned to exactly one bin.\n",
        "\n",
        "    Args:\n",
        "        weights (list): A list of item weights to be packed into bins.\n",
        "        bin_capacity (float): The maximum capacity of a single bin.\n",
        "        penalty_weight (float, optional): A weight used to penalize constraints that are violated (default is 10).\n",
        "\n",
        "    Returns:\n",
        "        np.ndarray: A square matrix representing the QUBO formulation of the bin packing problem.\n",
        "    \"\"\"\n",
        "\n",
        "    num_items = len(weights)  # Number of items to pack\n",
        "    num_bins = num_items  # Worst case: one bin per item (can be relaxed later)\n",
        "\n",
        "    total_vars = num_bins * num_items + num_bins  # Total number of binary variables (x_ij and y_j)\n",
        "    Q = np.zeros((total_vars, total_vars))  # Initialize the QUBO matrix as a zero matrix\n",
        "\n",
        "    # Helper function to compute the index of x_ij (item i assigned to bin j)\n",
        "    def x_index(i, j):\n",
        "        return i * num_bins + j\n",
        "\n",
        "    # Helper function to compute the index of y_j (bin j is used)\n",
        "    def y_index(j):\n",
        "        return num_items * num_bins + j\n",
        "\n",
        "    # Objective: Minimize the number of bins used (minimize y_j)\n",
        "    for j in range(num_bins):\n",
        "        # Add penalty for using bin j (we want to minimize the number of bins used)\n",
        "        Q[y_index(j), y_index(j)] += penalty_weight\n",
        "\n",
        "    # Single-bin assignment constraint: Ensure each item is assigned to exactly one bin\n",
        "    for i in range(num_items):\n",
        "        for j in range(num_bins):\n",
        "            # Subtract penalty for assigning item i to bin j (since this is part of the objective)\n",
        "            Q[x_index(i, j), x_index(i, j)] -= penalty_weight\n",
        "\n",
        "        # Add penalties to enforce exactly one bin per item (no double assignments)\n",
        "        for j in range(num_bins):\n",
        "            for k in range(j + 1, num_bins):\n",
        "                # If item i is assigned to both bin j and bin k, this is a violation\n",
        "                Q[x_index(i, j), x_index(i, k)] += 2 * penalty_weight\n",
        "\n",
        "    # Link x_ij and y_j: If item i is assigned to bin j, then bin j must be used (y_j = 1)\n",
        "    for i in range(num_items):\n",
        "        for j in range(num_bins):\n",
        "            # If x_ij is 1, then y_j must also be 1. Thus, we enforce this link.\n",
        "            Q[x_index(i, j), y_index(j)] -= penalty_weight\n",
        "            Q[y_index(j), y_index(j)] += penalty_weight\n",
        "\n",
        "    # Capacity constraint: Penalize if the combined weight of items in a bin exceeds the bin's capacity\n",
        "    for j in range(num_bins):\n",
        "        for i in range(num_items):\n",
        "            for k in range(i + 1, num_items):\n",
        "                # If the combined weight of items i and k exceeds the bin capacity, we add a penalty\n",
        "                if weights[i] + weights[k] > bin_capacity:\n",
        "                    Q[x_index(i, j), x_index(k, j)] += penalty_weight * (weights[i] + weights[k] - bin_capacity)\n",
        "\n",
        "    return Q"
      ],
      "metadata": {
        "id": "R8ppuYVKJO2Q"
      },
      "id": "R8ppuYVKJO2Q",
      "execution_count": 80,
      "outputs": []
    },
    {
      "cell_type": "markdown",
      "source": [
        "I finally define the BPP_QAOA class. This is a custom designed QAOA procedure for the bin packing problem. The architecture is the same proposed by (Farhi et al. 2014) and is nicely described in this video:\n",
        "\n",
        "https://www.youtube.com/watch?v=YpLzSQPrgSc&t=1129s\n",
        "\n",
        "Similar to VQE, we chose to use the Cobyla optimizer due to its fast convergence speed, flexibilty over high dimensional spaces, and low memory usage. Further details for the QAOA implementation and details are discussed in the docstrings and comments."
      ],
      "metadata": {
        "id": "hGzFTYNbYHRm"
      },
      "id": "hGzFTYNbYHRm"
    },
    {
      "cell_type": "code",
      "source": [
        "from qiskit_ibm_runtime import QiskitRuntimeService, SamplerV2 as Sampler\n",
        "from qiskit_optimization.converters import QuadraticProgramToQubo\n",
        "from qiskit.visualization import plot_histogram, circuit_drawer\n",
        "from qiskit import transpile, assemble\n",
        "from scipy.optimize import minimize\n",
        "from qiskit_aer import Aer\n",
        "\n",
        "from collections import defaultdict, Counter\n",
        "\n",
        "import math"
      ],
      "metadata": {
        "id": "Y3yQFmOoXBLm"
      },
      "id": "Y3yQFmOoXBLm",
      "execution_count": 81,
      "outputs": []
    },
    {
      "cell_type": "code",
      "source": [
        "class BPP_QAOA:\n",
        "    \"\"\"\n",
        "    A class that implements the QAOA (Quantum Approximate Optimization Algorithm) for solving the Bin Packing Problem (BPP).\n",
        "\n",
        "    This class is designed to formulate and solve the bin packing problem using a quantum computer.\n",
        "    It transforms the problem into a QUBO (Quadratic Unconstrained Binary Optimization) form and uses\n",
        "    QAOA to approximate the optimal solution.\n",
        "\n",
        "    Attributes:\n",
        "        weights (list): A list of item weights to be packed into bins.\n",
        "        bin_capacity (float): The maximum capacity of a single bin.\n",
        "        converter (QuadraticProgramToQubo): A converter that transforms a QuadraticProgram into a QUBO problem.\n",
        "        qp_qubo (QuadraticProgram): The QUBO problem corresponding to the bin packing problem.\n",
        "        qubo (np.ndarray): The QUBO matrix representing the problem.\n",
        "        backend (Backend): The quantum backend used for execution.\n",
        "        circuit (QuantumCircuit): The quantum circuit representing the QAOA ansatz.\n",
        "        depth (int): The number of layers (depth) for the QAOA circuit.\n",
        "        num_qubits (int): The number of qubits required to represent the QUBO problem.\n",
        "        quadratics (dict): The quadratic terms of the QUBO problem.\n",
        "        linears (dict): The linear terms of the QUBO problem.\n",
        "        constant (float): The constant term of the QUBO problem.\n",
        "    \"\"\"\n",
        "\n",
        "    def __init__(self, qp, weights, bin_capacity, depth=1, backend=Aer.get_backend('qasm_simulator')):\n",
        "        \"\"\"\n",
        "        Initializes the BPP_QAOA class.\n",
        "\n",
        "        Args:\n",
        "            qp (QuadraticProgram): The quadratic program formulation of the bin packing problem.\n",
        "            weights (list): A list of item weights to be packed into bins.\n",
        "            bin_capacity (float): The capacity of a single bin.\n",
        "            depth (int, optional): The depth of the QAOA circuit. Default is 1.\n",
        "            backend (Backend, optional): The quantum backend for the execution. Default is the QASM simulator.\n",
        "        \"\"\"\n",
        "        # Store the problem data\n",
        "        self.weights = weights\n",
        "        self.bin_capacity = bin_capacity\n",
        "\n",
        "        # Convert the quadratic program (QP) to QUBO form\n",
        "        self.converter = QuadraticProgramToQubo()\n",
        "        self.qp_qubo = self.converter.convert(qp)\n",
        "\n",
        "        # Generate the QUBO matrix based on weights and bin capacity\n",
        "        self.qubo = get_qubo_matrix(self.weights, self.bin_capacity)\n",
        "\n",
        "        # Store the backend and other variables\n",
        "        self.backend = backend\n",
        "        self.circuit = None\n",
        "        self.depth = depth\n",
        "        self.num_qubits = self.qp_qubo.get_num_vars()\n",
        "\n",
        "        # Convert the quadratic and linear terms of the QUBO to dictionaries\n",
        "        self.quadratics = dict(self.qp_qubo.objective.quadratic.to_dict())\n",
        "        self.linears = dict(self.qp_qubo.objective.linear.to_dict())\n",
        "        self.constant = self.qp_qubo.objective.constant\n",
        "\n",
        "    def cost_H(self, gamma, quadratics, linears):\n",
        "        \"\"\"\n",
        "        Constructs the cost Hamiltonian (the operator that encodes the objective function of the problem).\n",
        "\n",
        "        This Hamiltonian is responsible for encoding the QUBO quadratic and linear terms\n",
        "        into quantum operations. It uses `RZ` gates for linear terms and `RZZ` gates for quadratic terms.\n",
        "\n",
        "        Args:\n",
        "            gamma (float): The QAOA parameter for the cost Hamiltonian.\n",
        "            quadratics (dict): The quadratic terms of the QUBO problem.\n",
        "            linears (dict): The linear terms of the QUBO problem.\n",
        "\n",
        "        Returns:\n",
        "            QuantumCircuit: The quantum circuit representing the cost Hamiltonian.\n",
        "        \"\"\"\n",
        "        qc = QuantumCircuit(self.num_qubits)\n",
        "\n",
        "        # Apply linear terms as RZ rotations\n",
        "        for i in range(self.num_qubits):\n",
        "            linear_term = linears.get(i, 0)\n",
        "            quadratic_term = sum(quadratics.get((i, j), 0) for j in range(self.num_qubits))\n",
        "            qc.rz(0.5 * (linear_term + quadratic_term) * gamma, i)\n",
        "\n",
        "        # Apply quadratic terms as RZZ rotations for each pair of qubits\n",
        "        for (i, j), coeff in quadratics.items():\n",
        "            if i != j:\n",
        "                qc.rzz(0.25 * coeff * gamma, i, j)\n",
        "\n",
        "        qc.barrier()  # Add a barrier to separate sections of the circuit\n",
        "        return qc\n",
        "\n",
        "    def mixer_H(self, beta):\n",
        "        \"\"\"\n",
        "        Constructs the mixer Hamiltonian (the operator that encodes the mixing operations between states).\n",
        "\n",
        "        This Hamiltonian is used to mix the quantum states and explore different configurations. It\n",
        "        uses `RX` gates for the mixer.\n",
        "\n",
        "        Args:\n",
        "            beta (float): The QAOA parameter for the mixer Hamiltonian.\n",
        "\n",
        "        Returns:\n",
        "            QuantumCircuit: The quantum circuit representing the mixer Hamiltonian.\n",
        "        \"\"\"\n",
        "        qc = QuantumCircuit(self.num_qubits)\n",
        "        for i in range(self.num_qubits):\n",
        "            qc.rx(2 * beta, i)  # Apply RX rotations to each qubit\n",
        "        qc.barrier()  # Add a barrier to separate sections of the circuit\n",
        "        return qc\n",
        "\n",
        "    def qaoa_ansatz(self, gammas, betas, quadratics, linears):\n",
        "        \"\"\"\n",
        "        Constructs the QAOA ansatz circuit (the quantum circuit representing the alternating sequence\n",
        "        of cost and mixer Hamiltonians).\n",
        "\n",
        "        The ansatz applies the cost Hamiltonian and the mixer Hamiltonian alternately\n",
        "        for the specified number of layers (depth).\n",
        "\n",
        "        Args:\n",
        "            gammas (list): The list of gamma parameters for the cost Hamiltonian.\n",
        "            betas (list): The list of beta parameters for the mixer Hamiltonian.\n",
        "            quadratics (dict): The quadratic terms of the QUBO problem.\n",
        "            linears (dict): The linear terms of the QUBO problem.\n",
        "\n",
        "        Returns:\n",
        "            QuantumCircuit: The complete QAOA circuit.\n",
        "        \"\"\"\n",
        "        circuit = QuantumCircuit(self.num_qubits, self.num_qubits)\n",
        "        assert len(betas) == len(gammas)  # Ensure matching lengths for gammas and betas\n",
        "        p = len(betas)  # Number of layers (depth)\n",
        "\n",
        "        circuit.h(range(self.num_qubits))  # Apply Hadamard gate to all qubits to create superposition\n",
        "        circuit.barrier()  # Add a barrier to separate sections of the circuit\n",
        "\n",
        "        # Apply alternating layers of cost and mixer Hamiltonians\n",
        "        for i in range(p):\n",
        "            circuit.compose(self.cost_H(gammas[i], quadratics, linears), inplace=True)\n",
        "            circuit.compose(self.mixer_H(betas[i]), inplace=True)\n",
        "\n",
        "        circuit.measure(range(self.num_qubits), range(self.num_qubits))  # Measure the qubits\n",
        "        return circuit\n",
        "\n",
        "    def optimize_qaoa(self, initial_params=None):\n",
        "        \"\"\"\n",
        "        Optimizes the QAOA parameters using classical optimization.\n",
        "\n",
        "        The method minimizes the expectation value of the QUBO Hamiltonian by adjusting the\n",
        "        QAOA parameters (gammas and betas) using the COBYLA optimization algorithm.\n",
        "\n",
        "        Args:\n",
        "            initial_params (list, optional): The initial parameters for optimization. If None, defaults to [0.5] * (2 * depth).\n",
        "\n",
        "        Returns:\n",
        "            None: The optimized parameters are used to generate the final QAOA circuit.\n",
        "        \"\"\"\n",
        "        if initial_params is None:\n",
        "            initial_params = [0.5] * (2 * self.depth)  # Default to 0.5 for all parameters\n",
        "\n",
        "        # Define the expectation value function for QAOA\n",
        "        def bpp_expectation(theta):\n",
        "            middle = len(theta) // 2\n",
        "            gammas = theta[:middle]\n",
        "            betas = theta[middle:]\n",
        "            qc = self.qaoa_ansatz(gammas, betas, self.quadratics, self.linears)\n",
        "\n",
        "            # Run the quantum circuit on the backend and get the results\n",
        "            job = self.backend.run(transpile(qc, self.backend), shots=1024)\n",
        "            counts = job.result().get_counts()\n",
        "\n",
        "            # Calculate the energy of the system based on the QUBO matrix\n",
        "            energy = 0\n",
        "            for bitstring, count in counts.items():\n",
        "                z = np.array([1 if bit == '1' else -1 for bit in bitstring[::-1]])\n",
        "                energy += count * z.T @ self.qubo @ z\n",
        "\n",
        "            return energy / 1024  # Normalize the energy by the number of shots\n",
        "\n",
        "        # Minimize the expectation function using COBYLA optimizer\n",
        "        res = minimize(bpp_expectation, initial_params, method='COBYLA')\n",
        "\n",
        "        # Split the results into gammas and betas\n",
        "        middle = len(res.x) // 2\n",
        "        gammas = res.x[:middle]\n",
        "        betas = res.x[middle:]\n",
        "\n",
        "        # Generate the final QAOA circuit using the optimized parameters\n",
        "        self.circuit = self.qaoa_ansatz(gammas, betas, self.quadratics, self.linears)\n",
        "\n",
        "    def run_circuit(self):\n",
        "        \"\"\"\n",
        "        Executes the optimized QAOA circuit on the quantum backend and returns the results.\n",
        "\n",
        "        The circuit is transpiled for the selected backend, executed with a shot count of 1024,\n",
        "        and the 40 most common results are returned.\n",
        "\n",
        "        Returns:\n",
        "            dict: A dictionary containing the 40 most common measurement results.\n",
        "        \"\"\"\n",
        "        transpiled_circuit = transpile(self.circuit, self.backend)\n",
        "        job = self.backend.run(transpiled_circuit, shots=1024)\n",
        "        counts = job.result().get_counts()\n",
        "        most_common_results = dict(Counter(counts).most_common(40))  # Get the 40 most common results\n",
        "\n",
        "        def find_most_common_solutions(input_dict, n):\n",
        "            sorted_keys = sorted(input_dict, key=input_dict.get, reverse=True)\n",
        "            return sorted_keys[:n]\n",
        "\n",
        "        most_common_bitstring = find_most_common_solutions(counts, 1)\n",
        "\n",
        "        return most_common_results, most_common_bitstring"
      ],
      "metadata": {
        "id": "PwlDESL5iukW"
      },
      "id": "PwlDESL5iukW",
      "execution_count": 100,
      "outputs": []
    },
    {
      "cell_type": "code",
      "source": [
        "bpp_qp = get_qp(weights_small, bin_capacity_small)\n",
        "bpp_qaoa = BPP_QAOA(bpp_qp, weights_small, bin_capacity_small)"
      ],
      "metadata": {
        "id": "R_1Uv2Doe4UA"
      },
      "id": "R_1Uv2Doe4UA",
      "execution_count": 101,
      "outputs": []
    },
    {
      "cell_type": "code",
      "execution_count": 112,
      "id": "7dcb43cc-0bd1-4261-b333-29d3f239645d",
      "metadata": {
        "id": "7dcb43cc-0bd1-4261-b333-29d3f239645d"
      },
      "outputs": [],
      "source": [
        "bpp_qaoa.optimize_qaoa()\n",
        "qaoa_histogram_results, qaoa_bpp_solution = bpp_qaoa.run_circuit()"
      ]
    },
    {
      "cell_type": "code",
      "source": [
        "print(\"QAOA solution to BPP: \" + str(qaoa_bpp_solution))"
      ],
      "metadata": {
        "colab": {
          "base_uri": "https://localhost:8080/"
        },
        "id": "3OotBki62yiz",
        "outputId": "ca700901-264d-4eaf-dd72-da8fe5fd69ee"
      },
      "id": "3OotBki62yiz",
      "execution_count": 113,
      "outputs": [
        {
          "output_type": "stream",
          "name": "stdout",
          "text": [
            "QAOA solution to BPP: ['01100111110111001000']\n"
          ]
        }
      ]
    },
    {
      "cell_type": "markdown",
      "source": [
        "# Section 5: Comparisons and Conclusions"
      ],
      "metadata": {
        "id": "Ps04HhfxaOtd"
      },
      "id": "Ps04HhfxaOtd"
    },
    {
      "cell_type": "markdown",
      "source": [
        "## Analysis of Bin Packing Solutions for Small, Medium, and Large Instances\n",
        "We evaluated the performance of various algorithms for solving bin packing problems of different sizes—small, medium, and large. These tests were done seperately to avoid notebook clutter. The results highlight how these methods scale as the problem size increases and provide insights into their strengths and weaknesses.\n",
        "\n",
        "### Small Instance Results\n",
        "**Integer Linear Programming (ILP)**: ILP found the optimal solution. This configuration was optimal and met all capacity constraints. The solution was computed quickly and accurately.\n",
        "\n",
        "**Brute Force**: Brute force also identified the optimal solution, confirming the correctness of the ILP result. Since the problem was small, brute force performed well, but it’s worth noting that its time complexity grows exponentially, making it impractical for larger instances.\n",
        "\n",
        "**D-Wave Quantum Annealing**: D-Wave produced the same optimal solution as ILP and brute force, demonstrating that the quantum annealer could effectively converge to the best solution for this small problem instance. The quantum annealer was able to handle the problem efficiently and quickly, matching the classical methods.\n",
        "\n",
        "**VQE (Variational Quantum Eigensolver)**: VQE provided a suboptimal solution with a higher value (less negative) than the optimal solution found by ILP, brute force, and D-Wave. This suggests that VQE had difficulty converging to the best configuration for this instance, potentially due to limitations in its parameter optimization or circuit depth.\n",
        "\n",
        "**QAOA (Quantum Approximate Optimization Algorithm)**: QAOA performed better than VQE but did not achieve the optimal solution found by ILP or D-Wave. The solution was close to optimal but still slightly off, possibly due to the depth of the quantum circuit or suboptimal parameter choices.\n",
        "\n",
        "### Key Takeaways for Small Instances:\n",
        "\n",
        "ILP and brute force provide reliable, optimal solutions.\n",
        "D-Wave demonstrated the potential of quantum annealing to solve small combinatorial problems optimally and efficiently.\n",
        "VQE and QAOA performed less optimally, potentially due to issues with parameter optimization, circuit depth, or noise.\n",
        "\n",
        "### Medium Instance Results\n",
        "**Integer Linear Programming (ILP)**: ILP was able to find the optimal solution, though it took longer than for the small instance. As the number of items increased, ILP required more processing time, but it still produced an optimal configuration and met all capacity constraints in a reasonable time frame.\n",
        "\n",
        "**Brute Force**: Brute force was still able to find the optimal solution, but it became noticeably slower as the problem size grew. The exponential time complexity of brute force made it less practical for medium-sized problems, although it was still usable for this instance. The increased computation time highlighted the scalability issues of brute force.\n",
        "\n",
        "**D-Wave Quantum Annealing**: D-Wave continued to perform well for the medium-sized instance, providing an optimal solution in a faster time than brute force and ILP. The quantum annealer demonstrated its efficiency at this scale, handling the increased complexity without running into memory issues or excessive computation times.\n",
        "\n",
        "**VQE (Variational Quantum Eigensolver)**: VQE showed some improvement over the small instance, but it still struggled to reach the optimal solution. The solution was close but had a higher value than the ILP result, indicating that VQE was unable to find the best configuration. The faster convergence compared to the small instance was a sign of progress, but more refinement in the algorithm was needed for reliable optimal results at this scale.\n",
        "\n",
        "**QAOA (Quantum Approximate Optimization Algorithm)**: QAOA performed better than VQE in this case, providing a solution that was closer to optimal. It outperformed VQE in terms of solution quality and speed, although it still did not achieve the optimal solution. QAOA benefited from a better circuit depth or parameter setup compared to the small case but was still an approximate method and could not guarantee optimal results.\n",
        "\n",
        "### Key Takeaways for Medium Instances:\n",
        "\n",
        "ILP and brute force still provide optimal solutions, though brute force is less practical due to increased computation time.\n",
        "D-Wave proved to be an efficient method, solving the problem quickly while maintaining accuracy.\n",
        "VQE and QAOA performed better than in the small instance, with QAOA performing closer to optimal. However, both still struggled to guarantee optimal solutions, indicating that further optimization and deeper circuits may be needed for larger medium-sized problems.\n",
        "\n",
        "### Large Instance Results\n",
        "**Integer Linear Programming (ILP)**: ILP was able to find the optimal solution, but the time required to process the larger instance grew significantly. While ILP can guarantee an optimal solution, the computational resources and time required to solve large instances become a limitation. The solver still produced correct solutions, but as the problem size grows, the time required for solution increases dramatically due to the exponential complexity of solving linear programming problems with many variables and constraints.\n",
        "\n",
        "**Brute Force**: Brute force, while guaranteed to find the optimal solution, took an excessive amount of time due to the exponential growth in the number of combinations that needed to be evaluated. The time required to complete the solution made brute force impractical for large instances, highlighting the scalability challenges of this method.\n",
        "\n",
        "**VQE (Variational Quantum Eigensolver)**: VQE encountered a memory error during execution, likely due to the complexity of the problem. The memory required to store the quantum state space and process the Hamiltonian grew exponentially with the number of qubits, causing the algorithm to fail for larger instances. This points to the need for further development in quantum algorithms to handle larger problem spaces efficiently.\n",
        "\n",
        "**QAOA (Quantum Approximate Optimization Algorithm)**: QAOA also encountered a memory error, similar to VQE. The increasing complexity of the quantum circuit required too many resources, and the backend could not handle the computation. This suggests that the circuit complexity was too high for the available resources, limiting the performance of QAOA on large instances.\n",
        "\n",
        "**D-Wave Quantum Annealing**: D-Wave was the only method that successfully found an optimal solution. It did so efficiently, without encountering memory issues or excessive computation times. The quantum annealer was able to handle the larger problem instance, showcasing its scalability and resource efficiency in solving combinatorial optimization problems at large scales.\n",
        "\n",
        "## Conclusion\n",
        "In summary, D-Wave quantum annealing emerged as the most robust and scalable solution, effectively handling both small and large bin packing problems, while classical methods like ILP and Brute Force were reliable for smaller instances but faced scalability issues. Quantum methods like VQE and QAOA demonstrated potential but are not yet capable of consistently solving large-scale combinatorial optimization problems without further refinement."
      ],
      "metadata": {
        "id": "GudMCnwPgQMF"
      },
      "id": "GudMCnwPgQMF"
    }
  ],
  "metadata": {
    "kernelspec": {
      "display_name": "Python 3 (ipykernel)",
      "language": "python",
      "name": "python3"
    },
    "language_info": {
      "codemirror_mode": {
        "name": "ipython",
        "version": 3
      },
      "file_extension": ".py",
      "mimetype": "text/x-python",
      "name": "python",
      "nbconvert_exporter": "python",
      "pygments_lexer": "ipython3",
      "version": "3.8.19"
    },
    "colab": {
      "provenance": []
    }
  },
  "nbformat": 4,
  "nbformat_minor": 5
}
